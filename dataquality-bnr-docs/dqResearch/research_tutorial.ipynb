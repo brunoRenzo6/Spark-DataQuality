{
 "cells": [
  {
   "cell_type": "markdown",
   "id": "ecec8766",
   "metadata": {},
   "source": [
    "# dqResearch"
   ]
  },
  {
   "cell_type": "code",
   "execution_count": 1,
   "id": "83d2adbc",
   "metadata": {
    "collapsed": true,
    "execution": {
     "iopub.execute_input": "2022-02-04T18:35:58.374467Z",
     "iopub.status.busy": "2022-02-04T18:35:58.374113Z",
     "iopub.status.idle": "2022-02-04T18:36:06.873981Z",
     "shell.execute_reply": "2022-02-04T18:36:06.873183Z",
     "shell.execute_reply.started": "2022-02-04T18:35:58.374438Z"
    },
    "jupyter": {
     "outputs_hidden": true
    }
   },
   "outputs": [
    {
     "name": "stdout",
     "output_type": "stream",
     "text": [
      "\u001b[33mWARNING: The directory '/home/gutenuser/.cache/pip' or its parent directory is not owned or is not writable by the current user. The cache has been disabled. Check the permissions and owner of that directory. If executing pip with sudo, you should use sudo's -H flag.\u001b[0m\n",
      "Looking in indexes: http://artifactory.produbanbr.corp/artifactory/api/pypi/pypi-all/simple\n",
      "Collecting dataquality_bnr\n",
      "  Downloading http://artifactory.produbanbr.corp/artifactory/api/pypi/pypi-all/dataquality-bnr/0.3.5/dataquality_bnr-0.3.5-py3-none-any.whl (1.6 MB)\n",
      "\u001b[K     |████████████████████████████████| 1.6 MB 25.4 MB/s eta 0:00:01\n",
      "\u001b[?25hRequirement already satisfied: importlib-resources in /opt/miniconda/lib/python3.6/site-packages (from dataquality_bnr) (5.2.2)\n",
      "Requirement already satisfied: pandas in /opt/miniconda/lib/python3.6/site-packages (from dataquality_bnr) (1.1.5)\n",
      "Requirement already satisfied: PyYAML in /opt/miniconda/lib/python3.6/site-packages (from dataquality_bnr) (5.2)\n",
      "Requirement already satisfied: pydeequ==1.0.1 in /opt/miniconda/lib/python3.6/site-packages (from dataquality_bnr) (1.0.1)\n",
      "Requirement already satisfied: numpy>=1.14.1 in /opt/miniconda/lib/python3.6/site-packages (from pydeequ==1.0.1->dataquality_bnr) (1.19.5)\n",
      "Requirement already satisfied: pytz>=2017.2 in /opt/miniconda/lib/python3.6/site-packages (from pandas->dataquality_bnr) (2021.1)\n",
      "Requirement already satisfied: python-dateutil>=2.7.3 in /opt/miniconda/lib/python3.6/site-packages (from pandas->dataquality_bnr) (2.8.2)\n",
      "Requirement already satisfied: six>=1.5 in /opt/miniconda/lib/python3.6/site-packages (from python-dateutil>=2.7.3->pandas->dataquality_bnr) (1.11.0)\n",
      "Requirement already satisfied: zipp>=3.1.0 in /opt/miniconda/lib/python3.6/site-packages (from importlib-resources->dataquality_bnr) (3.5.0)\n",
      "Installing collected packages: dataquality-bnr\n",
      "Successfully installed dataquality-bnr-0.3.5\n",
      "\u001b[33mWARNING: You are using pip version 21.2.4; however, version 21.3.1 is available.\n",
      "You should consider upgrading via the '/opt/miniconda/bin/python3 -m pip install --upgrade pip' command.\u001b[0m\n"
     ]
    }
   ],
   "source": [
    "!pip install dataquality_bnr"
   ]
  },
  {
   "cell_type": "markdown",
   "id": "98096992",
   "metadata": {},
   "source": [
    "### Set up a PySpark session\n",
    "A biblioteca foi construida para ser utilizada com __PySpark__ e possibilitar '*testes unitarios dos dados*', executando validacoes qualitativas em datasets de larga escala.</br>\n",
    "A integracao da sessao spark e a biblioteca depende apenas de duas configuracoes adicionais:\n"
   ]
  },
  {
   "cell_type": "code",
   "execution_count": 2,
   "id": "3aa13cc7",
   "metadata": {
    "execution": {
     "iopub.execute_input": "2022-02-04T18:36:24.236428Z",
     "iopub.status.busy": "2022-02-04T18:36:24.236065Z",
     "iopub.status.idle": "2022-02-04T18:36:24.264202Z",
     "shell.execute_reply": "2022-02-04T18:36:24.263247Z",
     "shell.execute_reply.started": "2022-02-04T18:36:24.236392Z"
    }
   },
   "outputs": [],
   "source": [
    "from pyspark.sql import functions as F"
   ]
  },
  {
   "cell_type": "code",
   "execution_count": null,
   "id": "4af4ef7d",
   "metadata": {},
   "outputs": [],
   "source": []
  },
  {
   "cell_type": "code",
   "execution_count": 10,
   "id": "eeab4a9b",
   "metadata": {
    "execution": {
     "iopub.execute_input": "2022-02-04T19:05:27.866155Z",
     "iopub.status.busy": "2022-02-04T19:05:27.865713Z",
     "iopub.status.idle": "2022-02-04T19:05:27.888793Z",
     "shell.execute_reply": "2022-02-04T19:05:27.887746Z",
     "shell.execute_reply.started": "2022-02-04T19:05:27.866116Z"
    }
   },
   "outputs": [
    {
     "data": {
      "text/plain": [
       "pydeequ.verification.VerificationSuite"
      ]
     },
     "execution_count": 10,
     "metadata": {},
     "output_type": "execute_result"
    }
   ],
   "source": [
    "from pydeequ.verification import *\n",
    "VerificationSuite"
   ]
  },
  {
   "cell_type": "code",
   "execution_count": 3,
   "id": "f9171317",
   "metadata": {
    "execution": {
     "iopub.execute_input": "2022-02-04T18:36:24.349417Z",
     "iopub.status.busy": "2022-02-04T18:36:24.349025Z",
     "iopub.status.idle": "2022-02-04T18:36:57.161875Z",
     "shell.execute_reply": "2022-02-04T18:36:57.160767Z",
     "shell.execute_reply.started": "2022-02-04T18:36:24.349378Z"
    }
   },
   "outputs": [],
   "source": [
    "from pyspark.sql import SparkSession, Row\n",
    "from dataquality_bnr.dqSupport import main as dqSup\n",
    "\n",
    "spark = SparkSession\\\n",
    "        .builder\\\n",
    "        .config(\"spark.jars\", dqSup.getDeequJar_path())\\\n",
    "        .config(\"spark.jars.excludes\", dqSup.getDeequJar_excludes())\\\n",
    "        .getOrCreate()"
   ]
  },
  {
   "cell_type": "markdown",
   "id": "108e4b1c",
   "metadata": {},
   "source": [
    "## Load Dataset"
   ]
  },
  {
   "cell_type": "code",
   "execution_count": 74,
   "id": "1e8a236f",
   "metadata": {
    "execution": {
     "iopub.execute_input": "2022-02-02T15:05:13.769639Z",
     "iopub.status.busy": "2022-02-02T15:05:13.769310Z",
     "iopub.status.idle": "2022-02-02T15:05:13.868016Z",
     "shell.execute_reply": "2022-02-02T15:05:13.866997Z",
     "shell.execute_reply.started": "2022-02-02T15:05:13.769557Z"
    }
   },
   "outputs": [],
   "source": [
    "sql_query = \"\"\"\n",
    "select\n",
    "    i1c_renda_final,\n",
    "    i1c_lim_pre_ap_preventivo,\n",
    "    i1c_rating_riscos,\n",
    "    i1d_idade,\n",
    "    i1d_sexo,\n",
    "    i1c_cli_possui_conta,\n",
    "    i1c_soc_cd_segm_empr1,\n",
    "    i1c_soc_cd_ramo_atvd1,\n",
    "    dat_ref_carga\n",
    "from th.thbpd381 where dat_ref_carga='2022-01-03'\n",
    "\"\"\"\n",
    "df_input = spark.sql(sql_query)"
   ]
  },
  {
   "cell_type": "code",
   "execution_count": 75,
   "id": "86b97eb4",
   "metadata": {
    "execution": {
     "iopub.execute_input": "2022-02-02T15:05:13.931000Z",
     "iopub.status.busy": "2022-02-02T15:05:13.930713Z",
     "iopub.status.idle": "2022-02-02T15:05:13.936447Z",
     "shell.execute_reply": "2022-02-02T15:05:13.935710Z",
     "shell.execute_reply.started": "2022-02-02T15:05:13.930975Z"
    }
   },
   "outputs": [
    {
     "name": "stdout",
     "output_type": "stream",
     "text": [
      "root\n",
      " |-- i1c_renda_final: integer (nullable = true)\n",
      " |-- i1c_lim_pre_ap_preventivo: integer (nullable = true)\n",
      " |-- i1c_rating_riscos: integer (nullable = true)\n",
      " |-- i1d_idade: integer (nullable = true)\n",
      " |-- i1d_sexo: string (nullable = true)\n",
      " |-- i1c_cli_possui_conta: string (nullable = true)\n",
      " |-- i1c_soc_cd_segm_empr1: integer (nullable = true)\n",
      " |-- i1c_soc_cd_ramo_atvd1: integer (nullable = true)\n",
      " |-- dat_ref_carga: string (nullable = true)\n",
      "\n"
     ]
    }
   ],
   "source": [
    "df_input.printSchema()"
   ]
  },
  {
   "cell_type": "markdown",
   "id": "5dc00b51",
   "metadata": {},
   "source": [
    "## Research on data\n",
    "with __dqRes.runProfile()__ and __dqRes.runConstraintSuggestion()__"
   ]
  },
  {
   "cell_type": "code",
   "execution_count": 64,
   "id": "2ae3ebc6",
   "metadata": {
    "execution": {
     "iopub.execute_input": "2022-02-02T15:02:56.366856Z",
     "iopub.status.busy": "2022-02-02T15:02:56.366526Z",
     "iopub.status.idle": "2022-02-02T15:02:56.370680Z",
     "shell.execute_reply": "2022-02-02T15:02:56.370024Z",
     "shell.execute_reply.started": "2022-02-02T15:02:56.366806Z"
    }
   },
   "outputs": [],
   "source": [
    "from dataquality_bnr.dqResearch import main as dqRes"
   ]
  },
  {
   "cell_type": "code",
   "execution_count": null,
   "id": "f9109a23",
   "metadata": {},
   "outputs": [],
   "source": []
  },
  {
   "cell_type": "markdown",
   "id": "9eebc35c",
   "metadata": {
    "execution": {
     "iopub.execute_input": "2021-12-21T20:13:47.931436Z",
     "iopub.status.busy": "2021-12-21T20:13:47.931063Z",
     "iopub.status.idle": "2021-12-21T20:13:47.936066Z",
     "shell.execute_reply": "2021-12-21T20:13:47.934990Z",
     "shell.execute_reply.started": "2021-12-21T20:13:47.931397Z"
    }
   },
   "source": [
    "### runProfile()"
   ]
  },
  {
   "cell_type": "markdown",
   "id": "6cf16e15",
   "metadata": {},
   "source": [
    "O processo interno de Profiling depende da passagem de um diretório para execucao e o nome de um arquivo .json que será gerado como saída. Os resultados em sua forma \"bruta\" serao armazenado temporariamente nesse json, e a lib dataquality_bnr trará uma abstracao acessível desses resultados em um dataframe de saída."
   ]
  },
  {
   "cell_type": "code",
   "execution_count": 68,
   "id": "f519a8e1",
   "metadata": {
    "execution": {
     "iopub.execute_input": "2022-02-02T15:03:24.794395Z",
     "iopub.status.busy": "2022-02-02T15:03:24.794071Z",
     "iopub.status.idle": "2022-02-02T15:03:24.798649Z",
     "shell.execute_reply": "2022-02-02T15:03:24.798082Z",
     "shell.execute_reply.started": "2022-02-02T15:03:24.794353Z"
    }
   },
   "outputs": [],
   "source": [
    "metrics_file = \"/tmp/arquivo/para/processamento/interno/file.json\""
   ]
  },
  {
   "cell_type": "code",
   "execution_count": 69,
   "id": "0318ff5b",
   "metadata": {
    "execution": {
     "iopub.execute_input": "2022-02-02T15:03:24.946348Z",
     "iopub.status.busy": "2022-02-02T15:03:24.946045Z",
     "iopub.status.idle": "2022-02-02T15:03:36.266124Z",
     "shell.execute_reply": "2022-02-02T15:03:36.265341Z",
     "shell.execute_reply.started": "2022-02-02T15:03:24.946319Z"
    }
   },
   "outputs": [],
   "source": [
    "profile_df = dqRes.runProfile(spark, df_input, metrics_file)"
   ]
  },
  {
   "cell_type": "code",
   "execution_count": 70,
   "id": "20f417d6",
   "metadata": {
    "execution": {
     "iopub.execute_input": "2022-02-02T15:03:36.267527Z",
     "iopub.status.busy": "2022-02-02T15:03:36.267329Z",
     "iopub.status.idle": "2022-02-02T15:03:37.081139Z",
     "shell.execute_reply": "2022-02-02T15:03:37.080199Z",
     "shell.execute_reply.started": "2022-02-02T15:03:36.267505Z"
    }
   },
   "outputs": [
    {
     "name": "stdout",
     "output_type": "stream",
     "text": [
      "+--------------------+--------------------+-------------------+-------------+\n",
      "|              column|              metric|              value|research_date|\n",
      "+--------------------+--------------------+-------------------+-------------+\n",
      "|i1c_lim_pre_ap_pr...|        Completeness|                1.0|   2022-02-02|\n",
      "|i1c_lim_pre_ap_pr...| ApproxCountDistinct|                2.0|   2022-02-02|\n",
      "|i1c_lim_pre_ap_pr...|             Minimum|                0.0|   2022-02-02|\n",
      "|i1c_lim_pre_ap_pr...|             Maximum|                2.0|   2022-02-02|\n",
      "|i1c_lim_pre_ap_pr...|                Mean|0.01650938167414294|   2022-02-02|\n",
      "|i1c_lim_pre_ap_pr...|   StandardDeviation|0.18095912153031535|   2022-02-02|\n",
      "|i1c_lim_pre_ap_pr...|                 Sum|             8936.0|   2022-02-02|\n",
      "|           i1d_idade|        Completeness|                1.0|   2022-02-02|\n",
      "|           i1d_idade| ApproxCountDistinct|              125.0|   2022-02-02|\n",
      "|           i1d_idade|             Minimum|                0.0|   2022-02-02|\n",
      "|           i1d_idade|             Maximum|              124.0|   2022-02-02|\n",
      "|           i1d_idade|                Mean|   53.9417829984407|   2022-02-02|\n",
      "|           i1d_idade|   StandardDeviation| 14.860442431353526|   2022-02-02|\n",
      "|           i1d_idade|                 Sum|        2.9196961E7|   2022-02-02|\n",
      "|i1c_cli_possui_conta|        Completeness|                1.0|   2022-02-02|\n",
      "|i1c_cli_possui_conta| ApproxCountDistinct|                2.0|   2022-02-02|\n",
      "|i1c_cli_possui_conta|      Histogram.bins|                5.0|   2022-02-02|\n",
      "|i1c_cli_possui_conta|Histogram.abs.Boo...|                0.0|   2022-02-02|\n",
      "|i1c_cli_possui_conta|Histogram.ratio.B...|                0.0|   2022-02-02|\n",
      "|i1c_cli_possui_conta|Histogram.abs.Fra...|                0.0|   2022-02-02|\n",
      "+--------------------+--------------------+-------------------+-------------+\n",
      "only showing top 20 rows\n",
      "\n"
     ]
    }
   ],
   "source": [
    "profile_df.show()"
   ]
  },
  {
   "cell_type": "markdown",
   "id": "cfcdfbd7",
   "metadata": {
    "execution": {
     "iopub.execute_input": "2021-12-21T20:05:09.280652Z",
     "iopub.status.busy": "2021-12-21T20:05:09.280304Z",
     "iopub.status.idle": "2021-12-21T20:05:09.284787Z",
     "shell.execute_reply": "2021-12-21T20:05:09.283775Z",
     "shell.execute_reply.started": "2021-12-21T20:05:09.280618Z"
    }
   },
   "source": [
    "##### Save as .xlsx"
   ]
  },
  {
   "cell_type": "code",
   "execution_count": 47,
   "id": "34f71b37",
   "metadata": {
    "execution": {
     "iopub.execute_input": "2022-02-02T14:54:00.778577Z",
     "iopub.status.busy": "2022-02-02T14:54:00.778271Z",
     "iopub.status.idle": "2022-02-02T14:54:03.177605Z",
     "shell.execute_reply": "2022-02-02T14:54:03.176630Z",
     "shell.execute_reply.started": "2022-02-02T14:54:00.778548Z"
    }
   },
   "outputs": [],
   "source": [
    "file_name=\"excelFiles/profileExcel_df.xlsx\"\n",
    "dqSup.convertToExcel(spark, profile_df, excel_writer=file_name)"
   ]
  },
  {
   "cell_type": "markdown",
   "id": "ee91b6af",
   "metadata": {
    "execution": {
     "iopub.execute_input": "2021-12-21T20:05:29.810816Z",
     "iopub.status.busy": "2021-12-21T20:05:29.810209Z",
     "iopub.status.idle": "2021-12-21T20:05:29.816576Z",
     "shell.execute_reply": "2021-12-21T20:05:29.815157Z",
     "shell.execute_reply.started": "2021-12-21T20:05:29.810736Z"
    }
   },
   "source": [
    "##### Save as .parquet"
   ]
  },
  {
   "cell_type": "code",
   "execution_count": 48,
   "id": "0756cee2",
   "metadata": {
    "execution": {
     "iopub.execute_input": "2022-02-02T14:54:19.371458Z",
     "iopub.status.busy": "2022-02-02T14:54:19.371151Z",
     "iopub.status.idle": "2022-02-02T14:54:19.375652Z",
     "shell.execute_reply": "2022-02-02T14:54:19.374448Z",
     "shell.execute_reply.started": "2022-02-02T14:54:19.371431Z"
    }
   },
   "outputs": [],
   "source": [
    "file_name=\"profile_df\"\n",
    "profile_parquet_path=\"/user/x266727/casoDeUso/dqResearch/thbpd381/\"+file_name"
   ]
  },
  {
   "cell_type": "code",
   "execution_count": 49,
   "id": "04681378",
   "metadata": {
    "execution": {
     "iopub.execute_input": "2022-02-02T14:54:19.558106Z",
     "iopub.status.busy": "2022-02-02T14:54:19.557708Z",
     "iopub.status.idle": "2022-02-02T14:54:21.769116Z",
     "shell.execute_reply": "2022-02-02T14:54:21.768072Z",
     "shell.execute_reply.started": "2022-02-02T14:54:19.558073Z"
    }
   },
   "outputs": [],
   "source": [
    "profile_df.write.mode(\"overwrite\").parquet(profile_parquet_path)"
   ]
  },
  {
   "cell_type": "markdown",
   "id": "24586338",
   "metadata": {},
   "source": [
    "### runConstraintSuggestion()"
   ]
  },
  {
   "cell_type": "code",
   "execution_count": 50,
   "id": "e973e3d1",
   "metadata": {
    "execution": {
     "iopub.execute_input": "2022-02-02T14:54:34.719134Z",
     "iopub.status.busy": "2022-02-02T14:54:34.718818Z",
     "iopub.status.idle": "2022-02-02T14:54:47.974123Z",
     "shell.execute_reply": "2022-02-02T14:54:47.973423Z",
     "shell.execute_reply.started": "2022-02-02T14:54:34.719105Z"
    }
   },
   "outputs": [],
   "source": [
    "suggestions_df = dqRes.runConstraintSuggestion(spark, df_input)"
   ]
  },
  {
   "cell_type": "code",
   "execution_count": 51,
   "id": "4db718ea",
   "metadata": {
    "execution": {
     "iopub.execute_input": "2022-02-02T14:54:47.976098Z",
     "iopub.status.busy": "2022-02-02T14:54:47.975521Z",
     "iopub.status.idle": "2022-02-02T14:54:49.828423Z",
     "shell.execute_reply": "2022-02-02T14:54:49.827477Z",
     "shell.execute_reply.started": "2022-02-02T14:54:47.976063Z"
    }
   },
   "outputs": [
    {
     "name": "stdout",
     "output_type": "stream",
     "text": [
      "+---------------------------------------------------------------------------------------------------------------+\n",
      "|code_for_constraint                                                                                            |\n",
      "+---------------------------------------------------------------------------------------------------------------+\n",
      "|.isComplete(\"i1d_idade\")                                                                                       |\n",
      "|.isNonNegative(\"i1d_idade\")                                                                                    |\n",
      "|.isContainedIn(\"i1c_lim_pre_ap_preventivo\", [\"0\", \"2\"])                                                        |\n",
      "|.isComplete(\"i1c_lim_pre_ap_preventivo\")                                                                       |\n",
      "|.isContainedIn(\"i1c_lim_pre_ap_preventivo\", [\"0\"], lambda x: x >= 0.99, \"It should be above 0.99!\")            |\n",
      "|.isNonNegative(\"i1c_lim_pre_ap_preventivo\")                                                                    |\n",
      "|.isContainedIn(\"dat_ref_carga\", [\"2022-01-03\"])                                                                |\n",
      "|.isComplete(\"dat_ref_carga\")                                                                                   |\n",
      "|.isContainedIn(\"i1c_cli_possui_conta\", [\"1\", \"0\"])                                                             |\n",
      "|.isComplete(\"i1c_cli_possui_conta\")                                                                            |\n",
      "|.isNonNegative(\"i1c_cli_possui_conta\")                                                                         |\n",
      "|.hasDataType(\"i1c_cli_possui_conta\", ConstrainableDataTypes.Integral)                                          |\n",
      "|.isContainedIn(\"i1d_sexo\", [\"M\", \"F\", \" \"])                                                                    |\n",
      "|.isComplete(\"i1d_sexo\")                                                                                        |\n",
      "|.isContainedIn(\"i1d_sexo\", [\"M\", \"F\"], lambda x: x >= 0.99, \"It should be above 0.99!\")                        |\n",
      "|.isNonNegative(\"i1c_soc_cd_ramo_atvd1\")                                                                        |\n",
      "|.isContainedIn(\"i1c_rating_riscos\", [\"0\", \"1\", \"2\", \"7\", \"9\", \"8\", \"6\", \"4\", \"5\"])                             |\n",
      "|.isComplete(\"i1c_rating_riscos\")                                                                               |\n",
      "|.isContainedIn(\"i1c_rating_riscos\", [\"0\", \"1\", \"2\", \"7\", \"9\"], lambda x: x >= 0.93, \"It should be above 0.93!\")|\n",
      "|.isNonNegative(\"i1c_rating_riscos\")                                                                            |\n",
      "+---------------------------------------------------------------------------------------------------------------+\n",
      "only showing top 20 rows\n",
      "\n"
     ]
    }
   ],
   "source": [
    "suggestions_df.select(F.col(\"code_for_constraint\")).show(truncate=False)"
   ]
  },
  {
   "cell_type": "markdown",
   "id": "74f1cdb9",
   "metadata": {
    "execution": {
     "iopub.execute_input": "2021-12-21T20:05:09.280652Z",
     "iopub.status.busy": "2021-12-21T20:05:09.280304Z",
     "iopub.status.idle": "2021-12-21T20:05:09.284787Z",
     "shell.execute_reply": "2021-12-21T20:05:09.283775Z",
     "shell.execute_reply.started": "2021-12-21T20:05:09.280618Z"
    }
   },
   "source": [
    "##### Save as .xlsx"
   ]
  },
  {
   "cell_type": "code",
   "execution_count": 54,
   "id": "83316933",
   "metadata": {
    "execution": {
     "iopub.execute_input": "2022-02-02T15:00:57.741203Z",
     "iopub.status.busy": "2022-02-02T15:00:57.740792Z",
     "iopub.status.idle": "2022-02-02T15:00:57.745245Z",
     "shell.execute_reply": "2022-02-02T15:00:57.744287Z",
     "shell.execute_reply.started": "2022-02-02T15:00:57.741164Z"
    }
   },
   "outputs": [],
   "source": [
    "file_name=\"excelFiles/suggestionsExcel_df.xlsx\""
   ]
  },
  {
   "cell_type": "code",
   "execution_count": 55,
   "id": "7beebc0c",
   "metadata": {
    "execution": {
     "iopub.execute_input": "2022-02-02T15:01:00.364698Z",
     "iopub.status.busy": "2022-02-02T15:01:00.364092Z",
     "iopub.status.idle": "2022-02-02T15:01:02.033256Z",
     "shell.execute_reply": "2022-02-02T15:01:02.032289Z",
     "shell.execute_reply.started": "2022-02-02T15:01:00.364627Z"
    }
   },
   "outputs": [],
   "source": [
    "dqSup.convertToExcel(spark, suggestions_df, excel_writer=file_name)"
   ]
  },
  {
   "cell_type": "markdown",
   "id": "4de60d90",
   "metadata": {
    "execution": {
     "iopub.execute_input": "2021-12-21T20:05:29.810816Z",
     "iopub.status.busy": "2021-12-21T20:05:29.810209Z",
     "iopub.status.idle": "2021-12-21T20:05:29.816576Z",
     "shell.execute_reply": "2021-12-21T20:05:29.815157Z",
     "shell.execute_reply.started": "2021-12-21T20:05:29.810736Z"
    }
   },
   "source": [
    "##### Save as .parquet"
   ]
  },
  {
   "cell_type": "code",
   "execution_count": 4,
   "id": "7d64f1ba",
   "metadata": {
    "execution": {
     "iopub.execute_input": "2022-02-04T18:39:02.558048Z",
     "iopub.status.busy": "2022-02-04T18:39:02.557630Z",
     "iopub.status.idle": "2022-02-04T18:39:02.563308Z",
     "shell.execute_reply": "2022-02-04T18:39:02.562190Z",
     "shell.execute_reply.started": "2022-02-04T18:39:02.558012Z"
    }
   },
   "outputs": [],
   "source": [
    "file_name=\"suggestions_df\"\n",
    "sugg_parquet_path=\"/user/x266727/casoDeUso/dqResearch/thbpd381/\"+file_name"
   ]
  },
  {
   "cell_type": "code",
   "execution_count": 57,
   "id": "edae66f3",
   "metadata": {
    "execution": {
     "iopub.execute_input": "2022-02-02T15:01:24.496383Z",
     "iopub.status.busy": "2022-02-02T15:01:24.495952Z",
     "iopub.status.idle": "2022-02-02T15:01:25.454053Z",
     "shell.execute_reply": "2022-02-02T15:01:25.434430Z",
     "shell.execute_reply.started": "2022-02-02T15:01:24.496343Z"
    }
   },
   "outputs": [],
   "source": [
    "suggestions_df.write.mode(\"overwrite\").parquet(sugg_parquet_path)"
   ]
  },
  {
   "cell_type": "code",
   "execution_count": null,
   "id": "4572294f",
   "metadata": {},
   "outputs": [],
   "source": []
  },
  {
   "cell_type": "markdown",
   "id": "b88cb528",
   "metadata": {},
   "source": [
    "## Diving deep...\n",
    "Load researched data back from storage and analyze it closely"
   ]
  },
  {
   "cell_type": "code",
   "execution_count": 5,
   "id": "de6b0ef8",
   "metadata": {
    "execution": {
     "iopub.execute_input": "2022-02-04T18:39:08.571765Z",
     "iopub.status.busy": "2022-02-04T18:39:08.571328Z",
     "iopub.status.idle": "2022-02-04T18:39:15.593575Z",
     "shell.execute_reply": "2022-02-04T18:39:15.592270Z",
     "shell.execute_reply.started": "2022-02-04T18:39:08.571714Z"
    }
   },
   "outputs": [],
   "source": [
    "profile_df = spark.read.parquet(profile_parquet_path)\n",
    "suggestions_df = spark.read.parquet(sugg_parquet_path)"
   ]
  },
  {
   "cell_type": "code",
   "execution_count": 79,
   "id": "02ea0758",
   "metadata": {
    "execution": {
     "iopub.execute_input": "2022-02-02T15:05:50.361635Z",
     "iopub.status.busy": "2022-02-02T15:05:50.361310Z",
     "iopub.status.idle": "2022-02-02T15:05:50.370482Z",
     "shell.execute_reply": "2022-02-02T15:05:50.368774Z",
     "shell.execute_reply.started": "2022-02-02T15:05:50.361591Z"
    }
   },
   "outputs": [
    {
     "name": "stdout",
     "output_type": "stream",
     "text": [
      "root\n",
      " |-- i1c_renda_final: integer (nullable = true)\n",
      " |-- i1c_lim_pre_ap_preventivo: integer (nullable = true)\n",
      " |-- i1c_rating_riscos: integer (nullable = true)\n",
      " |-- i1d_idade: integer (nullable = true)\n",
      " |-- i1d_sexo: string (nullable = true)\n",
      " |-- i1c_cli_possui_conta: string (nullable = true)\n",
      " |-- i1c_soc_cd_segm_empr1: integer (nullable = true)\n",
      " |-- i1c_soc_cd_ramo_atvd1: integer (nullable = true)\n",
      " |-- dat_ref_carga: string (nullable = true)\n",
      "\n"
     ]
    }
   ],
   "source": [
    "df_input.printSchema()"
   ]
  },
  {
   "cell_type": "code",
   "execution_count": null,
   "id": "04f07ee2",
   "metadata": {},
   "outputs": [],
   "source": []
  },
  {
   "cell_type": "markdown",
   "id": "6076d496",
   "metadata": {},
   "source": [
    "##### root"
   ]
  },
  {
   "cell_type": "code",
   "execution_count": 80,
   "id": "7ca03326",
   "metadata": {
    "execution": {
     "iopub.execute_input": "2022-02-02T15:05:52.673671Z",
     "iopub.status.busy": "2022-02-02T15:05:52.672950Z",
     "iopub.status.idle": "2022-02-02T15:05:54.457331Z",
     "shell.execute_reply": "2022-02-02T15:05:54.456328Z",
     "shell.execute_reply.started": "2022-02-02T15:05:52.673614Z"
    }
   },
   "outputs": [
    {
     "name": "stdout",
     "output_type": "stream",
     "text": [
      "+------+------+--------+-------------+\n",
      "|column|metric|value   |research_date|\n",
      "+------+------+--------+-------------+\n",
      "|*     |Size  |541268.0|2022-02-02   |\n",
      "+------+------+--------+-------------+\n",
      "\n"
     ]
    }
   ],
   "source": [
    "profile_df.filter(F.col(\"column\")==\"*\").show(truncate=False)"
   ]
  },
  {
   "cell_type": "markdown",
   "id": "c8e64fab",
   "metadata": {},
   "source": [
    "##### |-- i1c_renda_final: integer (nullable = true)"
   ]
  },
  {
   "cell_type": "code",
   "execution_count": 81,
   "id": "7132fde9",
   "metadata": {
    "execution": {
     "iopub.execute_input": "2022-02-02T15:05:56.354469Z",
     "iopub.status.busy": "2022-02-02T15:05:56.354074Z",
     "iopub.status.idle": "2022-02-02T15:05:58.355692Z",
     "shell.execute_reply": "2022-02-02T15:05:58.354601Z",
     "shell.execute_reply.started": "2022-02-02T15:05:56.354434Z"
    }
   },
   "outputs": [
    {
     "name": "stdout",
     "output_type": "stream",
     "text": [
      "+---------------+-------------------+-----------------+-------------+\n",
      "|column         |metric             |value            |research_date|\n",
      "+---------------+-------------------+-----------------+-------------+\n",
      "|i1c_renda_final|Completeness       |1.0              |2022-02-02   |\n",
      "|i1c_renda_final|ApproxCountDistinct|23551.0          |2022-02-02   |\n",
      "|i1c_renda_final|Minimum            |0.0              |2022-02-02   |\n",
      "|i1c_renda_final|Maximum            |9.9999999E7      |2022-02-02   |\n",
      "|i1c_renda_final|Mean               |9662.858364063643|2022-02-02   |\n",
      "|i1c_renda_final|StandardDeviation  |725924.6431629129|2022-02-02   |\n",
      "|i1c_renda_final|Sum                |5.230196021E9    |2022-02-02   |\n",
      "+---------------+-------------------+-----------------+-------------+\n",
      "\n"
     ]
    }
   ],
   "source": [
    "profile_df.filter(F.col(\"column\")==\"i1c_renda_final\").show(truncate=False)"
   ]
  },
  {
   "cell_type": "code",
   "execution_count": 82,
   "id": "78006749",
   "metadata": {
    "execution": {
     "iopub.execute_input": "2022-02-02T15:05:58.357527Z",
     "iopub.status.busy": "2022-02-02T15:05:58.357186Z",
     "iopub.status.idle": "2022-02-02T15:06:01.158425Z",
     "shell.execute_reply": "2022-02-02T15:06:01.157552Z",
     "shell.execute_reply.started": "2022-02-02T15:05:58.357476Z"
    }
   },
   "outputs": [
    {
     "name": "stdout",
     "output_type": "stream",
     "text": [
      "+---------------------------------+---------------+\n",
      "|code_for_constraint              |column_name    |\n",
      "+---------------------------------+---------------+\n",
      "|.isComplete(\"i1c_renda_final\")   |i1c_renda_final|\n",
      "|.isNonNegative(\"i1c_renda_final\")|i1c_renda_final|\n",
      "+---------------------------------+---------------+\n",
      "\n"
     ]
    }
   ],
   "source": [
    "(suggestions_df.filter(F.col(\"column_name\")==\"i1c_renda_final\")\n",
    " .select(F.col(\"code_for_constraint\"), F.col(\"column_name\"))).show(truncate=False)"
   ]
  },
  {
   "cell_type": "code",
   "execution_count": null,
   "id": "629d9c93",
   "metadata": {},
   "outputs": [],
   "source": []
  },
  {
   "cell_type": "markdown",
   "id": "341c0aa0",
   "metadata": {},
   "source": [
    "##### |-- i1c_lim_pre_ap_preventivo: integer (nullable = true)"
   ]
  },
  {
   "cell_type": "code",
   "execution_count": 83,
   "id": "ce4d6d2b",
   "metadata": {
    "execution": {
     "iopub.execute_input": "2022-02-02T15:06:07.188001Z",
     "iopub.status.busy": "2022-02-02T15:06:07.187595Z",
     "iopub.status.idle": "2022-02-02T15:06:09.004148Z",
     "shell.execute_reply": "2022-02-02T15:06:09.003056Z",
     "shell.execute_reply.started": "2022-02-02T15:06:07.187939Z"
    }
   },
   "outputs": [
    {
     "name": "stdout",
     "output_type": "stream",
     "text": [
      "+-------------------------+-------------------+-------------------+-------------+\n",
      "|column                   |metric             |value              |research_date|\n",
      "+-------------------------+-------------------+-------------------+-------------+\n",
      "|i1c_lim_pre_ap_preventivo|Completeness       |1.0                |2022-02-02   |\n",
      "|i1c_lim_pre_ap_preventivo|ApproxCountDistinct|2.0                |2022-02-02   |\n",
      "|i1c_lim_pre_ap_preventivo|Minimum            |0.0                |2022-02-02   |\n",
      "|i1c_lim_pre_ap_preventivo|Maximum            |2.0                |2022-02-02   |\n",
      "|i1c_lim_pre_ap_preventivo|Mean               |0.01650938167414294|2022-02-02   |\n",
      "|i1c_lim_pre_ap_preventivo|StandardDeviation  |0.18095912153031535|2022-02-02   |\n",
      "|i1c_lim_pre_ap_preventivo|Sum                |8936.0             |2022-02-02   |\n",
      "|i1c_lim_pre_ap_preventivo|Histogram.bins     |2.0                |2022-02-02   |\n",
      "|i1c_lim_pre_ap_preventivo|Histogram.abs.2    |4468.0             |2022-02-02   |\n",
      "|i1c_lim_pre_ap_preventivo|Histogram.ratio.2  |0.00825469083707147|2022-02-02   |\n",
      "|i1c_lim_pre_ap_preventivo|Histogram.abs.0    |536800.0           |2022-02-02   |\n",
      "|i1c_lim_pre_ap_preventivo|Histogram.ratio.0  |0.9917453091629286 |2022-02-02   |\n",
      "+-------------------------+-------------------+-------------------+-------------+\n",
      "\n"
     ]
    }
   ],
   "source": [
    "profile_df.filter(F.col(\"column\")==\"i1c_lim_pre_ap_preventivo\").show(truncate=False)"
   ]
  },
  {
   "cell_type": "code",
   "execution_count": 84,
   "id": "3c08e144",
   "metadata": {
    "execution": {
     "iopub.execute_input": "2022-02-02T15:06:13.780306Z",
     "iopub.status.busy": "2022-02-02T15:06:13.779872Z",
     "iopub.status.idle": "2022-02-02T15:06:15.708606Z",
     "shell.execute_reply": "2022-02-02T15:06:15.707696Z",
     "shell.execute_reply.started": "2022-02-02T15:06:13.780266Z"
    }
   },
   "outputs": [
    {
     "name": "stdout",
     "output_type": "stream",
     "text": [
      "+---------------------------------------------------------------------------------------------------+-------------------------+\n",
      "|code_for_constraint                                                                                |column_name              |\n",
      "+---------------------------------------------------------------------------------------------------+-------------------------+\n",
      "|.isContainedIn(\"i1c_lim_pre_ap_preventivo\", [\"0\", \"2\"])                                            |i1c_lim_pre_ap_preventivo|\n",
      "|.isComplete(\"i1c_lim_pre_ap_preventivo\")                                                           |i1c_lim_pre_ap_preventivo|\n",
      "|.isContainedIn(\"i1c_lim_pre_ap_preventivo\", [\"0\"], lambda x: x >= 0.99, \"It should be above 0.99!\")|i1c_lim_pre_ap_preventivo|\n",
      "|.isNonNegative(\"i1c_lim_pre_ap_preventivo\")                                                        |i1c_lim_pre_ap_preventivo|\n",
      "+---------------------------------------------------------------------------------------------------+-------------------------+\n",
      "\n"
     ]
    }
   ],
   "source": [
    "(suggestions_df.filter(F.col(\"column_name\")==\"i1c_lim_pre_ap_preventivo\")\n",
    " .select(F.col(\"code_for_constraint\"), F.col(\"column_name\"))).show(truncate=False)"
   ]
  },
  {
   "cell_type": "code",
   "execution_count": null,
   "id": "7b5ebfae",
   "metadata": {},
   "outputs": [],
   "source": []
  },
  {
   "cell_type": "markdown",
   "id": "a5749f12",
   "metadata": {},
   "source": [
    "##### |-- i1c_rating_riscos: integer (nullable = true)"
   ]
  },
  {
   "cell_type": "code",
   "execution_count": 85,
   "id": "217c029a",
   "metadata": {
    "execution": {
     "iopub.execute_input": "2022-02-02T15:06:29.851390Z",
     "iopub.status.busy": "2022-02-02T15:06:29.851062Z",
     "iopub.status.idle": "2022-02-02T15:06:31.590968Z",
     "shell.execute_reply": "2022-02-02T15:06:31.589801Z",
     "shell.execute_reply.started": "2022-02-02T15:06:29.851351Z"
    }
   },
   "outputs": [
    {
     "name": "stdout",
     "output_type": "stream",
     "text": [
      "+-----------------+-----------------+--------------------+-------------+\n",
      "|column           |metric           |value               |research_date|\n",
      "+-----------------+-----------------+--------------------+-------------+\n",
      "|i1c_rating_riscos|Histogram.bins   |9.0                 |2022-02-02   |\n",
      "|i1c_rating_riscos|Histogram.abs.8  |15510.0             |2022-02-02   |\n",
      "|i1c_rating_riscos|Histogram.ratio.8|0.028654936186879698|2022-02-02   |\n",
      "|i1c_rating_riscos|Histogram.abs.4  |7235.0              |2022-02-02   |\n",
      "|i1c_rating_riscos|Histogram.ratio.4|0.013366761013028666|2022-02-02   |\n",
      "|i1c_rating_riscos|Histogram.abs.9  |19293.0             |2022-02-02   |\n",
      "|i1c_rating_riscos|Histogram.ratio.9|0.03564408019687105 |2022-02-02   |\n",
      "|i1c_rating_riscos|Histogram.abs.5  |3.0                 |2022-02-02   |\n",
      "|i1c_rating_riscos|Histogram.ratio.5|5.542540848526054E-6|2022-02-02   |\n",
      "|i1c_rating_riscos|Histogram.abs.6  |12866.0             |2022-02-02   |\n",
      "|i1c_rating_riscos|Histogram.ratio.6|0.023770110185712068|2022-02-02   |\n",
      "|i1c_rating_riscos|Histogram.abs.1  |182627.0            |2022-02-02   |\n",
      "|i1c_rating_riscos|Histogram.ratio.1|0.33740586918125587 |2022-02-02   |\n",
      "|i1c_rating_riscos|Histogram.abs.0  |205319.0            |2022-02-02   |\n",
      "|i1c_rating_riscos|Histogram.ratio.0|0.3793296481595069  |2022-02-02   |\n",
      "|i1c_rating_riscos|Histogram.abs.2  |66049.0             |2022-02-02   |\n",
      "|i1c_rating_riscos|Histogram.ratio.2|0.12202642683476578 |2022-02-02   |\n",
      "|i1c_rating_riscos|Histogram.abs.7  |32366.0             |2022-02-02   |\n",
      "|i1c_rating_riscos|Histogram.ratio.7|0.059796625701131416|2022-02-02   |\n",
      "|i1c_rating_riscos|Completeness     |1.0                 |2022-02-02   |\n",
      "+-----------------+-----------------+--------------------+-------------+\n",
      "only showing top 20 rows\n",
      "\n"
     ]
    }
   ],
   "source": [
    "profile_df.filter(F.col(\"column\")==\"i1c_rating_riscos\").show(truncate=False)"
   ]
  },
  {
   "cell_type": "code",
   "execution_count": 86,
   "id": "a9b30af3",
   "metadata": {
    "execution": {
     "iopub.execute_input": "2022-02-02T15:06:34.056191Z",
     "iopub.status.busy": "2022-02-02T15:06:34.055875Z",
     "iopub.status.idle": "2022-02-02T15:06:35.815452Z",
     "shell.execute_reply": "2022-02-02T15:06:35.814216Z",
     "shell.execute_reply.started": "2022-02-02T15:06:34.056162Z"
    }
   },
   "outputs": [
    {
     "name": "stdout",
     "output_type": "stream",
     "text": [
      "+---------------------------------------------------------------------------------------------------------------+-----------------+\n",
      "|code_for_constraint                                                                                            |column_name      |\n",
      "+---------------------------------------------------------------------------------------------------------------+-----------------+\n",
      "|.isContainedIn(\"i1c_rating_riscos\", [\"0\", \"1\", \"2\", \"7\", \"9\", \"8\", \"6\", \"4\", \"5\"])                             |i1c_rating_riscos|\n",
      "|.isComplete(\"i1c_rating_riscos\")                                                                               |i1c_rating_riscos|\n",
      "|.isContainedIn(\"i1c_rating_riscos\", [\"0\", \"1\", \"2\", \"7\", \"9\"], lambda x: x >= 0.93, \"It should be above 0.93!\")|i1c_rating_riscos|\n",
      "|.isNonNegative(\"i1c_rating_riscos\")                                                                            |i1c_rating_riscos|\n",
      "+---------------------------------------------------------------------------------------------------------------+-----------------+\n",
      "\n"
     ]
    }
   ],
   "source": [
    "(suggestions_df.filter(F.col(\"column_name\")==\"i1c_rating_riscos\")\n",
    " .select(F.col(\"code_for_constraint\"), F.col(\"column_name\"))).show(truncate=False)"
   ]
  },
  {
   "cell_type": "code",
   "execution_count": null,
   "id": "d4b3d02b",
   "metadata": {},
   "outputs": [],
   "source": []
  },
  {
   "cell_type": "markdown",
   "id": "085fdfa0",
   "metadata": {},
   "source": [
    "##### |-- i1d_idade: integer (nullable = true)"
   ]
  },
  {
   "cell_type": "code",
   "execution_count": 87,
   "id": "c2fc880b",
   "metadata": {
    "execution": {
     "iopub.execute_input": "2022-02-02T15:06:38.965820Z",
     "iopub.status.busy": "2022-02-02T15:06:38.965541Z",
     "iopub.status.idle": "2022-02-02T15:06:40.863586Z",
     "shell.execute_reply": "2022-02-02T15:06:40.862601Z",
     "shell.execute_reply.started": "2022-02-02T15:06:38.965793Z"
    }
   },
   "outputs": [
    {
     "name": "stdout",
     "output_type": "stream",
     "text": [
      "+---------+-------------------+------------------+-------------+\n",
      "|column   |metric             |value             |research_date|\n",
      "+---------+-------------------+------------------+-------------+\n",
      "|i1d_idade|Completeness       |1.0               |2022-02-02   |\n",
      "|i1d_idade|ApproxCountDistinct|125.0             |2022-02-02   |\n",
      "|i1d_idade|Minimum            |0.0               |2022-02-02   |\n",
      "|i1d_idade|Maximum            |124.0             |2022-02-02   |\n",
      "|i1d_idade|Mean               |53.9417829984407  |2022-02-02   |\n",
      "|i1d_idade|StandardDeviation  |14.860442431353526|2022-02-02   |\n",
      "|i1d_idade|Sum                |2.9196961E7       |2022-02-02   |\n",
      "+---------+-------------------+------------------+-------------+\n",
      "\n"
     ]
    }
   ],
   "source": [
    "profile_df.filter(F.col(\"column\")==\"i1d_idade\").show(truncate=False)"
   ]
  },
  {
   "cell_type": "code",
   "execution_count": 88,
   "id": "47639996",
   "metadata": {
    "execution": {
     "iopub.execute_input": "2022-02-02T15:06:40.865435Z",
     "iopub.status.busy": "2022-02-02T15:06:40.865160Z",
     "iopub.status.idle": "2022-02-02T15:06:42.687799Z",
     "shell.execute_reply": "2022-02-02T15:06:42.686623Z",
     "shell.execute_reply.started": "2022-02-02T15:06:40.865408Z"
    }
   },
   "outputs": [
    {
     "name": "stdout",
     "output_type": "stream",
     "text": [
      "+---------------------------+-----------+\n",
      "|code_for_constraint        |column_name|\n",
      "+---------------------------+-----------+\n",
      "|.isComplete(\"i1d_idade\")   |i1d_idade  |\n",
      "|.isNonNegative(\"i1d_idade\")|i1d_idade  |\n",
      "+---------------------------+-----------+\n",
      "\n"
     ]
    }
   ],
   "source": [
    "(suggestions_df.filter(F.col(\"column_name\")==\"i1d_idade\")\n",
    " .select(F.col(\"code_for_constraint\"), F.col(\"column_name\"))).show(truncate=False)"
   ]
  },
  {
   "cell_type": "code",
   "execution_count": null,
   "id": "5db57776",
   "metadata": {},
   "outputs": [],
   "source": []
  },
  {
   "cell_type": "markdown",
   "id": "9b2c3c4e",
   "metadata": {},
   "source": [
    "##### |-- i1d_sexo: string (nullable = true)"
   ]
  },
  {
   "cell_type": "code",
   "execution_count": 89,
   "id": "f3b6278d",
   "metadata": {
    "execution": {
     "iopub.execute_input": "2022-02-02T15:06:43.411038Z",
     "iopub.status.busy": "2022-02-02T15:06:43.410753Z",
     "iopub.status.idle": "2022-02-02T15:06:45.068868Z",
     "shell.execute_reply": "2022-02-02T15:06:45.067789Z",
     "shell.execute_reply.started": "2022-02-02T15:06:43.411012Z"
    }
   },
   "outputs": [
    {
     "name": "stdout",
     "output_type": "stream",
     "text": [
      "+--------+--------------------------+---------------------+-------------+\n",
      "|column  |metric                    |value                |research_date|\n",
      "+--------+--------------------------+---------------------+-------------+\n",
      "|i1d_sexo|Histogram.bins            |3.0                  |2022-02-02   |\n",
      "|i1d_sexo|Histogram.abs.M           |329963.0             |2022-02-02   |\n",
      "|i1d_sexo|Histogram.ratio.M         |0.6096111353340674   |2022-02-02   |\n",
      "|i1d_sexo|Histogram.abs.            |856.0                |2022-02-02   |\n",
      "|i1d_sexo|Histogram.ratio.          |0.0015814716554461007|2022-02-02   |\n",
      "|i1d_sexo|Histogram.abs.F           |210449.0             |2022-02-02   |\n",
      "|i1d_sexo|Histogram.ratio.F         |0.3888073930104865   |2022-02-02   |\n",
      "|i1d_sexo|Completeness              |1.0                  |2022-02-02   |\n",
      "|i1d_sexo|ApproxCountDistinct       |3.0                  |2022-02-02   |\n",
      "|i1d_sexo|Histogram.bins            |5.0                  |2022-02-02   |\n",
      "|i1d_sexo|Histogram.abs.Boolean     |0.0                  |2022-02-02   |\n",
      "|i1d_sexo|Histogram.ratio.Boolean   |0.0                  |2022-02-02   |\n",
      "|i1d_sexo|Histogram.abs.Fractional  |0.0                  |2022-02-02   |\n",
      "|i1d_sexo|Histogram.ratio.Fractional|0.0                  |2022-02-02   |\n",
      "|i1d_sexo|Histogram.abs.Integral    |856.0                |2022-02-02   |\n",
      "|i1d_sexo|Histogram.ratio.Integral  |0.0015814716554461007|2022-02-02   |\n",
      "|i1d_sexo|Histogram.abs.Unknown     |0.0                  |2022-02-02   |\n",
      "|i1d_sexo|Histogram.ratio.Unknown   |0.0                  |2022-02-02   |\n",
      "|i1d_sexo|Histogram.abs.String      |540412.0             |2022-02-02   |\n",
      "|i1d_sexo|Histogram.ratio.String    |0.9984185283445539   |2022-02-02   |\n",
      "+--------+--------------------------+---------------------+-------------+\n",
      "\n"
     ]
    }
   ],
   "source": [
    "profile_df.filter(F.col(\"column\")==\"i1d_sexo\").show(truncate=False)"
   ]
  },
  {
   "cell_type": "code",
   "execution_count": 90,
   "id": "74847ef5",
   "metadata": {
    "execution": {
     "iopub.execute_input": "2022-02-02T15:06:45.545330Z",
     "iopub.status.busy": "2022-02-02T15:06:45.545057Z",
     "iopub.status.idle": "2022-02-02T15:06:47.297193Z",
     "shell.execute_reply": "2022-02-02T15:06:47.296607Z",
     "shell.execute_reply.started": "2022-02-02T15:06:45.545300Z"
    }
   },
   "outputs": [
    {
     "name": "stdout",
     "output_type": "stream",
     "text": [
      "+---------------------------------------------------------------------------------------+-----------+\n",
      "|code_for_constraint                                                                    |column_name|\n",
      "+---------------------------------------------------------------------------------------+-----------+\n",
      "|.isContainedIn(\"i1d_sexo\", [\"M\", \"F\", \" \"])                                            |i1d_sexo   |\n",
      "|.isComplete(\"i1d_sexo\")                                                                |i1d_sexo   |\n",
      "|.isContainedIn(\"i1d_sexo\", [\"M\", \"F\"], lambda x: x >= 0.99, \"It should be above 0.99!\")|i1d_sexo   |\n",
      "+---------------------------------------------------------------------------------------+-----------+\n",
      "\n"
     ]
    }
   ],
   "source": [
    "(suggestions_df.filter(F.col(\"column_name\")==\"i1d_sexo\")\n",
    " .select(F.col(\"code_for_constraint\"), F.col(\"column_name\"))).show(truncate=False)"
   ]
  },
  {
   "cell_type": "code",
   "execution_count": null,
   "id": "1c196fa2",
   "metadata": {},
   "outputs": [],
   "source": []
  },
  {
   "cell_type": "markdown",
   "id": "c1b1bd04",
   "metadata": {},
   "source": [
    "##### |-- i1c_cli_possui_conta: string (nullable = true)"
   ]
  },
  {
   "cell_type": "code",
   "execution_count": 91,
   "id": "3e89fa37",
   "metadata": {
    "execution": {
     "iopub.execute_input": "2022-02-02T15:06:50.276556Z",
     "iopub.status.busy": "2022-02-02T15:06:50.275883Z",
     "iopub.status.idle": "2022-02-02T15:06:52.112715Z",
     "shell.execute_reply": "2022-02-02T15:06:52.111831Z",
     "shell.execute_reply.started": "2022-02-02T15:06:50.276493Z"
    }
   },
   "outputs": [
    {
     "name": "stdout",
     "output_type": "stream",
     "text": [
      "+--------------------+--------------------------+-------------------+-------------+\n",
      "|column              |metric                    |value              |research_date|\n",
      "+--------------------+--------------------------+-------------------+-------------+\n",
      "|i1c_cli_possui_conta|Histogram.bins            |2.0                |2022-02-02   |\n",
      "|i1c_cli_possui_conta|Histogram.abs.1           |335955.0           |2022-02-02   |\n",
      "|i1c_cli_possui_conta|Histogram.ratio.1         |0.6206814369221901 |2022-02-02   |\n",
      "|i1c_cli_possui_conta|Histogram.abs.0           |205313.0           |2022-02-02   |\n",
      "|i1c_cli_possui_conta|Histogram.ratio.0         |0.37931856307780987|2022-02-02   |\n",
      "|i1c_cli_possui_conta|Completeness              |1.0                |2022-02-02   |\n",
      "|i1c_cli_possui_conta|ApproxCountDistinct       |2.0                |2022-02-02   |\n",
      "|i1c_cli_possui_conta|Histogram.bins            |5.0                |2022-02-02   |\n",
      "|i1c_cli_possui_conta|Histogram.abs.Boolean     |0.0                |2022-02-02   |\n",
      "|i1c_cli_possui_conta|Histogram.ratio.Boolean   |0.0                |2022-02-02   |\n",
      "|i1c_cli_possui_conta|Histogram.abs.Fractional  |0.0                |2022-02-02   |\n",
      "|i1c_cli_possui_conta|Histogram.ratio.Fractional|0.0                |2022-02-02   |\n",
      "|i1c_cli_possui_conta|Histogram.abs.Integral    |541268.0           |2022-02-02   |\n",
      "|i1c_cli_possui_conta|Histogram.ratio.Integral  |1.0                |2022-02-02   |\n",
      "|i1c_cli_possui_conta|Histogram.abs.Unknown     |0.0                |2022-02-02   |\n",
      "|i1c_cli_possui_conta|Histogram.ratio.Unknown   |0.0                |2022-02-02   |\n",
      "|i1c_cli_possui_conta|Histogram.abs.String      |0.0                |2022-02-02   |\n",
      "|i1c_cli_possui_conta|Histogram.ratio.String    |0.0                |2022-02-02   |\n",
      "|i1c_cli_possui_conta|Minimum                   |0.0                |2022-02-02   |\n",
      "|i1c_cli_possui_conta|Maximum                   |1.0                |2022-02-02   |\n",
      "+--------------------+--------------------------+-------------------+-------------+\n",
      "only showing top 20 rows\n",
      "\n"
     ]
    }
   ],
   "source": [
    "profile_df.filter(F.col(\"column\")==\"i1c_cli_possui_conta\").show(truncate=False)"
   ]
  },
  {
   "cell_type": "code",
   "execution_count": 92,
   "id": "c3665abb",
   "metadata": {
    "execution": {
     "iopub.execute_input": "2022-02-02T15:06:52.114086Z",
     "iopub.status.busy": "2022-02-02T15:06:52.113792Z",
     "iopub.status.idle": "2022-02-02T15:06:53.905998Z",
     "shell.execute_reply": "2022-02-02T15:06:53.904654Z",
     "shell.execute_reply.started": "2022-02-02T15:06:52.114056Z"
    }
   },
   "outputs": [
    {
     "name": "stdout",
     "output_type": "stream",
     "text": [
      "+---------------------------------------------------------------------+--------------------+\n",
      "|code_for_constraint                                                  |column_name         |\n",
      "+---------------------------------------------------------------------+--------------------+\n",
      "|.isContainedIn(\"i1c_cli_possui_conta\", [\"1\", \"0\"])                   |i1c_cli_possui_conta|\n",
      "|.isComplete(\"i1c_cli_possui_conta\")                                  |i1c_cli_possui_conta|\n",
      "|.isNonNegative(\"i1c_cli_possui_conta\")                               |i1c_cli_possui_conta|\n",
      "|.hasDataType(\"i1c_cli_possui_conta\", ConstrainableDataTypes.Integral)|i1c_cli_possui_conta|\n",
      "+---------------------------------------------------------------------+--------------------+\n",
      "\n"
     ]
    }
   ],
   "source": [
    "(suggestions_df.filter(F.col(\"column_name\")==\"i1c_cli_possui_conta\")\n",
    " .select(F.col(\"code_for_constraint\"), F.col(\"column_name\"))).show(truncate=False)"
   ]
  },
  {
   "cell_type": "code",
   "execution_count": null,
   "id": "f187901b",
   "metadata": {},
   "outputs": [],
   "source": []
  },
  {
   "cell_type": "markdown",
   "id": "7f5e8484",
   "metadata": {},
   "source": [
    "##### |-- i1c_soc_cd_segm_empr1: integer (nullable = true)"
   ]
  },
  {
   "cell_type": "code",
   "execution_count": 93,
   "id": "82bd7f6f",
   "metadata": {
    "execution": {
     "iopub.execute_input": "2022-02-02T15:06:54.788139Z",
     "iopub.status.busy": "2022-02-02T15:06:54.787774Z",
     "iopub.status.idle": "2022-02-02T15:06:56.328070Z",
     "shell.execute_reply": "2022-02-02T15:06:56.327381Z",
     "shell.execute_reply.started": "2022-02-02T15:06:54.788105Z"
    }
   },
   "outputs": [
    {
     "name": "stdout",
     "output_type": "stream",
     "text": [
      "+---------------------+-------------------+---------------------+-------------+\n",
      "|column               |metric             |value                |research_date|\n",
      "+---------------------+-------------------+---------------------+-------------+\n",
      "|i1c_soc_cd_segm_empr1|Histogram.ratio.274|3.6950272323507024E-6|2022-02-02   |\n",
      "|i1c_soc_cd_segm_empr1|Histogram.abs.21   |171.0                |2022-02-02   |\n",
      "|i1c_soc_cd_segm_empr1|Histogram.ratio.21 |3.1592482836598505E-4|2022-02-02   |\n",
      "|i1c_soc_cd_segm_empr1|Histogram.abs.228  |1211.0               |2022-02-02   |\n",
      "|i1c_soc_cd_segm_empr1|Histogram.ratio.228|0.0022373389891883503|2022-02-02   |\n",
      "|i1c_soc_cd_segm_empr1|Histogram.abs.138  |3.0                  |2022-02-02   |\n",
      "|i1c_soc_cd_segm_empr1|Histogram.ratio.138|5.542540848526054E-6 |2022-02-02   |\n",
      "|i1c_soc_cd_segm_empr1|Histogram.abs.213  |2.0                  |2022-02-02   |\n",
      "|i1c_soc_cd_segm_empr1|Histogram.ratio.213|3.6950272323507024E-6|2022-02-02   |\n",
      "|i1c_soc_cd_segm_empr1|Histogram.abs.137  |81.0                 |2022-02-02   |\n",
      "|i1c_soc_cd_segm_empr1|Histogram.ratio.137|1.4964860291020345E-4|2022-02-02   |\n",
      "|i1c_soc_cd_segm_empr1|Histogram.abs.140  |4.0                  |2022-02-02   |\n",
      "|i1c_soc_cd_segm_empr1|Histogram.ratio.140|7.390054464701405E-6 |2022-02-02   |\n",
      "|i1c_soc_cd_segm_empr1|Histogram.abs.17   |40.0                 |2022-02-02   |\n",
      "|i1c_soc_cd_segm_empr1|Histogram.ratio.17 |7.390054464701405E-5 |2022-02-02   |\n",
      "|i1c_soc_cd_segm_empr1|Histogram.abs.25   |5.0                  |2022-02-02   |\n",
      "|i1c_soc_cd_segm_empr1|Histogram.ratio.25 |9.237568080876756E-6 |2022-02-02   |\n",
      "|i1c_soc_cd_segm_empr1|Histogram.abs.14   |221.0                |2022-02-02   |\n",
      "|i1c_soc_cd_segm_empr1|Histogram.ratio.14 |4.083005091747526E-4 |2022-02-02   |\n",
      "|i1c_soc_cd_segm_empr1|Histogram.abs.111  |68.0                 |2022-02-02   |\n",
      "+---------------------+-------------------+---------------------+-------------+\n",
      "only showing top 20 rows\n",
      "\n"
     ]
    }
   ],
   "source": [
    "profile_df.filter(F.col(\"column\")==\"i1c_soc_cd_segm_empr1\").show(truncate=False)"
   ]
  },
  {
   "cell_type": "code",
   "execution_count": 94,
   "id": "63198181",
   "metadata": {
    "execution": {
     "iopub.execute_input": "2022-02-02T15:06:56.329405Z",
     "iopub.status.busy": "2022-02-02T15:06:56.329196Z",
     "iopub.status.idle": "2022-02-02T15:06:57.939839Z",
     "shell.execute_reply": "2022-02-02T15:06:57.937512Z",
     "shell.execute_reply.started": "2022-02-02T15:06:56.329381Z"
    }
   },
   "outputs": [
    {
     "name": "stdout",
     "output_type": "stream",
     "text": [
      "+--------------------------------------------------------------------------------------------------------------------------------------------------------------------------------------------------------------------------------------------------------------------------------------------------------------------------------+---------------------+\n",
      "|code_for_constraint                                                                                                                                                                                                                                                                                                             |column_name          |\n",
      "+--------------------------------------------------------------------------------------------------------------------------------------------------------------------------------------------------------------------------------------------------------------------------------------------------------------------------------+---------------------+\n",
      "|.isContainedIn(\"i1c_soc_cd_segm_empr1\", [\"12\", \"11\", \"228\", \"13\", \"14\", \"18\", \"21\", \"226\", \"211\", \"151\", \"137\", \"150\", \"111\", \"229\", \"17\", \"227\", \"136\", \"152\", \"153\", \"154\", \"19\", \"23\", \"25\", \"140\", \"273\", \"181\", \"15\", \"183\", \"214\", \"138\", \"182\", \"27\", \"213\", \"274\", \"26\", \"212\", \"139\", \"276\", \"142\", \"28\", \"275\", \"24\"])|i1c_soc_cd_segm_empr1|\n",
      "|.isContainedIn(\"i1c_soc_cd_segm_empr1\", [\"\"], lambda x: x >= 0.92, \"It should be above 0.92!\")                                                                                                                                                                                                                                  |i1c_soc_cd_segm_empr1|\n",
      "|.isNonNegative(\"i1c_soc_cd_segm_empr1\")                                                                                                                                                                                                                                                                                         |i1c_soc_cd_segm_empr1|\n",
      "+--------------------------------------------------------------------------------------------------------------------------------------------------------------------------------------------------------------------------------------------------------------------------------------------------------------------------------+---------------------+\n",
      "\n"
     ]
    }
   ],
   "source": [
    "(suggestions_df.filter(F.col(\"column_name\")==\"i1c_soc_cd_segm_empr1\")\n",
    " .select(F.col(\"code_for_constraint\"), F.col(\"column_name\"))).show(truncate=False)"
   ]
  },
  {
   "cell_type": "code",
   "execution_count": null,
   "id": "a406bcb1",
   "metadata": {},
   "outputs": [],
   "source": []
  },
  {
   "cell_type": "markdown",
   "id": "51050bdb",
   "metadata": {},
   "source": [
    "##### |-- i1c_soc_cd_ramo_atvd1: integer (nullable = true)"
   ]
  },
  {
   "cell_type": "code",
   "execution_count": 95,
   "id": "8b6c050b",
   "metadata": {
    "execution": {
     "iopub.execute_input": "2022-02-02T15:06:57.942291Z",
     "iopub.status.busy": "2022-02-02T15:06:57.941984Z",
     "iopub.status.idle": "2022-02-02T15:06:59.796858Z",
     "shell.execute_reply": "2022-02-02T15:06:59.794979Z",
     "shell.execute_reply.started": "2022-02-02T15:06:57.942246Z"
    }
   },
   "outputs": [
    {
     "name": "stdout",
     "output_type": "stream",
     "text": [
      "+---------------------+-------------------+-------------------+-------------+\n",
      "|column               |metric             |value              |research_date|\n",
      "+---------------------+-------------------+-------------------+-------------+\n",
      "|i1c_soc_cd_ramo_atvd1|Completeness       |0.07817938618207616|2022-02-02   |\n",
      "|i1c_soc_cd_ramo_atvd1|ApproxCountDistinct|1081.0             |2022-02-02   |\n",
      "|i1c_soc_cd_ramo_atvd1|Minimum            |0.0                |2022-02-02   |\n",
      "|i1c_soc_cd_ramo_atvd1|Maximum            |4420055.0          |2022-02-02   |\n",
      "|i1c_soc_cd_ramo_atvd1|Mean               |2532201.787385386  |2022-02-02   |\n",
      "|i1c_soc_cd_ramo_atvd1|StandardDeviation  |1393790.1626147425 |2022-02-02   |\n",
      "|i1c_soc_cd_ramo_atvd1|Sum                |1.07152650835E11   |2022-02-02   |\n",
      "+---------------------+-------------------+-------------------+-------------+\n",
      "\n"
     ]
    }
   ],
   "source": [
    "profile_df.filter(F.col(\"column\")==\"i1c_soc_cd_ramo_atvd1\").show(truncate=False)"
   ]
  },
  {
   "cell_type": "code",
   "execution_count": 96,
   "id": "bd0fdd6f",
   "metadata": {
    "execution": {
     "iopub.execute_input": "2022-02-02T15:06:59.800049Z",
     "iopub.status.busy": "2022-02-02T15:06:59.799727Z",
     "iopub.status.idle": "2022-02-02T15:07:01.530275Z",
     "shell.execute_reply": "2022-02-02T15:07:01.529316Z",
     "shell.execute_reply.started": "2022-02-02T15:06:59.800019Z"
    }
   },
   "outputs": [
    {
     "name": "stdout",
     "output_type": "stream",
     "text": [
      "+---------------------------------------+---------------------+\n",
      "|code_for_constraint                    |column_name          |\n",
      "+---------------------------------------+---------------------+\n",
      "|.isNonNegative(\"i1c_soc_cd_ramo_atvd1\")|i1c_soc_cd_ramo_atvd1|\n",
      "+---------------------------------------+---------------------+\n",
      "\n"
     ]
    }
   ],
   "source": [
    "(suggestions_df.filter(F.col(\"column_name\")==\"i1c_soc_cd_ramo_atvd1\")\n",
    " .select(F.col(\"code_for_constraint\"), F.col(\"column_name\"))).show(truncate=False)"
   ]
  },
  {
   "cell_type": "code",
   "execution_count": null,
   "id": "a70b8a93",
   "metadata": {},
   "outputs": [],
   "source": []
  },
  {
   "cell_type": "markdown",
   "id": "20a72b54",
   "metadata": {},
   "source": [
    "##### |-- dat_ref_carga: string (nullable = true)"
   ]
  },
  {
   "cell_type": "code",
   "execution_count": 97,
   "id": "333a03ea",
   "metadata": {
    "execution": {
     "iopub.execute_input": "2022-02-02T15:07:01.531644Z",
     "iopub.status.busy": "2022-02-02T15:07:01.531451Z",
     "iopub.status.idle": "2022-02-02T15:07:03.193551Z",
     "shell.execute_reply": "2022-02-02T15:07:03.192181Z",
     "shell.execute_reply.started": "2022-02-02T15:07:01.531622Z"
    }
   },
   "outputs": [
    {
     "name": "stdout",
     "output_type": "stream",
     "text": [
      "+-------------+--------------------------+--------+-------------+\n",
      "|column       |metric                    |value   |research_date|\n",
      "+-------------+--------------------------+--------+-------------+\n",
      "|dat_ref_carga|Completeness              |1.0     |2022-02-02   |\n",
      "|dat_ref_carga|ApproxCountDistinct       |1.0     |2022-02-02   |\n",
      "|dat_ref_carga|Histogram.bins            |5.0     |2022-02-02   |\n",
      "|dat_ref_carga|Histogram.abs.Boolean     |0.0     |2022-02-02   |\n",
      "|dat_ref_carga|Histogram.ratio.Boolean   |0.0     |2022-02-02   |\n",
      "|dat_ref_carga|Histogram.abs.Fractional  |0.0     |2022-02-02   |\n",
      "|dat_ref_carga|Histogram.ratio.Fractional|0.0     |2022-02-02   |\n",
      "|dat_ref_carga|Histogram.abs.Integral    |0.0     |2022-02-02   |\n",
      "|dat_ref_carga|Histogram.ratio.Integral  |0.0     |2022-02-02   |\n",
      "|dat_ref_carga|Histogram.abs.Unknown     |0.0     |2022-02-02   |\n",
      "|dat_ref_carga|Histogram.ratio.Unknown   |0.0     |2022-02-02   |\n",
      "|dat_ref_carga|Histogram.abs.String      |541268.0|2022-02-02   |\n",
      "|dat_ref_carga|Histogram.ratio.String    |1.0     |2022-02-02   |\n",
      "|dat_ref_carga|Histogram.bins            |1.0     |2022-02-02   |\n",
      "|dat_ref_carga|Histogram.abs.2022-01-03  |541268.0|2022-02-02   |\n",
      "|dat_ref_carga|Histogram.ratio.2022-01-03|1.0     |2022-02-02   |\n",
      "+-------------+--------------------------+--------+-------------+\n",
      "\n"
     ]
    }
   ],
   "source": [
    "profile_df.filter(F.col(\"column\")==\"dat_ref_carga\").show(truncate=False)"
   ]
  },
  {
   "cell_type": "code",
   "execution_count": 98,
   "id": "0fe692fb",
   "metadata": {
    "execution": {
     "iopub.execute_input": "2022-02-02T15:07:03.195245Z",
     "iopub.status.busy": "2022-02-02T15:07:03.194875Z",
     "iopub.status.idle": "2022-02-02T15:07:04.995998Z",
     "shell.execute_reply": "2022-02-02T15:07:04.994917Z",
     "shell.execute_reply.started": "2022-02-02T15:07:03.195193Z"
    }
   },
   "outputs": [
    {
     "name": "stdout",
     "output_type": "stream",
     "text": [
      "+-----------------------------------------------+-------------+\n",
      "|code_for_constraint                            |column_name  |\n",
      "+-----------------------------------------------+-------------+\n",
      "|.isContainedIn(\"dat_ref_carga\", [\"2022-01-03\"])|dat_ref_carga|\n",
      "|.isComplete(\"dat_ref_carga\")                   |dat_ref_carga|\n",
      "+-----------------------------------------------+-------------+\n",
      "\n"
     ]
    }
   ],
   "source": [
    "(suggestions_df.filter(F.col(\"column_name\")==\"dat_ref_carga\")\n",
    " .select(F.col(\"code_for_constraint\"), F.col(\"column_name\"))).show(truncate=False)"
   ]
  },
  {
   "cell_type": "code",
   "execution_count": null,
   "id": "fe91eef5",
   "metadata": {},
   "outputs": [],
   "source": []
  },
  {
   "cell_type": "markdown",
   "id": "bd831410",
   "metadata": {},
   "source": [
    "## Build yaml...\n",
    "All modules within dqResearch are used to analyze and understand the input_data and define witch metrics are going to be used in running processes</br>\n",
    "dqRunning modules run uppon yaml files, and yaml file are build uppon dqResearch results.</br>\n",
    "Its possible to __simulate the verificationSuite.yaml__ already with resulting suggestions from dqResearch"
   ]
  },
  {
   "cell_type": "code",
   "execution_count": 7,
   "id": "d146ca9f",
   "metadata": {
    "execution": {
     "iopub.execute_input": "2022-02-04T18:39:25.196231Z",
     "iopub.status.busy": "2022-02-04T18:39:25.195872Z",
     "iopub.status.idle": "2022-02-04T18:39:25.202252Z",
     "shell.execute_reply": "2022-02-04T18:39:25.201471Z",
     "shell.execute_reply.started": "2022-02-04T18:39:25.196196Z"
    }
   },
   "outputs": [],
   "source": [
    "from dataquality_bnr.yamlHandler import verificationSuite as vsYaml"
   ]
  },
  {
   "cell_type": "code",
   "execution_count": 8,
   "id": "90705e06",
   "metadata": {
    "execution": {
     "iopub.execute_input": "2022-02-04T18:39:25.253748Z",
     "iopub.status.busy": "2022-02-04T18:39:25.253124Z",
     "iopub.status.idle": "2022-02-04T18:39:35.353559Z",
     "shell.execute_reply": "2022-02-04T18:39:35.310824Z",
     "shell.execute_reply.started": "2022-02-04T18:39:25.253709Z"
    }
   },
   "outputs": [
    {
     "name": "stdout",
     "output_type": "stream",
     "text": [
      "\n",
      "Check: {\n",
      "    level: Error,\n",
      "    description: 'CheckObject by yaml File'\n",
      "}\n",
      "\n",
      "ResultKey: {\n",
      "    key_tags: {\n",
      "        tag1: 1,\n",
      "        tag2: 2,\n",
      "        tag3: 3\n",
      "    } \n",
      "}\n",
      "\n",
      "Constraints: [\n",
      "    addConstraint: 'isContainedIn(\"dat_ref_carga\", [\"2022-01-03\"])',\n",
      "    addConstraint: 'isComplete(\"dat_ref_carga\")',\n",
      "    addConstraint: 'isContainedIn(\"i1c_cli_possui_conta\", [\"1\", \"0\"])',\n",
      "    addConstraint: 'isComplete(\"i1c_cli_possui_conta\")',\n",
      "    addConstraint: 'isNonNegative(\"i1c_cli_possui_conta\")',\n",
      "    addConstraint: 'hasDataType(\"i1c_cli_possui_conta\", ConstrainableDataTypes.Integral)',\n",
      "    addConstraint: 'isContainedIn(\"i1c_lim_pre_ap_preventivo\", [\"0\", \"2\"])',\n",
      "    addConstraint: 'isComplete(\"i1c_lim_pre_ap_preventivo\")',\n",
      "    addConstraint: 'isContainedIn(\"i1c_lim_pre_ap_preventivo\", [\"0\"], lambda x: x >= 0.99, \"It should be above 0.99!\")',\n",
      "    addConstraint: 'isNonNegative(\"i1c_lim_pre_ap_preventivo\")',\n",
      "    addConstraint: 'isContainedIn(\"i1c_rating_riscos\", [\"0\", \"1\", \"2\", \"7\", \"9\", \"8\", \"6\", \"4\", \"5\"])',\n",
      "    addConstraint: 'isComplete(\"i1c_rating_riscos\")',\n",
      "    addConstraint: 'isContainedIn(\"i1c_rating_riscos\", [\"0\", \"1\", \"2\", \"7\", \"9\"], lambda x: x >= 0.93, \"It should be above 0.93!\")',\n",
      "    addConstraint: 'isNonNegative(\"i1c_rating_riscos\")',\n",
      "    addConstraint: 'isComplete(\"i1c_renda_final\")',\n",
      "    addConstraint: 'isNonNegative(\"i1c_renda_final\")',\n",
      "    addConstraint: 'isNonNegative(\"i1c_soc_cd_ramo_atvd1\")',\n",
      "    addConstraint: 'isContainedIn(\"i1c_soc_cd_segm_empr1\", [\"12\", \"11\", \"228\", \"13\", \"14\", \"18\", \"21\", \"226\", \"211\", \"151\", \"137\", \"150\", \"111\", \"229\", \"17\", \"227\", \"136\", \"152\", \"153\", \"154\", \"19\", \"23\", \"25\", \"140\", \"273\", \"181\", \"15\", \"183\", \"214\", \"138\", \"182\", \"27\", \"213\", \"274\", \"26\", \"212\", \"139\", \"276\", \"142\", \"28\", \"275\", \"24\"])',\n",
      "    addConstraint: 'isContainedIn(\"i1c_soc_cd_segm_empr1\", [\"\"], lambda x: x >= 0.92, \"It should be above 0.92!\")',\n",
      "    addConstraint: 'isNonNegative(\"i1c_soc_cd_segm_empr1\")',\n",
      "    addConstraint: 'isComplete(\"i1d_idade\")',\n",
      "    addConstraint: 'isNonNegative(\"i1d_idade\")',\n",
      "    addConstraint: 'isContainedIn(\"i1d_sexo\", [\"M\", \"F\", \" \"])',\n",
      "    addConstraint: 'isComplete(\"i1d_sexo\")',\n",
      "    addConstraint: 'isContainedIn(\"i1d_sexo\", [\"M\", \"F\"], lambda x: x >= 0.99, \"It should be above 0.99!\")',\n",
      "]\n"
     ]
    }
   ],
   "source": [
    "vsYaml.printTemplate(suggestions_df)"
   ]
  },
  {
   "cell_type": "code",
   "execution_count": null,
   "id": "2b62e3ea",
   "metadata": {},
   "outputs": [],
   "source": []
  },
  {
   "cell_type": "markdown",
   "id": "cfd61cb9",
   "metadata": {},
   "source": [
    "#### pydeequ shutdown_callback_server()\n",
    "#### spark.stop()\n",
    "__Importante!__\n",
    "Após a execucao dos jobs, garanta que a sessao __spark__ juntamente com o __callback_server__ sejam encerrados, evitando que qualquer processo \"fantasma\" fique pendurado.<br>\n",
    "Leia mais sobre __Pydeequ__ e __callback_server__ em: https://github.com/awslabs/python-deequ"
   ]
  },
  {
   "cell_type": "code",
   "execution_count": null,
   "id": "0e102968",
   "metadata": {},
   "outputs": [],
   "source": [
    "spark.sparkContext._gateway.shutdown_callback_server()\n",
    "spark.stop()"
   ]
  }
 ],
 "metadata": {
  "kernelspec": {
   "display_name": "Python 3",
   "language": "python",
   "name": "python3"
  },
  "language_info": {
   "codemirror_mode": {
    "name": "ipython",
    "version": 3
   },
   "file_extension": ".py",
   "mimetype": "text/x-python",
   "name": "python",
   "nbconvert_exporter": "python",
   "pygments_lexer": "ipython3",
   "version": "3.6.10"
  }
 },
 "nbformat": 4,
 "nbformat_minor": 5
}
