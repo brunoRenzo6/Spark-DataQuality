{
 "cells": [
  {
   "cell_type": "markdown",
   "id": "c6c63fb5",
   "metadata": {},
   "source": [
    "# DQ Research module\n",
    "\n",
    "* __Analyzer__\n",
    "* Profile\n",
    "* Suggestions\n",
    "\n",
    "\n",
    "### Analyzers\n",
    "\n",
    "Run pydeequ Analyzers based on metrics specified at analyzers.yaml file.</br>"
   ]
  },
  {
   "cell_type": "markdown",
   "id": "de039eb5",
   "metadata": {},
   "source": [
    "#### Setup environment"
   ]
  },
  {
   "cell_type": "markdown",
   "id": "e48073ff",
   "metadata": {},
   "source": [
    "##### import libraries"
   ]
  },
  {
   "cell_type": "code",
   "execution_count": 1,
   "id": "2bbe2d67",
   "metadata": {
    "execution": {
     "iopub.execute_input": "2022-02-02T15:23:17.228442Z",
     "iopub.status.busy": "2022-02-02T15:23:17.228220Z",
     "iopub.status.idle": "2022-02-02T15:23:17.260493Z",
     "shell.execute_reply": "2022-02-02T15:23:17.258605Z",
     "shell.execute_reply.started": "2022-02-02T15:23:17.228414Z"
    }
   },
   "outputs": [],
   "source": [
    "from pyspark.sql import functions as F\n",
    "from pyspark.sql.types import *\n",
    "from pyspark.sql import SparkSession, Row, DataFrame"
   ]
  },
  {
   "cell_type": "code",
   "execution_count": 2,
   "id": "394e2f42",
   "metadata": {
    "execution": {
     "iopub.execute_input": "2022-02-02T15:23:17.336378Z",
     "iopub.status.busy": "2022-02-02T15:23:17.336082Z",
     "iopub.status.idle": "2022-02-02T15:23:17.663148Z",
     "shell.execute_reply": "2022-02-02T15:23:17.662391Z",
     "shell.execute_reply.started": "2022-02-02T15:23:17.336351Z"
    }
   },
   "outputs": [],
   "source": [
    "from dataquality_bnr.dqSupport import main as dqSup"
   ]
  },
  {
   "cell_type": "markdown",
   "id": "6e38dc8b",
   "metadata": {},
   "source": [
    "##### Set up a PySpark session"
   ]
  },
  {
   "cell_type": "code",
   "execution_count": 3,
   "id": "8e6edb60",
   "metadata": {
    "execution": {
     "iopub.execute_input": "2022-02-02T15:23:17.733192Z",
     "iopub.status.busy": "2022-02-02T15:23:17.732838Z",
     "iopub.status.idle": "2022-02-02T15:23:50.489689Z",
     "shell.execute_reply": "2022-02-02T15:23:50.487731Z",
     "shell.execute_reply.started": "2022-02-02T15:23:17.733160Z"
    }
   },
   "outputs": [],
   "source": [
    "spark = SparkSession.builder\\\n",
    "        .appName(\"pdq_helloWorld\")\\\n",
    "        .enableHiveSupport()\\\n",
    "        .config(\"spark.sql.catalogImplementation\",\"hive\")\\\n",
    "        .config(\"spark.jars\", dqSup.getDeequJar_path())\\\n",
    "        .config(\"spark.jars.excludes\", dqSup.getDeequJar_excludes())\\\n",
    "        .config(\"spark.executor.memory\",\"12g\")\\\n",
    "        .config(\"spark.executor.memoryOverhead\",\"8g\")\\\n",
    "        .config(\"spark.shuffle.service.enabled\",\"true\")\\\n",
    "        .config(\"spark.dynamicAllocation.enabled\",\"true\")\\\n",
    "        .config(\"spark.dynamicAllocation.initialExecutors\",\"1\")\\\n",
    "        .config(\"spark.dynamicAllocation.maxExecutors\",\"32\")\\\n",
    "        .config(\"spark.dynamicAllocation.minExecutors\",\"1\")\\\n",
    "        .config(\"spark.executor.cores\",\"2\")\\\n",
    "        .config(\"spark.driver.memory\",\"12g\")\\\n",
    "        .config(\"spark.driver.maxResultSize\",\"8g\")\\\n",
    "        .config(\"spark.network.timeout\",\"8000\")\\\n",
    "        .config(\"spark.hadoop.hive.metastore.client.socket.timeout\",\"900\")\\\n",
    "        .config(\"spark.sql.hive.convertMetastoreParquet\",\"true\")\\\n",
    "        .config(\"spark.sql.broadcastTimeout\",\"36000\")\\\n",
    "        .config(\"spark.ui.killEnabled\",\"true\")\\\n",
    "        .config('spark.yarn.queue','root.gapl_plataf_projetos_motores_decisao')\\\n",
    "        .getOrCreate()"
   ]
  },
  {
   "cell_type": "markdown",
   "id": "78f6d950",
   "metadata": {
    "execution": {
     "iopub.execute_input": "2021-10-13T20:39:02.840536Z",
     "iopub.status.busy": "2021-10-13T20:39:02.840048Z",
     "iopub.status.idle": "2021-10-13T20:39:02.856396Z",
     "shell.execute_reply": "2021-10-13T20:39:02.854108Z",
     "shell.execute_reply.started": "2021-10-13T20:39:02.840491Z"
    }
   },
   "source": [
    "### Dataset\n",
    "We will be running the analyzers on a dataset sampled from th.thbpd38 table"
   ]
  },
  {
   "cell_type": "code",
   "execution_count": 4,
   "id": "b0bfb6fc",
   "metadata": {
    "execution": {
     "iopub.execute_input": "2022-02-02T15:23:50.492282Z",
     "iopub.status.busy": "2022-02-02T15:23:50.491804Z",
     "iopub.status.idle": "2022-02-02T15:23:57.118602Z",
     "shell.execute_reply": "2022-02-02T15:23:57.117600Z",
     "shell.execute_reply.started": "2022-02-02T15:23:50.492215Z"
    }
   },
   "outputs": [],
   "source": [
    "sql_query = \"\"\"\n",
    "select\n",
    "    i1c_renda_final,\n",
    "    i1c_lim_pre_ap_preventivo,\n",
    "    i1c_rating_riscos,\n",
    "    i1d_idade,\n",
    "    i1d_sexo,\n",
    "    i1c_cli_possui_conta,\n",
    "    i1c_soc_cd_segm_empr1,\n",
    "    i1c_soc_cd_ramo_atvd1,\n",
    "    dat_ref_carga\n",
    "from th.thbpd381 where dat_ref_carga='2022-01-03'\n",
    "\"\"\"\n",
    "df_input = spark.sql(sql_query)"
   ]
  },
  {
   "cell_type": "code",
   "execution_count": 5,
   "id": "b0b3f614",
   "metadata": {
    "execution": {
     "iopub.execute_input": "2022-02-02T15:23:57.120820Z",
     "iopub.status.busy": "2022-02-02T15:23:57.120598Z",
     "iopub.status.idle": "2022-02-02T15:23:57.184132Z",
     "shell.execute_reply": "2022-02-02T15:23:57.183528Z",
     "shell.execute_reply.started": "2022-02-02T15:23:57.120796Z"
    }
   },
   "outputs": [
    {
     "name": "stdout",
     "output_type": "stream",
     "text": [
      "root\n",
      " |-- i1c_renda_final: integer (nullable = true)\n",
      " |-- i1c_lim_pre_ap_preventivo: integer (nullable = true)\n",
      " |-- i1c_rating_riscos: integer (nullable = true)\n",
      " |-- i1d_idade: integer (nullable = true)\n",
      " |-- i1d_sexo: string (nullable = true)\n",
      " |-- i1c_cli_possui_conta: string (nullable = true)\n",
      " |-- i1c_soc_cd_segm_empr1: integer (nullable = true)\n",
      " |-- i1c_soc_cd_ramo_atvd1: integer (nullable = true)\n",
      " |-- dat_ref_carga: string (nullable = true)\n",
      "\n"
     ]
    }
   ],
   "source": [
    "df_input.printSchema()"
   ]
  },
  {
   "cell_type": "markdown",
   "id": "0486585f",
   "metadata": {},
   "source": [
    "## Analyzers"
   ]
  },
  {
   "cell_type": "markdown",
   "id": "0919ca0b",
   "metadata": {},
   "source": [
    "*dqResearch.runAnalyzer(spark, df, yaml_path)*\n",
    "\n",
    "* *spark*: SparkSession \n",
    "* *df*: Dataframe over witch metrics are going to be calculated\n",
    "* *yaml_path*: path to the .yaml file containing the listed metrics to be calculated"
   ]
  },
  {
   "cell_type": "code",
   "execution_count": 6,
   "id": "19817123",
   "metadata": {
    "execution": {
     "iopub.execute_input": "2022-02-02T15:24:01.775604Z",
     "iopub.status.busy": "2022-02-02T15:24:01.775210Z",
     "iopub.status.idle": "2022-02-02T15:24:01.784411Z",
     "shell.execute_reply": "2022-02-02T15:24:01.783619Z",
     "shell.execute_reply.started": "2022-02-02T15:24:01.775564Z"
    }
   },
   "outputs": [],
   "source": [
    "from dataquality_bnr.dqResearch import main as dqResearch"
   ]
  },
  {
   "cell_type": "code",
   "execution_count": 7,
   "id": "9c0398ae",
   "metadata": {
    "execution": {
     "iopub.execute_input": "2022-02-02T15:24:02.116317Z",
     "iopub.status.busy": "2022-02-02T15:24:02.115962Z",
     "iopub.status.idle": "2022-02-02T15:24:02.119376Z",
     "shell.execute_reply": "2022-02-02T15:24:02.118701Z",
     "shell.execute_reply.started": "2022-02-02T15:24:02.116285Z"
    }
   },
   "outputs": [],
   "source": [
    "yaml_path=\"yamlFiles/analyzers/def_analyzers.yaml\""
   ]
  },
  {
   "cell_type": "markdown",
   "id": "b9ac8054",
   "metadata": {},
   "source": [
    "The .yaml file pattern should look like:\n",
    "\n",
    "```yaml\n",
    "- Size()\n",
    "- Maximum('i1c_renda_final')\n",
    "- Minimum('i1c_renda_final')\n",
    "- Mean('i1c_renda_final')\n",
    "- Mean('i1c_lim_pre_ap_preventivo')\n",
    "- Maximum('i1d_idade')\n",
    "- StandardDeviation('i1d_idade')\n",
    "- Histogram('i1c_rating_riscos')\n",
    "```\n",
    "\n",
    "All available analyzers Methods are listed at oficial __PyDeequ repository__:</br>\n",
    "https://github.com/awslabs/python-deequ/blob/master/docs/analyzers.md"
   ]
  },
  {
   "cell_type": "code",
   "execution_count": 20,
   "id": "3b0ef86c",
   "metadata": {
    "execution": {
     "iopub.execute_input": "2022-02-02T15:31:15.770650Z",
     "iopub.status.busy": "2022-02-02T15:31:15.770302Z",
     "iopub.status.idle": "2022-02-02T15:31:28.665458Z",
     "shell.execute_reply": "2022-02-02T15:31:28.664333Z",
     "shell.execute_reply.started": "2022-02-02T15:31:15.770619Z"
    }
   },
   "outputs": [
    {
     "name": "stdout",
     "output_type": "stream",
     "text": [
      "Size()\n",
      "Maximum('i1c_renda_final')\n",
      "Minimum('i1c_renda_final')\n",
      "Mean('i1c_renda_final')\n",
      "Mean('i1c_lim_pre_ap_preventivo')\n",
      "Maximum('i1d_idade')\n",
      "StandardDeviation('i1d_idade')\n",
      "Histogram('i1c_rating_riscos')\n"
     ]
    }
   ],
   "source": [
    "analysisResult_df = dqResearch.runAnalyzer(spark, df_input, yaml_path)"
   ]
  },
  {
   "cell_type": "markdown",
   "id": "bfd67475",
   "metadata": {},
   "source": [
    "##### show results\n",
    "\n",
    "Get Dataframe inMemory then show it with *pandas.DataFrame*"
   ]
  },
  {
   "cell_type": "code",
   "execution_count": 21,
   "id": "afce9e5c",
   "metadata": {
    "execution": {
     "iopub.execute_input": "2022-02-02T15:31:28.666887Z",
     "iopub.status.busy": "2022-02-02T15:31:28.666672Z",
     "iopub.status.idle": "2022-02-02T15:31:29.416281Z",
     "shell.execute_reply": "2022-02-02T15:31:29.415360Z",
     "shell.execute_reply.started": "2022-02-02T15:31:28.666863Z"
    }
   },
   "outputs": [
    {
     "data": {
      "text/html": [
       "<div>\n",
       "<style scoped>\n",
       "    .dataframe tbody tr th:only-of-type {\n",
       "        vertical-align: middle;\n",
       "    }\n",
       "\n",
       "    .dataframe tbody tr th {\n",
       "        vertical-align: top;\n",
       "    }\n",
       "\n",
       "    .dataframe thead th {\n",
       "        text-align: right;\n",
       "    }\n",
       "</style>\n",
       "<table border=\"1\" class=\"dataframe\">\n",
       "  <thead>\n",
       "    <tr style=\"text-align: right;\">\n",
       "      <th></th>\n",
       "      <th>column</th>\n",
       "      <th>metric</th>\n",
       "      <th>value</th>\n",
       "      <th>research_date</th>\n",
       "    </tr>\n",
       "  </thead>\n",
       "  <tbody>\n",
       "    <tr>\n",
       "      <th>0</th>\n",
       "      <td>i1c_lim_pre_ap_preventivo</td>\n",
       "      <td>Mean</td>\n",
       "      <td>1.650938e-02</td>\n",
       "      <td>2022-02-02</td>\n",
       "    </tr>\n",
       "    <tr>\n",
       "      <th>1</th>\n",
       "      <td>i1d_idade</td>\n",
       "      <td>Maximum</td>\n",
       "      <td>1.240000e+02</td>\n",
       "      <td>2022-02-02</td>\n",
       "    </tr>\n",
       "    <tr>\n",
       "      <th>2</th>\n",
       "      <td>i1d_idade</td>\n",
       "      <td>StandardDeviation</td>\n",
       "      <td>1.486044e+01</td>\n",
       "      <td>2022-02-02</td>\n",
       "    </tr>\n",
       "    <tr>\n",
       "      <th>3</th>\n",
       "      <td>*</td>\n",
       "      <td>Size</td>\n",
       "      <td>5.412680e+05</td>\n",
       "      <td>2022-02-02</td>\n",
       "    </tr>\n",
       "    <tr>\n",
       "      <th>4</th>\n",
       "      <td>i1c_rating_riscos</td>\n",
       "      <td>Histogram.bins</td>\n",
       "      <td>9.000000e+00</td>\n",
       "      <td>2022-02-02</td>\n",
       "    </tr>\n",
       "    <tr>\n",
       "      <th>5</th>\n",
       "      <td>i1c_rating_riscos</td>\n",
       "      <td>Histogram.abs.8</td>\n",
       "      <td>1.551000e+04</td>\n",
       "      <td>2022-02-02</td>\n",
       "    </tr>\n",
       "    <tr>\n",
       "      <th>6</th>\n",
       "      <td>i1c_rating_riscos</td>\n",
       "      <td>Histogram.ratio.8</td>\n",
       "      <td>2.865494e-02</td>\n",
       "      <td>2022-02-02</td>\n",
       "    </tr>\n",
       "    <tr>\n",
       "      <th>7</th>\n",
       "      <td>i1c_rating_riscos</td>\n",
       "      <td>Histogram.abs.4</td>\n",
       "      <td>7.235000e+03</td>\n",
       "      <td>2022-02-02</td>\n",
       "    </tr>\n",
       "    <tr>\n",
       "      <th>8</th>\n",
       "      <td>i1c_rating_riscos</td>\n",
       "      <td>Histogram.ratio.4</td>\n",
       "      <td>1.336676e-02</td>\n",
       "      <td>2022-02-02</td>\n",
       "    </tr>\n",
       "    <tr>\n",
       "      <th>9</th>\n",
       "      <td>i1c_rating_riscos</td>\n",
       "      <td>Histogram.abs.9</td>\n",
       "      <td>1.929300e+04</td>\n",
       "      <td>2022-02-02</td>\n",
       "    </tr>\n",
       "    <tr>\n",
       "      <th>10</th>\n",
       "      <td>i1c_rating_riscos</td>\n",
       "      <td>Histogram.ratio.9</td>\n",
       "      <td>3.564408e-02</td>\n",
       "      <td>2022-02-02</td>\n",
       "    </tr>\n",
       "    <tr>\n",
       "      <th>11</th>\n",
       "      <td>i1c_rating_riscos</td>\n",
       "      <td>Histogram.abs.5</td>\n",
       "      <td>3.000000e+00</td>\n",
       "      <td>2022-02-02</td>\n",
       "    </tr>\n",
       "    <tr>\n",
       "      <th>12</th>\n",
       "      <td>i1c_rating_riscos</td>\n",
       "      <td>Histogram.ratio.5</td>\n",
       "      <td>5.542541e-06</td>\n",
       "      <td>2022-02-02</td>\n",
       "    </tr>\n",
       "    <tr>\n",
       "      <th>13</th>\n",
       "      <td>i1c_rating_riscos</td>\n",
       "      <td>Histogram.abs.6</td>\n",
       "      <td>1.286600e+04</td>\n",
       "      <td>2022-02-02</td>\n",
       "    </tr>\n",
       "    <tr>\n",
       "      <th>14</th>\n",
       "      <td>i1c_rating_riscos</td>\n",
       "      <td>Histogram.ratio.6</td>\n",
       "      <td>2.377011e-02</td>\n",
       "      <td>2022-02-02</td>\n",
       "    </tr>\n",
       "    <tr>\n",
       "      <th>15</th>\n",
       "      <td>i1c_rating_riscos</td>\n",
       "      <td>Histogram.abs.1</td>\n",
       "      <td>1.826270e+05</td>\n",
       "      <td>2022-02-02</td>\n",
       "    </tr>\n",
       "    <tr>\n",
       "      <th>16</th>\n",
       "      <td>i1c_rating_riscos</td>\n",
       "      <td>Histogram.ratio.1</td>\n",
       "      <td>3.374059e-01</td>\n",
       "      <td>2022-02-02</td>\n",
       "    </tr>\n",
       "    <tr>\n",
       "      <th>17</th>\n",
       "      <td>i1c_rating_riscos</td>\n",
       "      <td>Histogram.abs.0</td>\n",
       "      <td>2.053190e+05</td>\n",
       "      <td>2022-02-02</td>\n",
       "    </tr>\n",
       "    <tr>\n",
       "      <th>18</th>\n",
       "      <td>i1c_rating_riscos</td>\n",
       "      <td>Histogram.ratio.0</td>\n",
       "      <td>3.793296e-01</td>\n",
       "      <td>2022-02-02</td>\n",
       "    </tr>\n",
       "    <tr>\n",
       "      <th>19</th>\n",
       "      <td>i1c_rating_riscos</td>\n",
       "      <td>Histogram.abs.2</td>\n",
       "      <td>6.604900e+04</td>\n",
       "      <td>2022-02-02</td>\n",
       "    </tr>\n",
       "    <tr>\n",
       "      <th>20</th>\n",
       "      <td>i1c_rating_riscos</td>\n",
       "      <td>Histogram.ratio.2</td>\n",
       "      <td>1.220264e-01</td>\n",
       "      <td>2022-02-02</td>\n",
       "    </tr>\n",
       "    <tr>\n",
       "      <th>21</th>\n",
       "      <td>i1c_rating_riscos</td>\n",
       "      <td>Histogram.abs.7</td>\n",
       "      <td>3.236600e+04</td>\n",
       "      <td>2022-02-02</td>\n",
       "    </tr>\n",
       "    <tr>\n",
       "      <th>22</th>\n",
       "      <td>i1c_rating_riscos</td>\n",
       "      <td>Histogram.ratio.7</td>\n",
       "      <td>5.979663e-02</td>\n",
       "      <td>2022-02-02</td>\n",
       "    </tr>\n",
       "    <tr>\n",
       "      <th>23</th>\n",
       "      <td>i1c_renda_final</td>\n",
       "      <td>Maximum</td>\n",
       "      <td>1.000000e+08</td>\n",
       "      <td>2022-02-02</td>\n",
       "    </tr>\n",
       "    <tr>\n",
       "      <th>24</th>\n",
       "      <td>i1c_renda_final</td>\n",
       "      <td>Minimum</td>\n",
       "      <td>0.000000e+00</td>\n",
       "      <td>2022-02-02</td>\n",
       "    </tr>\n",
       "    <tr>\n",
       "      <th>25</th>\n",
       "      <td>i1c_renda_final</td>\n",
       "      <td>Mean</td>\n",
       "      <td>9.662858e+03</td>\n",
       "      <td>2022-02-02</td>\n",
       "    </tr>\n",
       "  </tbody>\n",
       "</table>\n",
       "</div>"
      ],
      "text/plain": [
       "                       column             metric         value research_date\n",
       "0   i1c_lim_pre_ap_preventivo               Mean  1.650938e-02    2022-02-02\n",
       "1                   i1d_idade            Maximum  1.240000e+02    2022-02-02\n",
       "2                   i1d_idade  StandardDeviation  1.486044e+01    2022-02-02\n",
       "3                           *               Size  5.412680e+05    2022-02-02\n",
       "4           i1c_rating_riscos     Histogram.bins  9.000000e+00    2022-02-02\n",
       "5           i1c_rating_riscos    Histogram.abs.8  1.551000e+04    2022-02-02\n",
       "6           i1c_rating_riscos  Histogram.ratio.8  2.865494e-02    2022-02-02\n",
       "7           i1c_rating_riscos    Histogram.abs.4  7.235000e+03    2022-02-02\n",
       "8           i1c_rating_riscos  Histogram.ratio.4  1.336676e-02    2022-02-02\n",
       "9           i1c_rating_riscos    Histogram.abs.9  1.929300e+04    2022-02-02\n",
       "10          i1c_rating_riscos  Histogram.ratio.9  3.564408e-02    2022-02-02\n",
       "11          i1c_rating_riscos    Histogram.abs.5  3.000000e+00    2022-02-02\n",
       "12          i1c_rating_riscos  Histogram.ratio.5  5.542541e-06    2022-02-02\n",
       "13          i1c_rating_riscos    Histogram.abs.6  1.286600e+04    2022-02-02\n",
       "14          i1c_rating_riscos  Histogram.ratio.6  2.377011e-02    2022-02-02\n",
       "15          i1c_rating_riscos    Histogram.abs.1  1.826270e+05    2022-02-02\n",
       "16          i1c_rating_riscos  Histogram.ratio.1  3.374059e-01    2022-02-02\n",
       "17          i1c_rating_riscos    Histogram.abs.0  2.053190e+05    2022-02-02\n",
       "18          i1c_rating_riscos  Histogram.ratio.0  3.793296e-01    2022-02-02\n",
       "19          i1c_rating_riscos    Histogram.abs.2  6.604900e+04    2022-02-02\n",
       "20          i1c_rating_riscos  Histogram.ratio.2  1.220264e-01    2022-02-02\n",
       "21          i1c_rating_riscos    Histogram.abs.7  3.236600e+04    2022-02-02\n",
       "22          i1c_rating_riscos  Histogram.ratio.7  5.979663e-02    2022-02-02\n",
       "23            i1c_renda_final            Maximum  1.000000e+08    2022-02-02\n",
       "24            i1c_renda_final            Minimum  0.000000e+00    2022-02-02\n",
       "25            i1c_renda_final               Mean  9.662858e+03    2022-02-02"
      ]
     },
     "execution_count": 21,
     "metadata": {},
     "output_type": "execute_result"
    }
   ],
   "source": [
    "analysisResult_df.toPandas()"
   ]
  },
  {
   "cell_type": "code",
   "execution_count": null,
   "id": "4e32ebe3",
   "metadata": {},
   "outputs": [],
   "source": []
  },
  {
   "cell_type": "code",
   "execution_count": null,
   "id": "85cef237",
   "metadata": {},
   "outputs": [],
   "source": []
  }
 ],
 "metadata": {
  "kernelspec": {
   "display_name": "Python 3",
   "language": "python",
   "name": "python3"
  },
  "language_info": {
   "codemirror_mode": {
    "name": "ipython",
    "version": 3
   },
   "file_extension": ".py",
   "mimetype": "text/x-python",
   "name": "python",
   "nbconvert_exporter": "python",
   "pygments_lexer": "ipython3",
   "version": "3.6.10"
  }
 },
 "nbformat": 4,
 "nbformat_minor": 5
}
