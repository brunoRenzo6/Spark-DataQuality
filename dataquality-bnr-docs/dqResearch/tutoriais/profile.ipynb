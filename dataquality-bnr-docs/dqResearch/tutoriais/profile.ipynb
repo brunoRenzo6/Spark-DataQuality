{
 "cells": [
  {
   "cell_type": "markdown",
   "id": "caccdd30",
   "metadata": {},
   "source": [
    "# DQ Research module\n",
    "\n",
    "* Analyzer\n",
    "* __Profile__\n",
    "* Suggestions\n",
    "\n",
    "\n",
    "### Profile\n",
    "\n",
    "Run pydeequ Profile over .</br>"
   ]
  },
  {
   "cell_type": "markdown",
   "id": "0b7b6292",
   "metadata": {},
   "source": [
    "#### Setup environment"
   ]
  },
  {
   "cell_type": "markdown",
   "id": "8d104fae",
   "metadata": {},
   "source": [
    "##### import libraries"
   ]
  },
  {
   "cell_type": "code",
   "execution_count": 1,
   "id": "f20db0c6",
   "metadata": {
    "execution": {
     "iopub.execute_input": "2022-02-02T15:33:46.775072Z",
     "iopub.status.busy": "2022-02-02T15:33:46.774407Z",
     "iopub.status.idle": "2022-02-02T15:33:46.792813Z",
     "shell.execute_reply": "2022-02-02T15:33:46.792126Z",
     "shell.execute_reply.started": "2022-02-02T15:33:46.775019Z"
    }
   },
   "outputs": [],
   "source": [
    "from pyspark.sql import functions as F\n",
    "from pyspark.sql.types import *\n",
    "from pyspark.sql import SparkSession, Row, DataFrame"
   ]
  },
  {
   "cell_type": "code",
   "execution_count": 2,
   "id": "ca7ecb5e",
   "metadata": {
    "execution": {
     "iopub.execute_input": "2022-02-02T15:33:46.898755Z",
     "iopub.status.busy": "2022-02-02T15:33:46.898415Z",
     "iopub.status.idle": "2022-02-02T15:33:47.232038Z",
     "shell.execute_reply": "2022-02-02T15:33:47.231355Z",
     "shell.execute_reply.started": "2022-02-02T15:33:46.898728Z"
    }
   },
   "outputs": [],
   "source": [
    "from dataquality_bnr.dqSupport import main as dqSup"
   ]
  },
  {
   "cell_type": "markdown",
   "id": "0ff33f76",
   "metadata": {},
   "source": [
    "##### Set up a PySpark session"
   ]
  },
  {
   "cell_type": "code",
   "execution_count": 3,
   "id": "d0906710",
   "metadata": {
    "execution": {
     "iopub.execute_input": "2022-02-02T15:33:48.333118Z",
     "iopub.status.busy": "2022-02-02T15:33:48.332468Z",
     "iopub.status.idle": "2022-02-02T15:34:19.899008Z",
     "shell.execute_reply": "2022-02-02T15:34:19.897894Z",
     "shell.execute_reply.started": "2022-02-02T15:33:48.333077Z"
    }
   },
   "outputs": [],
   "source": [
    "spark = SparkSession.builder\\\n",
    "        .appName(\"pdq_helloWorld\")\\\n",
    "        .enableHiveSupport()\\\n",
    "        .config(\"spark.sql.catalogImplementation\",\"hive\")\\\n",
    "        .config(\"spark.jars\", dqSup.getDeequJar_path())\\\n",
    "        .config(\"spark.jars.excludes\", dqSup.getDeequJar_excludes())\\\n",
    "        .config(\"spark.executor.memory\",\"12g\")\\\n",
    "        .config(\"spark.executor.memoryOverhead\",\"8g\")\\\n",
    "        .config(\"spark.shuffle.service.enabled\",\"true\")\\\n",
    "        .config(\"spark.dynamicAllocation.enabled\",\"true\")\\\n",
    "        .config(\"spark.dynamicAllocation.initialExecutors\",\"1\")\\\n",
    "        .config(\"spark.dynamicAllocation.maxExecutors\",\"32\")\\\n",
    "        .config(\"spark.dynamicAllocation.minExecutors\",\"1\")\\\n",
    "        .config(\"spark.executor.cores\",\"2\")\\\n",
    "        .config(\"spark.driver.memory\",\"12g\")\\\n",
    "        .config(\"spark.driver.maxResultSize\",\"8g\")\\\n",
    "        .config(\"spark.network.timeout\",\"8000\")\\\n",
    "        .config(\"spark.hadoop.hive.metastore.client.socket.timeout\",\"900\")\\\n",
    "        .config(\"spark.sql.hive.convertMetastoreParquet\",\"true\")\\\n",
    "        .config(\"spark.sql.broadcastTimeout\",\"36000\")\\\n",
    "        .config(\"spark.ui.killEnabled\",\"true\")\\\n",
    "        .config('spark.yarn.queue','root.gapl_plataf_projetos_motores_decisao')\\\n",
    "        .getOrCreate()"
   ]
  },
  {
   "cell_type": "markdown",
   "id": "389bea4b",
   "metadata": {
    "execution": {
     "iopub.execute_input": "2021-10-13T20:39:02.840536Z",
     "iopub.status.busy": "2021-10-13T20:39:02.840048Z",
     "iopub.status.idle": "2021-10-13T20:39:02.856396Z",
     "shell.execute_reply": "2021-10-13T20:39:02.854108Z",
     "shell.execute_reply.started": "2021-10-13T20:39:02.840491Z"
    }
   },
   "source": [
    "### Dataset\n",
    "We will be running the analyzers on a dataset sampled from th.thbpd38 table"
   ]
  },
  {
   "cell_type": "code",
   "execution_count": 5,
   "id": "e82e3f4a",
   "metadata": {
    "execution": {
     "iopub.execute_input": "2022-02-02T15:34:31.341476Z",
     "iopub.status.busy": "2022-02-02T15:34:31.340601Z",
     "iopub.status.idle": "2022-02-02T15:34:38.528418Z",
     "shell.execute_reply": "2022-02-02T15:34:38.527582Z",
     "shell.execute_reply.started": "2022-02-02T15:34:31.341410Z"
    }
   },
   "outputs": [],
   "source": [
    "sql_query = \"\"\"\n",
    "select\n",
    "    i1c_renda_final,\n",
    "    i1c_lim_pre_ap_preventivo,\n",
    "    i1c_rating_riscos,\n",
    "    i1d_idade,\n",
    "    i1d_sexo,\n",
    "    i1c_cli_possui_conta,\n",
    "    i1c_soc_cd_segm_empr1,\n",
    "    i1c_soc_cd_ramo_atvd1,\n",
    "    dat_ref_carga\n",
    "from th.thbpd381 where dat_ref_carga='2022-01-03'\n",
    "\"\"\"\n",
    "df_input = spark.sql(sql_query)"
   ]
  },
  {
   "cell_type": "code",
   "execution_count": 6,
   "id": "a46c22d0",
   "metadata": {
    "execution": {
     "iopub.execute_input": "2022-02-02T15:34:38.553414Z",
     "iopub.status.busy": "2022-02-02T15:34:38.529845Z",
     "iopub.status.idle": "2022-02-02T15:34:38.595996Z",
     "shell.execute_reply": "2022-02-02T15:34:38.595401Z",
     "shell.execute_reply.started": "2022-02-02T15:34:38.553356Z"
    }
   },
   "outputs": [
    {
     "name": "stdout",
     "output_type": "stream",
     "text": [
      "root\n",
      " |-- i1c_renda_final: integer (nullable = true)\n",
      " |-- i1c_lim_pre_ap_preventivo: integer (nullable = true)\n",
      " |-- i1c_rating_riscos: integer (nullable = true)\n",
      " |-- i1d_idade: integer (nullable = true)\n",
      " |-- i1d_sexo: string (nullable = true)\n",
      " |-- i1c_cli_possui_conta: string (nullable = true)\n",
      " |-- i1c_soc_cd_segm_empr1: integer (nullable = true)\n",
      " |-- i1c_soc_cd_ramo_atvd1: integer (nullable = true)\n",
      " |-- dat_ref_carga: string (nullable = true)\n",
      "\n"
     ]
    }
   ],
   "source": [
    "df_input.printSchema()"
   ]
  },
  {
   "cell_type": "markdown",
   "id": "d0c0cfd0",
   "metadata": {},
   "source": [
    "## Profile"
   ]
  },
  {
   "cell_type": "markdown",
   "id": "bab102ba",
   "metadata": {},
   "source": [
    "*dqResearch.runProfile(spark, df, metrics_file)*\n",
    "* *spark*: SparkSession\n",
    "* *df*: Dataframe to be profiled\n",
    "* *metrics_file*: temporary path, where reads/writes are allowed"
   ]
  },
  {
   "cell_type": "code",
   "execution_count": 7,
   "id": "8d9aacab",
   "metadata": {
    "execution": {
     "iopub.execute_input": "2022-02-02T15:34:47.369377Z",
     "iopub.status.busy": "2022-02-02T15:34:47.368877Z",
     "iopub.status.idle": "2022-02-02T15:34:47.378504Z",
     "shell.execute_reply": "2022-02-02T15:34:47.377257Z",
     "shell.execute_reply.started": "2022-02-02T15:34:47.369330Z"
    }
   },
   "outputs": [],
   "source": [
    "from dataquality_bnr.dqResearch import main as dqResearch"
   ]
  },
  {
   "cell_type": "code",
   "execution_count": 9,
   "id": "2b2132b9",
   "metadata": {
    "execution": {
     "iopub.execute_input": "2022-02-02T15:36:42.709280Z",
     "iopub.status.busy": "2022-02-02T15:36:42.708328Z",
     "iopub.status.idle": "2022-02-02T15:36:42.713828Z",
     "shell.execute_reply": "2022-02-02T15:36:42.712976Z",
     "shell.execute_reply.started": "2022-02-02T15:36:42.709227Z"
    }
   },
   "outputs": [],
   "source": [
    "metrics_file = \"/tmp/x266727/sampleRepository/metricsFile/tempFile.json\""
   ]
  },
  {
   "cell_type": "markdown",
   "id": "16e5f624",
   "metadata": {},
   "source": [
    "Note: The path which *metrics_file* point to, is going to support the profiling process. Therefore user must to have read and write permissions to this directory, even though no file is going to be persisted there after runtime execution.\n",
    "\n",
    "More informations about the metrics_file functionalities at oficial PyDeequ repository:</br>\n",
    "https://github.com/awslabs/python-deequ/blob/master/tutorials/repository.ipynb"
   ]
  },
  {
   "cell_type": "code",
   "execution_count": 11,
   "id": "9ed76ed4",
   "metadata": {
    "execution": {
     "iopub.execute_input": "2022-02-02T15:36:49.986779Z",
     "iopub.status.busy": "2022-02-02T15:36:49.985864Z",
     "iopub.status.idle": "2022-02-02T15:38:29.973706Z",
     "shell.execute_reply": "2022-02-02T15:38:29.972804Z",
     "shell.execute_reply.started": "2022-02-02T15:36:49.986711Z"
    }
   },
   "outputs": [],
   "source": [
    "profile_df = dqResearch.runProfile(spark, df_input, metrics_file)"
   ]
  },
  {
   "cell_type": "markdown",
   "id": "178b9dd9",
   "metadata": {},
   "source": [
    "##### show results\n",
    "\n",
    "Get Dataframe inMemory then show it with *pandas.DataFrame*"
   ]
  },
  {
   "cell_type": "code",
   "execution_count": 12,
   "id": "01d518a9",
   "metadata": {
    "execution": {
     "iopub.execute_input": "2022-02-02T15:38:36.308080Z",
     "iopub.status.busy": "2022-02-02T15:38:36.307736Z",
     "iopub.status.idle": "2022-02-02T15:38:39.106138Z",
     "shell.execute_reply": "2022-02-02T15:38:39.105080Z",
     "shell.execute_reply.started": "2022-02-02T15:38:36.308046Z"
    }
   },
   "outputs": [],
   "source": [
    "sc = spark.sparkContext\n",
    "inMemory_df =profile_df.collect()\n",
    "inMemory_df= sc.parallelize(inMemory_df).toDF()\n",
    "inMemory_df = inMemory_df.toPandas()"
   ]
  },
  {
   "cell_type": "code",
   "execution_count": 13,
   "id": "8092b0f6",
   "metadata": {
    "execution": {
     "iopub.execute_input": "2022-02-02T15:38:39.153963Z",
     "iopub.status.busy": "2022-02-02T15:38:39.153072Z",
     "iopub.status.idle": "2022-02-02T15:38:39.186824Z",
     "shell.execute_reply": "2022-02-02T15:38:39.185780Z",
     "shell.execute_reply.started": "2022-02-02T15:38:39.153874Z"
    }
   },
   "outputs": [
    {
     "data": {
      "text/html": [
       "<div>\n",
       "<style scoped>\n",
       "    .dataframe tbody tr th:only-of-type {\n",
       "        vertical-align: middle;\n",
       "    }\n",
       "\n",
       "    .dataframe tbody tr th {\n",
       "        vertical-align: top;\n",
       "    }\n",
       "\n",
       "    .dataframe thead th {\n",
       "        text-align: right;\n",
       "    }\n",
       "</style>\n",
       "<table border=\"1\" class=\"dataframe\">\n",
       "  <thead>\n",
       "    <tr style=\"text-align: right;\">\n",
       "      <th></th>\n",
       "      <th>column</th>\n",
       "      <th>metric</th>\n",
       "      <th>value</th>\n",
       "      <th>research_date</th>\n",
       "    </tr>\n",
       "  </thead>\n",
       "  <tbody>\n",
       "    <tr>\n",
       "      <th>0</th>\n",
       "      <td>i1c_lim_pre_ap_preventivo</td>\n",
       "      <td>Completeness</td>\n",
       "      <td>1.000000</td>\n",
       "      <td>2022-02-02</td>\n",
       "    </tr>\n",
       "    <tr>\n",
       "      <th>1</th>\n",
       "      <td>i1c_lim_pre_ap_preventivo</td>\n",
       "      <td>ApproxCountDistinct</td>\n",
       "      <td>2.000000</td>\n",
       "      <td>2022-02-02</td>\n",
       "    </tr>\n",
       "    <tr>\n",
       "      <th>2</th>\n",
       "      <td>i1c_lim_pre_ap_preventivo</td>\n",
       "      <td>Minimum</td>\n",
       "      <td>0.000000</td>\n",
       "      <td>2022-02-02</td>\n",
       "    </tr>\n",
       "    <tr>\n",
       "      <th>3</th>\n",
       "      <td>i1c_lim_pre_ap_preventivo</td>\n",
       "      <td>Maximum</td>\n",
       "      <td>2.000000</td>\n",
       "      <td>2022-02-02</td>\n",
       "    </tr>\n",
       "    <tr>\n",
       "      <th>4</th>\n",
       "      <td>i1c_lim_pre_ap_preventivo</td>\n",
       "      <td>Mean</td>\n",
       "      <td>0.016509</td>\n",
       "      <td>2022-02-02</td>\n",
       "    </tr>\n",
       "    <tr>\n",
       "      <th>...</th>\n",
       "      <td>...</td>\n",
       "      <td>...</td>\n",
       "      <td>...</td>\n",
       "      <td>...</td>\n",
       "    </tr>\n",
       "    <tr>\n",
       "      <th>208</th>\n",
       "      <td>i1d_sexo</td>\n",
       "      <td>Histogram.ratio.M</td>\n",
       "      <td>0.609611</td>\n",
       "      <td>2022-02-02</td>\n",
       "    </tr>\n",
       "    <tr>\n",
       "      <th>209</th>\n",
       "      <td>i1d_sexo</td>\n",
       "      <td>Histogram.abs.</td>\n",
       "      <td>856.000000</td>\n",
       "      <td>2022-02-02</td>\n",
       "    </tr>\n",
       "    <tr>\n",
       "      <th>210</th>\n",
       "      <td>i1d_sexo</td>\n",
       "      <td>Histogram.ratio.</td>\n",
       "      <td>0.001581</td>\n",
       "      <td>2022-02-02</td>\n",
       "    </tr>\n",
       "    <tr>\n",
       "      <th>211</th>\n",
       "      <td>i1d_sexo</td>\n",
       "      <td>Histogram.abs.F</td>\n",
       "      <td>210449.000000</td>\n",
       "      <td>2022-02-02</td>\n",
       "    </tr>\n",
       "    <tr>\n",
       "      <th>212</th>\n",
       "      <td>i1d_sexo</td>\n",
       "      <td>Histogram.ratio.F</td>\n",
       "      <td>0.388807</td>\n",
       "      <td>2022-02-02</td>\n",
       "    </tr>\n",
       "  </tbody>\n",
       "</table>\n",
       "<p>213 rows × 4 columns</p>\n",
       "</div>"
      ],
      "text/plain": [
       "                        column               metric          value  \\\n",
       "0    i1c_lim_pre_ap_preventivo         Completeness       1.000000   \n",
       "1    i1c_lim_pre_ap_preventivo  ApproxCountDistinct       2.000000   \n",
       "2    i1c_lim_pre_ap_preventivo              Minimum       0.000000   \n",
       "3    i1c_lim_pre_ap_preventivo              Maximum       2.000000   \n",
       "4    i1c_lim_pre_ap_preventivo                 Mean       0.016509   \n",
       "..                         ...                  ...            ...   \n",
       "208                   i1d_sexo    Histogram.ratio.M       0.609611   \n",
       "209                   i1d_sexo      Histogram.abs.      856.000000   \n",
       "210                   i1d_sexo    Histogram.ratio.        0.001581   \n",
       "211                   i1d_sexo      Histogram.abs.F  210449.000000   \n",
       "212                   i1d_sexo    Histogram.ratio.F       0.388807   \n",
       "\n",
       "    research_date  \n",
       "0      2022-02-02  \n",
       "1      2022-02-02  \n",
       "2      2022-02-02  \n",
       "3      2022-02-02  \n",
       "4      2022-02-02  \n",
       "..            ...  \n",
       "208    2022-02-02  \n",
       "209    2022-02-02  \n",
       "210    2022-02-02  \n",
       "211    2022-02-02  \n",
       "212    2022-02-02  \n",
       "\n",
       "[213 rows x 4 columns]"
      ]
     },
     "execution_count": 13,
     "metadata": {},
     "output_type": "execute_result"
    }
   ],
   "source": [
    "inMemory_df"
   ]
  },
  {
   "cell_type": "code",
   "execution_count": null,
   "id": "256ceca0",
   "metadata": {},
   "outputs": [],
   "source": []
  },
  {
   "cell_type": "code",
   "execution_count": null,
   "id": "9704b1e8",
   "metadata": {},
   "outputs": [],
   "source": []
  },
  {
   "cell_type": "code",
   "execution_count": null,
   "id": "e669f8a9",
   "metadata": {},
   "outputs": [],
   "source": []
  }
 ],
 "metadata": {
  "kernelspec": {
   "display_name": "Python 3",
   "language": "python",
   "name": "python3"
  },
  "language_info": {
   "codemirror_mode": {
    "name": "ipython",
    "version": 3
   },
   "file_extension": ".py",
   "mimetype": "text/x-python",
   "name": "python",
   "nbconvert_exporter": "python",
   "pygments_lexer": "ipython3",
   "version": "3.6.10"
  }
 },
 "nbformat": 4,
 "nbformat_minor": 5
}
