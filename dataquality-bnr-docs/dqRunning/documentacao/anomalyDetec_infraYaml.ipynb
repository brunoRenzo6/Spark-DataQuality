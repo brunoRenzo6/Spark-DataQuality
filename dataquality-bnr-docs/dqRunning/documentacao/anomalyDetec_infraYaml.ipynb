{
 "cells": [
  {
   "cell_type": "markdown",
   "id": "8c41f38e",
   "metadata": {},
   "source": [
    "# Infrastructure \n",
    "Cabe ao usuario definir algumas poucas configuracoes com relacao à arquitetura interna do dataquality. Questoes como por exemplo, tamanho de repositórios e persistencia ou nao de alguns registros.</br>\n",
    "Como será explicado nos próximos tópicos, a definicao desse arquivo é um pouco mais complexa quando estamos configurando uma arquitetura para `anomalyDetection`"
   ]
  },
  {
   "cell_type": "markdown",
   "id": "f5da9f11",
   "metadata": {},
   "source": [
    "### infraYaml:\n",
    "Seja `infrastructure.yaml` um arquivo já existente e costruido com a formatacao necessária.\n",
    "\n",
    "```python\n",
    "dqView_simple = {\"viewName\" : \"foo\",\n",
    "                 \"inputData\": \"foo\",\n",
    "                 \"infraYaml\": \"yamlFiles/complex_tutorial/basic_anomalyDetec/infrastructure.yaml\",\n",
    "                 \"vsYaml\": \"foo\"}\n",
    "```\n"
   ]
  },
  {
   "cell_type": "markdown",
   "id": "418523e0",
   "metadata": {},
   "source": [
    "### Infrastructure .yaml pattern"
   ]
  },
  {
   "cell_type": "markdown",
   "id": "14eb5471",
   "metadata": {},
   "source": [
    "## AnomalyDetection\n",
    "O arquivo .yaml deve seguir a seguinte formatacao:\n",
    "\n",
    "```yaml\n",
    "persistentRepository: {\n",
    "    maxSize: 30\n",
    "}\n",
    "temporaryRepository: {\n",
    "    maxSize: 10, \n",
    "    filters: {\n",
    "        lastNDays: 15,\n",
    "        onlySucceed: True, \n",
    "        nDaysAgo: 15, #NotImplementedYet\n",
    "        \n",
    "        tags: { #NotImplementedYet\n",
    "            dayType: \"business day\" \n",
    "        },\n",
    "        tagsExpression: (((DayType:\"business day\") or (DayType:\"Exception\")) and (AccessLevel:\"Public\")) #NotImplementedYet\n",
    "    }\n",
    "}\n",
    "```\n",
    "\n",
    "##### persistentRepository\n",
    "Ao final de cada execucao do processo de DataQuality, as métricas calculadas e os resultados obtidos sao todos armazenado no diretório de registros persistentes. __Com o registro persistente, é possivel ter um histórico das execucoes passadas.__\n",
    "\n",
    "| p1                   | p2       | p3   | p4   | Desricao                                                                                       | parametro obrigatório   |\n",
    "|:---------------------|:---------|:-----|:-----|:-----------------------------------------------------------------------------------------------|:------------------------|\n",
    "| persistentRepository |          |      |      | É no persistentRepository onde os registro históricos das ultimas execucoes serao armazendados | True                    |\n",
    "| persistentRepository | maxSize  |      |      | Número máximo de registros que serao armazenado no repositório                                 | True                    |"
   ]
  },
  {
   "cell_type": "markdown",
   "id": "69f4067b",
   "metadata": {},
   "source": [
    "##### temporaryRepository\n",
    "\n",
    "É a partir da diferenca entre as métricas do dataframe atual e as métricas calculadas nas execucoes anteriores que o processo de AnomalyDetection acontece. A infraestrutura do sistema já possui um registro histórico de metricas, o persistentRepository. Contudo, para trazer mais flexibilidade ao processo, __o temporaryRepository permite uma selecao de quais dos registro históricos que serao utilizado na deteccao de anomalias.__<br>\n",
    "O objetivo do temporaryRepository é criar um repositório temporario e pertinente apenas à execucao atual, contendo dados filtrados da base de dados persistentes do sistema."
   ]
  },
  {
   "cell_type": "markdown",
   "id": "42195879",
   "metadata": {},
   "source": [
    "| p1                  | p2       | p3               | p4      | Desricao                                                                                                                                                                                                                                                          | parametro obrigatório   |\n",
    "|:--------------------|:---------|:-----------------|:--------|:------------------------------------------------------------------------------------------------------------------------------------------------------------------------------------------------------------------------------------------------------------------|:------------------------|\n",
    "| temporaryRepository |          |                  |         | É no temporaryRepository onde o os registros históricos filtrados seram armazenados temporariamente para suportar o processo de deteccao de anomalias                                                                                                             | True                    |\n",
    "| temporaryRepository | maxSize  |                  |         | Número máximo de registros que serao armazenado no repositório                                                                                                                                                                                                    | True                    |\n",
    "| temporaryRepository | filters  |                  |         | Definicao dos filtros que serao aplicados ao persistentRepository, de modo a criar o temporaryRepository                                                                                                                                                          | False                   |\n",
    "| temporaryRepository | filters  | lastNDays        |         | Filtrar por registro históricos que estejam no maximo N dias distantes do registro mais recente (independente da data corrente, se baseia apenas nos ultimos registros que estao em histórico)                                                                    | False                   |\n",
    "| temporaryRepository | filters  | onlySucceed      |         | Filtrar apenas por registros históricos que tenham sido aprovados na analise de Dq. Caso o registro faca parte de uma execucao que nao tenha sido validada, ele nao ira compor o conjunto de dados a ser utilizado na deteccao de anomalias do corrente dataframe | False                   |\n",
    "| temporaryRepository | filters  | nDaysAgo         |         | Filtrar por datas históricas de no máximo N dias atrás da data atual (considera a data corrente em que o dq esta sendo executado)                                                                                                                                 | False                   |\n",
    "| temporaryRepository | filters  | tags             |         | Filtrar apenas por registro que tenham uma das tags listadas neste parametro                                                                                                                                                                                      | False                   |\n",
    "| temporaryRepository | filters  | tags             | tagName: value | Especificar o nome e valor da tag a ser filtrada                                                                                                                                                                                                                  | False                   |\n",
    "| temporaryRepository | filters  | tagsExpression   |         | Filtrar por registro que tenham as tags, de acordo com a expressao lógica especificada neste parametro                                                                                                                                                            | False                   |"
   ]
  },
  {
   "cell_type": "code",
   "execution_count": null,
   "id": "bf727c03",
   "metadata": {},
   "outputs": [],
   "source": []
  }
 ],
 "metadata": {
  "kernelspec": {
   "display_name": "Python 3",
   "language": "python",
   "name": "python3"
  },
  "language_info": {
   "codemirror_mode": {
    "name": "ipython",
    "version": 3
   },
   "file_extension": ".py",
   "mimetype": "text/x-python",
   "name": "python",
   "nbconvert_exporter": "python",
   "pygments_lexer": "ipython3",
   "version": "3.6.10"
  }
 },
 "nbformat": 4,
 "nbformat_minor": 5
}
