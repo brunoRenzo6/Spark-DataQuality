{
 "cells": [
  {
   "cell_type": "markdown",
   "id": "28fe4b72",
   "metadata": {
    "execution": {
     "iopub.execute_input": "2022-02-01T18:45:33.798388Z",
     "iopub.status.busy": "2022-02-01T18:45:33.798075Z",
     "iopub.status.idle": "2022-02-01T18:45:33.806697Z",
     "shell.execute_reply": "2022-02-01T18:45:33.804987Z",
     "shell.execute_reply.started": "2022-02-01T18:45:33.798361Z"
    }
   },
   "source": [
    "# Verification Suite:\n",
    "verificationSuite.yaml é um arquivo essencial para a execucao do processo de DataQuality. Neste arquivo sao definidos todos parametros diretamente relacionados com as verificacoes que serao feitas.\n"
   ]
  },
  {
   "cell_type": "markdown",
   "id": "d610632e",
   "metadata": {},
   "source": [
    "### vsYaml: \n",
    "Seja `verificationSuite.yaml` um arquivo já existente e costruido com a formatacao necessária.\n",
    "\n",
    "```python\n",
    "dqView_simple = {\"viewName\" : \"foo\",\n",
    "                 \"inputData\": \"foo\",\n",
    "                 \"infraYaml\": \"foo\",\n",
    "                 \"vsYaml\": \"yamlFiles/quick_tutorial/a_check/verificationSuite.yaml\"}\n",
    "```\n"
   ]
  },
  {
   "cell_type": "markdown",
   "id": "66de5fe8",
   "metadata": {},
   "source": [
    "### VerificationSuite .yaml pattern\n",
    "\n",
    "## AnomalyDetection\n",
    "O arquivo .yaml deve seguir a seguinte formatacao:\n",
    "\n",
    "```yaml\n",
    "Check: {\n",
    "    level: Error, \n",
    "    description: 'Descpription by Yaml'\n",
    "}\n",
    "\n",
    "\n",
    "ResultKey: { #[Nao obrigatório]\n",
    "    key_tags: {\n",
    "        tag1: x,\n",
    "        tag2: y,\n",
    "        tag3: z\n",
    "    } \n",
    "}\n",
    "\n",
    "AnomalyDetection: [\n",
    "    addAnomalyCheck: {\n",
    "        analyzer: Maximum(\"i1c_lim_pre_ap_preventivo\"),\n",
    "        strategy: 'AbsoluteChangeStrategy(maxRateIncrease=25.0, maxRateDecrease= -25.0)'\n",
    "    },\n",
    "    addAnomalyCheck: {\n",
    "        analyzer: Maximum(\"i1c_renda_final\"),\n",
    "        strategy: 'AbsoluteChangeStrategy(maxRateIncrease=100.0, maxRateDecrease= -50.0)'\n",
    "    },\n",
    "    addAnomalyCheck: {\n",
    "        analyzer: Minimum(\"i1c_renda_final\"),\n",
    "        strategy: 'RelativeRateOfChangeStrategy(maxRateIncrease=1.5, maxRateDecrease= -1.5)'\n",
    "    },\n",
    "    addAnomalyCheck: {\n",
    "        analyzer: Mean(\"i1c_renda_final\"),\n",
    "        strategy: 'RelativeRateOfChangeStrategy(maxRateIncrease=1.2, maxRateDecrease= -1.2)'\n",
    "    }\n",
    "]\n",
    "\n",
    "```\n",
    "\n",
    "* Todos os resultados da deteccao de anomalias estao relacionados com um objeto __check__, que defini nível de severidade e uma descricao breve. (pydeequ.checks.Check)\n",
    "\n",
    "* __ResultKey__, assim como Check, é um objeto nativo do pydeequ (pydeequ.repository.ResultKey). Esse parametro permite a atribuicao de tags às verificacoes.  \n",
    "\n",
    "* Em __AnomalyDetection__, é definida uma lista de addAnomalyCheck's, que por sua vez operam a partir de um tipo especifico de estratégia e analise\n",
    "    * E finalmente, é nesta etapa que sao definidas os tipos de anomalyDetecion's a a serem a utilizadas no processo de DataQuality.\n",
    "    * Uma lista das possiveis estratégias de anomalyDetection está disponivel na documentacao oficial do PyDeequ (https://github.com/awslabs/python-deequ/blob/master/docs/anomaly_detection.md\\), e também na secao de anexos deste documento\n",
    "    * Uma lista das possiveis classes de analise está disponível na documentacao oficial do PyDeequ (https://github.com/awslabs/python-deequ/blob/master/docs/analyzers.md), e também na secao de anexos deste documento."
   ]
  },
  {
   "cell_type": "markdown",
   "id": "50e5b734",
   "metadata": {},
   "source": [
    "### Anexos:\n",
    "\n",
    "#### Anomaly Detection \n",
    "from pyDeequ (https://github.com/awslabs/python-deequ/blob/master/docs/anomaly_detection.md)<br>\n",
    "Here are the current supported functionalities of Anomaly Detection. \n",
    "\n",
    "| Class               | Method                                          | Status |\n",
    "|---------------------|-------------------------------------------------|:------:|\n",
    "| RelativeRateOfChangeStrategy | RelativeRateOfChangeStrategy(maxRateDecrease, maxRateIncrease, order) | Done |\n",
    "| AbsoluteChangeStrategy  | AbsoluteChangeStrategy(maxRateDecrease, maxRateIncrease, order) | Done |\n",
    "| SimpleThresholdStrategy | SimpleThresholdStrategy(lowerBound, upperBound) | Done |\n",
    "| OnlineNormalStrategy | OnlineNormalStrategy(lowerDeviationFactor, upperDeviationFactor, ignoreStartPercentage, ignoreAnomalies) | Done |\n",
    "| BatchNormalStrategy | BatchNormalStrategy(lowerDeviationFactor, upperDeviationFactor, includeInterval) | Done |\n",
    "| MetricInterval(Enum) | ['Daily','Monthly'] | Done |\n",
    "| SeriesSeasonality(Enum) | ['Weekly','Yearly'] | Done |\n",
    "| HoltWinters | HoltWinters(metricsInterval, seasonality) | Done |\n",
    "\n",
    "\n",
    "#### Analyzers\n",
    "from pyDeequ (https://github.com/awslabs/python-deequ/blob/master/docs/analyzers.md)<br>\n",
    "Here are the current supported functionalities of Analyzers. \n",
    "\n",
    "| Class               | Method                                          | Status |\n",
    "|---------------------|-------------------------------------------------|:------:|\n",
    "| AnalysisRunner      | onData(DataFrame)                               | Done   |\n",
    "| AnalysisRunBuilder  | addAnalyzer(analyzer)                           | Done   |\n",
    "|                     | run()                                           | Done   |\n",
    "|                     | useRepository(repository)                       | Done   |\n",
    "|                     | saveOrAppendResult(resultKey)                   | Done   |\n",
    "| ApproxCountDistinct | ApproxCountDistinct(column)                     | Done   |\n",
    "| ApproxQuantile      | ApproxQuantile(column, quantile, relativeError) | Done       |\n",
    "| ApproxQuantiles     | ApproxQuantiles(column, quantiles)           |  Done      |\n",
    "| Completeness          | Completeness(column)          |      Done     |\n",
    "| Compliance | Compliance(instance, predicate) | Done|\n",
    "| Correlation | Correlation(column1, column2) | Done| \n",
    "| CountDistinct | CountDistinct(columns) | Done| \n",
    "| Datatype | Datatype(column) | Done| \n",
    "| Distinctness | Distinctness(columns) | Done| \n",
    "| Entropy | Entropy(column) | Done| \n",
    "| Histogram | Histogram(column, binningUdf, maxDetailBins) | Done|\n",
    "| KLLParameters | KLLParameters(spark_session, sketchSize, shrinkingFactor, numberOfBuckets) | Done|\n",
    "| KLLSketch | KLLSketch(column, kllParameters) | Done | \n",
    "| Histogram_maxBins | Histogram_maxBins(column, binningUdf, maxDetailBins) | Done | \n",
    "| Maximum | Maximum(column) | Done| \n",
    "| MaxLength | MaxLength(column) | Done| \n",
    "| Mean | Mean(column) | Done| \n",
    "| Minimum | Minimum(column) | Done| \n",
    "| MinLength | MinLength(column) | Done| \n",
    "| MutualInformation | MutualInformation(columns) | Done| \n",
    "| StandardDeviation | StandardDeviation(column) | Done| \n",
    "| Sum | Sum(column) | Done| \n",
    "| Uniqueness | Uniqueness(columns) | Done| \n",
    "| UniqueValueRatio | UniqueValueRatio(columns) | Done|\n",
    "| AnalyzerContext | successMetricsAsDataFrame(spark_session, analyzerContext) | Done |\n",
    "|   | successMetricsAsJson(spark_session, analyzerContext) | Done |"
   ]
  },
  {
   "cell_type": "markdown",
   "id": "d4f02111",
   "metadata": {},
   "source": []
  },
  {
   "cell_type": "markdown",
   "id": "fdde3198",
   "metadata": {},
   "source": []
  },
  {
   "cell_type": "markdown",
   "id": "4b069441",
   "metadata": {},
   "source": []
  },
  {
   "cell_type": "markdown",
   "id": "56674cc0",
   "metadata": {},
   "source": []
  },
  {
   "cell_type": "markdown",
   "id": "0bd4639d",
   "metadata": {},
   "source": []
  },
  {
   "cell_type": "markdown",
   "id": "fd6e92cd",
   "metadata": {},
   "source": []
  },
  {
   "cell_type": "markdown",
   "id": "b81c5a53",
   "metadata": {},
   "source": []
  }
 ],
 "metadata": {
  "kernelspec": {
   "display_name": "Python 3",
   "language": "python",
   "name": "python3"
  },
  "language_info": {
   "codemirror_mode": {
    "name": "ipython",
    "version": 3
   },
   "file_extension": ".py",
   "mimetype": "text/x-python",
   "name": "python",
   "nbconvert_exporter": "python",
   "pygments_lexer": "ipython3",
   "version": "3.6.10"
  }
 },
 "nbformat": 4,
 "nbformat_minor": 5
}
