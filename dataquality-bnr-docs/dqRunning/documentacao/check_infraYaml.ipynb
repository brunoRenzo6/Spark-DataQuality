{
 "cells": [
  {
   "cell_type": "markdown",
   "id": "54e4867f",
   "metadata": {},
   "source": [
    "# Infrastructure \n",
    "Cabe ao usuario definir algumas poucas configuracoes com relacao à arquitetura interna do dataquality. Questoes como por exemplo, tamanho de repositórios e persistencia ou nao de alguns registros.</br>"
   ]
  },
  {
   "cell_type": "markdown",
   "id": "9421bf36",
   "metadata": {},
   "source": [
    "### infraYaml:\n",
    "Seja `infrastructure.yaml` um arquivo já existente e costruido com a formatacao necessária.\n",
    "\n",
    "```python\n",
    "dqView_simple = {\"viewName\" : \"foo\",\n",
    "                 \"inputData\": \"foo\",\n",
    "                 \"infraYaml\": \"yamlFiles/quick_tutorial/a_check/infrastructure.yaml\",\n",
    "                 \"vsYaml\": \"foo\"}\n",
    "```\n"
   ]
  },
  {
   "cell_type": "markdown",
   "id": "0d0890a7",
   "metadata": {},
   "source": [
    "### Infrastructure .yaml pattern"
   ]
  },
  {
   "cell_type": "markdown",
   "id": "dc7a38e0",
   "metadata": {},
   "source": [
    "## Check\n",
    "A definicao de uma `view` do tipo *__check__* é muito simples. É necessária apenas a definicao de um único parametro, o número máximo de registros que serao acumulados em `persistentRepository`. \n",
    "\n",
    "```yaml\n",
    "persistentRepository: {\n",
    "    maxSize: 30\n",
    "}\n",
    "```\n",
    "\n",
    "##### persistentRepository\n",
    "Ao final de cada execucao do processo de DataQuality, as métricas calculadas e os resultados obtidos sao todos armazenado no diretório de registros persistentes. __Com o registro persistente, é possivel ter um histórico das execucoes passadas.__\n",
    "\n",
    "| p1                   | p2       | p3   | p4   | Desricao                                                                                       | parametro obrigatório   |\n",
    "|:---------------------|:---------|:-----|:-----|:-----------------------------------------------------------------------------------------------|:------------------------|\n",
    "| persistentRepository |          |      |      | É no persistentRepository onde os registro históricos das ultimas execucoes serao armazendados | True                    |\n",
    "| persistentRepository | maxSize  |      |      | Número máximo de registros que serao armazenado no repositório                                 | True                    |"
   ]
  },
  {
   "cell_type": "markdown",
   "id": "1625b364",
   "metadata": {},
   "source": []
  }
 ],
 "metadata": {
  "kernelspec": {
   "display_name": "Python 3",
   "language": "python",
   "name": "python3"
  },
  "language_info": {
   "codemirror_mode": {
    "name": "ipython",
    "version": 3
   },
   "file_extension": ".py",
   "mimetype": "text/x-python",
   "name": "python",
   "nbconvert_exporter": "python",
   "pygments_lexer": "ipython3",
   "version": "3.6.10"
  }
 },
 "nbformat": 4,
 "nbformat_minor": 5
}
