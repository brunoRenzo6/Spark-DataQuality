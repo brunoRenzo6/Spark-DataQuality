{
 "cells": [
  {
   "cell_type": "markdown",
   "id": "9c0094ac",
   "metadata": {
    "execution": {
     "iopub.execute_input": "2022-02-01T18:45:33.798388Z",
     "iopub.status.busy": "2022-02-01T18:45:33.798075Z",
     "iopub.status.idle": "2022-02-01T18:45:33.806697Z",
     "shell.execute_reply": "2022-02-01T18:45:33.804987Z",
     "shell.execute_reply.started": "2022-02-01T18:45:33.798361Z"
    }
   },
   "source": [
    "# Verification Suite:\n",
    "verificationSuite.yaml é um arquivo essencial para a execucao do processo de DataQuality. Neste arquivo sao definidos todos parametros diretamente relacionados com as verificacoes que serao feitas.\n"
   ]
  },
  {
   "cell_type": "markdown",
   "id": "0fc23136",
   "metadata": {},
   "source": [
    "### vsYaml: \n",
    "Seja `verificationSuite.yaml` um arquivo já existente e costruido com a formatacao necessária.\n",
    "\n",
    "```python\n",
    "dqView_simple = {\"viewName\" : \"foo\",\n",
    "                 \"inputData\": \"foo\",\n",
    "                 \"infraYaml\": \"foo\",\n",
    "                 \"vsYaml\": \"yamlFiles/quick_tutorial/a_check/verificationSuite.yaml\"}\n",
    "```\n"
   ]
  },
  {
   "cell_type": "markdown",
   "id": "37fa4797",
   "metadata": {},
   "source": [
    "### VerificationSuite .yaml pattern\n",
    "\n",
    "## Check\n",
    "O arquivo .yaml deve seguir a seguinte formatacao:\n",
    "\n",
    "```yaml\n",
    "Check: {\n",
    "    level: Error, \n",
    "    description: 'CheckObject by yaml File'\n",
    "}\n",
    "\n",
    "ResultKey: { #[Nao obrigatório]\n",
    "    key_tags: {\n",
    "        tag1: x,\n",
    "        tag2: y,\n",
    "        tag3: z\n",
    "    } \n",
    "}\n",
    "\n",
    "Constraints: [\n",
    "    addConstraint: 'hasSize(lambda x: x >= 1000)',\n",
    "    addConstraint: 'hasMin(\"vl_rating_risc\", lambda x: x == 1.0)',\n",
    "    addConstraint: 'hasMax(\"vl_rating_risc\", lambda x: x == 5.0)',\n",
    "    addConstraint: 'isComplete(\"nr_cpf\")',\n",
    "    addConstraint: 'isUnique(\"nr_cpf\")',\n",
    "    addConstraint: 'isComplete(\"dt_inic_camp\")',\n",
    "    addConstraint: 'isContainedIn(\"cd_camp\", [\"62\", \"1\"])',\n",
    "    addConstraint: 'isNonNegative(\"vl_maxi_parc_cheq\")'\n",
    "]\n",
    "```\n",
    "\n",
    "* Todos os resultados da verificacao estao relacionados com um objeto __check__, que defini nível de severidade e uma descricao breve. (pydeequ.checks.Check)\n",
    "* __ResultKey__, assim como Check, é um objeto nativo do pydeequ (pydeequ.repository.ResultKey). Esse parametro permite a atribuicao de tags às verificacoes. [Nao obrigatório]  \n",
    "* Em __Constraints__, é definida uma lista de addConstraint's.\n",
    "    * E finalmente, é nesta etapa que sao definidos os checks a serem utilizadas no processo de DataQuality.\n",
    "    * Uma lista das possiveis classes de checks está disponivel na documentacao oficial do PyDeequ (https://github.com/awslabs/python-deequ/blob/master/docs/analyzers.md), e também na secao de anexos deste documento."
   ]
  },
  {
   "cell_type": "markdown",
   "id": "26c7814a",
   "metadata": {},
   "source": [
    "### Anexos:\n",
    "#### Checks \n",
    "from pyDeequ (https://github.com/awslabs/python-deequ/blob/master/docs/checks.md)<br>\n",
    "Here are the current supported functionalities of Checks. \n",
    "\n",
    "| Class               | Method                                          | Status |\n",
    "|---------------------|-------------------------------------------------|:------:|\n",
    "| Check      | Check(spark_session, level, description, constraints)                               | Done   |\n",
    "|  | addConstraint(constraint) | Not Planned |\n",
    "|  | addFilterableContstraint(creationFunc) | Not Planned |\n",
    "|  | hasSize(assertion) | Done |\n",
    "|  | isComplete(column) | Done |\n",
    "|  | hasCompleteness(column, assertion) | Done |\n",
    "|  | areComplete(columns) | Done |\n",
    "|  | haveCompleteness(columns, assertion) | Done |\n",
    "|  | areAnyComplete(columns) | Done |\n",
    "|  | haveAnyCompleteness(columns, assertion) | Done |\n",
    "|  | isUnique(column) | Done |\n",
    "|  | isPrimaryKey(column, *columns) | Not Implemented |\n",
    "|  | hasUniqueness(columns, assertion) | Done |\n",
    "|  | hasDistinctness(columns, assertion) | Done |\n",
    "|  | hasUniqueValueRatio(columns, assertion) | Done |\n",
    "|  | hasNumberOfDistinctValues(column, assertion, binningUdf, maxBins) | Done |\n",
    "|  | hasHistogramValues(column, assertion, binningUdf, maxBins) | Done |\n",
    "|  | kllSketchSatisfies(column, assertion, kllParameters) | Done |\n",
    "|  | hasEntropy(column, assertion) | Done |\n",
    "|  | hasMutualInformation(columnA, columnB, assertion) | Done |\n",
    "|  | hasApproxQuantile(column, quantile, assertion) | Done |\n",
    "|  | hasMinLength(column, assertion) | Done |\n",
    "|  | hasMaxLength(column, assertion) | Done |\n",
    "|  | hasMin(column, assertion) | Done |\n",
    "|  | hasMax(column, assertion) | Done |\n",
    "|  | hasMean(column, assertion) | Done |\n",
    "|  | hasSum(column, assertion) | Done |\n",
    "|  | hasStandardDeviation(column, assertion) | Done |\n",
    "|  | hasApproxCountDistinct(column, assertion) | Done |\n",
    "|  | hasCorrelation(columnA, columnB, assertion) | Done |\n",
    "|  | satisfies(columnCondition, constraintName, assertion) | Done |\n",
    "|  | hasPattern(column, pattern, assertion, name) | Done |\n",
    "|  | containsCreditCardNumber(column, assertion) | Done |\n",
    "|  | containsEmail(column, assertion) | Done |\n",
    "|  | containsURL(column, assertion) | Done |\n",
    "|  | containsSocialSecurityNumber(column, assertion) | Done |\n",
    "|  | hasDataType(column, datatype, assertion) | Done |\n",
    "|  | isNonNegative(column, assertion) | Done |\n",
    "|  | isPositive(column, assertion) | Done |\n",
    "|  | isLessThan(columnA, columnB, assertion) | Done |\n",
    "|  | isLessThanOrEqualTo(columnA, columnB) | Done |\n",
    "|  | isGreaterThan(columnA, columnB, assertion) | Done |\n",
    "|  | isGreaterThanOrEqualTo(columnA, columnB) | Done |\n",
    "|  | isContainedIn(column, allowed_values) | Done |\n",
    "|  | evaluate(context) | Not Implemented |\n",
    "|  | requiredAnalyzers() | Not Planned |\n",
    "|  | "
   ]
  },
  {
   "cell_type": "markdown",
   "id": "2cc7f898",
   "metadata": {},
   "source": []
  },
  {
   "cell_type": "markdown",
   "id": "822adb16",
   "metadata": {},
   "source": []
  },
  {
   "cell_type": "markdown",
   "id": "407a57ce",
   "metadata": {},
   "source": []
  },
  {
   "cell_type": "markdown",
   "id": "076cd556",
   "metadata": {},
   "source": []
  },
  {
   "cell_type": "markdown",
   "id": "ea32a5bb",
   "metadata": {},
   "source": []
  },
  {
   "cell_type": "markdown",
   "id": "d088e109",
   "metadata": {},
   "source": []
  },
  {
   "cell_type": "markdown",
   "id": "2a0343f0",
   "metadata": {},
   "source": []
  }
 ],
 "metadata": {
  "kernelspec": {
   "display_name": "Python 3",
   "language": "python",
   "name": "python3"
  },
  "language_info": {
   "codemirror_mode": {
    "name": "ipython",
    "version": 3
   },
   "file_extension": ".py",
   "mimetype": "text/x-python",
   "name": "python",
   "nbconvert_exporter": "python",
   "pygments_lexer": "ipython3",
   "version": "3.6.10"
  }
 },
 "nbformat": 4,
 "nbformat_minor": 5
}
