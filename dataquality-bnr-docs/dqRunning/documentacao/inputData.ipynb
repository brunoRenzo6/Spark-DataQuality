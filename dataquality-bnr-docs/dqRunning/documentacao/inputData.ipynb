{
 "cells": [
  {
   "cell_type": "markdown",
   "id": "2b914945",
   "metadata": {},
   "source": [
    "# Input Data \n",
    "É a partir da definicao desse parametro que o usuário informa ao sistema quais os dados a serem trabalhados nesta visao especifica de dataquality.\n"
   ]
  },
  {
   "cell_type": "markdown",
   "id": "2f2aa628",
   "metadata": {},
   "source": [
    "### inputData: via pyspark.sql.DataFrame\n",
    "Sendo `df` um dataframe já existente, os sistema aceita receber essa atribuicao direta.\n",
    "\n",
    "```python\n",
    "dqView_simple = {\"viewName\" : \"foo\",\n",
    "                 \"inputData\": df,\n",
    "                 \"infraYaml\": \"foo\",\n",
    "                 \"vsYaml\": \"foo\"}\n",
    "\n",
    "```"
   ]
  },
  {
   "cell_type": "markdown",
   "id": "e8450162",
   "metadata": {},
   "source": [
    "### inputData: via .yaml file\n",
    "Seja `inputData.yaml` um arquivo já existente e costruido com a formatacao necessária.\n",
    "\n",
    "```python\n",
    "dqView_simple = {\"viewName\" : \"foo\",\n",
    "                 \"inputData\": \"yamlFiles/quick_tutorial/a_check/inputData.yaml\",\n",
    "                 \"infraYaml\": \"foo\",\n",
    "                 \"vsYaml\": \"foo\"}\n",
    "```\n"
   ]
  },
  {
   "cell_type": "markdown",
   "id": "89b82c12",
   "metadata": {},
   "source": []
  },
  {
   "cell_type": "markdown",
   "id": "30031bd4",
   "metadata": {},
   "source": [
    "## inputData .yaml Patterns\n",
    "Uma das formas de fazer a deinificao do inputData é via arquivo .yaml.</br>\n",
    "São três os padroes aceitos pelo sistema.\n",
    "\n",
    "* Padrao 1: Extraindo do `HDFS path` e aplicando `sqlQuery`\n",
    "\n",
    "```yaml\n",
    "- hdfs_path: \"hdfs://nameservice1/sistemas/bdi/TH/THBPD381/daily/2022/01/03\"\n",
    "  table_name: my_thbpd381\n",
    "  sql_query: |\n",
    "    select\n",
    "        i1c_renda_final,\n",
    "        i1c_lim_pre_ap_preventivo,\n",
    "        i1c_rating_riscos,\n",
    "        i1d_idade,\n",
    "        i1d_sexo\n",
    "    from my_thbpd381 where i1d_sexo = 'M' and i1c_renda_final < 5100.00\n",
    "    \n",
    "```\n",
    "* Padrao 2: Extraindo do `HDFS path`\n",
    "\n",
    "```yaml\n",
    "- hdfs_path: \"hdfs://nameservice1/sistemas/bdi/TH/THDT036/daily/2021/01/28\"\n",
    "```\n",
    "\n",
    "* Padrao 3: Extraindo tabela do `hive`\n",
    "\n",
    "```yaml\n",
    "- sql_query: |\n",
    "    select\n",
    "        i1c_renda_final,\n",
    "        i1c_lim_pre_ap_preventivo,\n",
    "        i1c_rating_riscos,\n",
    "        i1d_idade,\n",
    "        i1d_sexo,\n",
    "        i1c_cli_possui_conta,\n",
    "        i1c_soc_cd_segm_empr1,\n",
    "        i1c_soc_cd_ramo_atvd1,\n",
    "        dat_ref_carga\n",
    "    from th.thbpd381 where dat_ref_carga='2022-01-03'\n",
    "```"
   ]
  },
  {
   "cell_type": "markdown",
   "id": "17f9216f",
   "metadata": {},
   "source": []
  }
 ],
 "metadata": {
  "kernelspec": {
   "display_name": "Python 3",
   "language": "python",
   "name": "python3"
  },
  "language_info": {
   "codemirror_mode": {
    "name": "ipython",
    "version": 3
   },
   "file_extension": ".py",
   "mimetype": "text/x-python",
   "name": "python",
   "nbconvert_exporter": "python",
   "pygments_lexer": "ipython3",
   "version": "3.6.10"
  }
 },
 "nbformat": 4,
 "nbformat_minor": 5
}
