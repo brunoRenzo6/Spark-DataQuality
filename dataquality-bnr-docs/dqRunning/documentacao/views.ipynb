{
 "cells": [
  {
   "cell_type": "markdown",
   "id": "f45d2497",
   "metadata": {
    "execution": {
     "iopub.execute_input": "2022-01-27T14:34:50.589178Z",
     "iopub.status.busy": "2022-01-27T14:34:50.588665Z",
     "iopub.status.idle": "2022-01-27T14:34:50.591913Z",
     "shell.execute_reply": "2022-01-27T14:34:50.591379Z",
     "shell.execute_reply.started": "2022-01-27T14:34:50.589142Z"
    }
   },
   "source": [
    "### dqRunning/docs\n",
    "## views"
   ]
  },
  {
   "cell_type": "markdown",
   "id": "16bd23c7",
   "metadata": {},
   "source": [
    "A estruturacao de uma *__view__* específica ocorre via definicao de um dicionario com as seguintes chaves:\n",
    "```python\n",
    "dqView_simple = {\"viewName\" : \"\",\n",
    "                 \"inputData\": \"\",\n",
    "                 \"infraYaml\": \"\",\n",
    "                 \"vsYaml\": \"\"}\n",
    "```\n",
    "É importante que o nome das chaves seja mantido, assim o sistema consegue identificar e sempre extrair as informacoes necessárias buscando por essas chave já conhecidas"
   ]
  },
  {
   "cell_type": "markdown",
   "id": "3dd674e8",
   "metadata": {
    "execution": {
     "iopub.execute_input": "2022-01-27T14:50:41.229581Z",
     "iopub.status.busy": "2022-01-27T14:50:41.229035Z",
     "iopub.status.idle": "2022-01-27T14:50:41.234335Z",
     "shell.execute_reply": "2022-01-27T14:50:41.233120Z",
     "shell.execute_reply.started": "2022-01-27T14:50:41.229533Z"
    }
   },
   "source": [
    "### key. viewName\n",
    "Em *__viewName__* deve ser atribuido um nome a essa view específica. Importante que cada *view* tenha um nome único."
   ]
  },
  {
   "cell_type": "markdown",
   "id": "89dff39c",
   "metadata": {
    "execution": {
     "iopub.execute_input": "2022-01-27T14:52:24.899205Z",
     "iopub.status.busy": "2022-01-27T14:52:24.898803Z",
     "iopub.status.idle": "2022-01-27T14:52:24.909359Z",
     "shell.execute_reply": "2022-01-27T14:52:24.907735Z",
     "shell.execute_reply.started": "2022-01-27T14:52:24.899170Z"
    }
   },
   "source": [
    "### key. inputData\n",
    "Existem duas formas de definir a tabela de entrada do processo:\n",
    "* Via `pyspark.sql.DataFrame`, definindo diretamente qual a tabela de entrada\n",
    "* Via arquivo `.yaml`, onde a partir de uma `query sql` ou um `HDFS path` o sistema poderá extrair a tabela de entrada.\n",
    "\n",
    "Em [dqRunning/docs/inputData.ipynb](inputData.ipynb) está documentado qual o padrao e formatacao necessária para esse arquivo .yaml"
   ]
  },
  {
   "cell_type": "markdown",
   "id": "504e9937",
   "metadata": {},
   "source": [
    "### key. infraYaml\n",
    "Também via arquivo .yaml, em *__infraYaml__* (de *infrastructureYaml*) serao definidas algumas poucas informacoes necessárias para a construcao da arquitetura interna do dataquality, como por exemplo, tamanho de repositórios e persistencia ou nao de alguns de registros\n",
    "\n",
    "Em [dqRunning/docs/](foo.ipynb) temos [anomalyDetec_infraYaml.ipynb](anomalyDetec_infraYaml.ipynb) e [check_infraYaml.ipynb](check_infraYaml.ipynb), notebooks onde estao documentados quais os padroes e formatacoes necessárias para a contrucao desse arquivo .yaml"
   ]
  },
  {
   "cell_type": "markdown",
   "id": "3613d367",
   "metadata": {},
   "source": [
    "### key. vsYaml\n",
    "O mais importante dos parametros é com certeza o *__vsYaml__* (de *verificationSuiteYaml*). É neste arquivo onde estao listadas todas as verificacoes que devarao ser realizadas sobre os dados de entrada.\n",
    "\n",
    "Em [dqRunning/docs/](foo.ipynb) temos [anomalyDetec_vsYaml.ipynb](anomalyDetec_vsYaml.ipynb) e [check_vsYaml.ipynb](check_vsYaml.ipynb), notebooks onde estao documentados quais os padroes e formatacoes necessárias para a contrucao desse arquivo .yaml"
   ]
  },
  {
   "cell_type": "markdown",
   "id": "98a1806c",
   "metadata": {},
   "source": []
  }
 ],
 "metadata": {
  "kernelspec": {
   "display_name": "Python 3",
   "language": "python",
   "name": "python3"
  },
  "language_info": {
   "codemirror_mode": {
    "name": "ipython",
    "version": 3
   },
   "file_extension": ".py",
   "mimetype": "text/x-python",
   "name": "python",
   "nbconvert_exporter": "python",
   "pygments_lexer": "ipython3",
   "version": "3.6.10"
  }
 },
 "nbformat": 4,
 "nbformat_minor": 5
}
