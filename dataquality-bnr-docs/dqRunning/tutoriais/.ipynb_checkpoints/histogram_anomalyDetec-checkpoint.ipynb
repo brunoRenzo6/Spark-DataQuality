{
 "cells": [
  {
   "cell_type": "markdown",
   "metadata": {
    "execution": {
     "iopub.execute_input": "2022-01-24T18:36:11.029632Z",
     "iopub.status.busy": "2022-01-24T18:36:11.029176Z",
     "iopub.status.idle": "2022-01-24T18:36:11.033706Z",
     "shell.execute_reply": "2022-01-24T18:36:11.032659Z",
     "shell.execute_reply.started": "2022-01-24T18:36:11.029589Z"
    }
   },
   "source": [
    "# Histogram Anomaly Detection\n",
    "\n",
    "__O objetivo desse tutorial é apresentar Deteccao de Anomalias em Histogramas__. Essa funcionalidade permite voce acompanhar desvios na distribuicao de valores de uma coluna. "
   ]
  },
  {
   "cell_type": "markdown",
   "metadata": {},
   "source": [
    "### Installation"
   ]
  },
  {
   "cell_type": "markdown",
   "metadata": {},
   "source": [
    "O primeiro passo é fazer a instalacao do pacote via *pip install*"
   ]
  },
  {
   "cell_type": "code",
   "execution_count": 46,
   "metadata": {
    "execution": {
     "iopub.execute_input": "2022-02-04T17:00:55.111725Z",
     "iopub.status.busy": "2022-02-04T17:00:55.111361Z",
     "iopub.status.idle": "2022-02-04T17:00:55.223115Z",
     "shell.execute_reply": "2022-02-04T17:00:55.221915Z",
     "shell.execute_reply.started": "2022-02-04T17:00:55.111685Z"
    }
   },
   "outputs": [],
   "source": [
    "#!pip install dataquality_bnr"
   ]
  },
  {
   "cell_type": "markdown",
   "metadata": {},
   "source": [
    "### Set up a PySpark session\n",
    "A biblioteca foi construida para ser utilizada com __PySpark__ e possibilitar '*testes unitarios dos dados*', executando validacoes qualitativas em datasets de larga escala.</br>\n",
    "A integracao da sessao spark e a biblioteca depende apenas de duas configuracoes adicionais:\n"
   ]
  },
  {
   "cell_type": "code",
   "execution_count": 1,
   "metadata": {
    "execution": {
     "iopub.execute_input": "2022-02-04T17:29:13.530318Z",
     "iopub.status.busy": "2022-02-04T17:29:13.530108Z",
     "iopub.status.idle": "2022-02-04T17:29:47.061036Z",
     "shell.execute_reply": "2022-02-04T17:29:47.059636Z",
     "shell.execute_reply.started": "2022-02-04T17:29:13.530293Z"
    }
   },
   "outputs": [],
   "source": [
    "from pyspark.sql import SparkSession, Row\n",
    "from dataquality_bnr.dqSupport import main as dqSup\n",
    "\n",
    "spark = SparkSession\\\n",
    "        .builder\\\n",
    "        .config(\"spark.jars\", dqSup.getDeequJar_path())\\\n",
    "        .config(\"spark.jars.excludes\", dqSup.getDeequJar_excludes())\\\n",
    "        .getOrCreate()"
   ]
  },
  {
   "cell_type": "markdown",
   "metadata": {
    "execution": {
     "iopub.execute_input": "2021-10-13T20:39:02.840536Z",
     "iopub.status.busy": "2021-10-13T20:39:02.840048Z",
     "iopub.status.idle": "2021-10-13T20:39:02.856396Z",
     "shell.execute_reply": "2021-10-13T20:39:02.854108Z",
     "shell.execute_reply.started": "2021-10-13T20:39:02.840491Z"
    }
   },
   "source": [
    "### Dataset\n",
    "We will be running the analyzers on a dataset sampled from th.thbpd38 table"
   ]
  },
  {
   "cell_type": "code",
   "execution_count": 2,
   "metadata": {
    "execution": {
     "iopub.execute_input": "2022-02-04T17:29:47.063724Z",
     "iopub.status.busy": "2022-02-04T17:29:47.063446Z",
     "iopub.status.idle": "2022-02-04T17:29:54.018322Z",
     "shell.execute_reply": "2022-02-04T17:29:54.017416Z",
     "shell.execute_reply.started": "2022-02-04T17:29:47.063686Z"
    }
   },
   "outputs": [],
   "source": [
    "sql_query = \"\"\"\n",
    "select\n",
    "    i1c_renda_final,\n",
    "    i1c_lim_pre_ap_preventivo,\n",
    "    i1c_rating_riscos,\n",
    "    i1d_idade,\n",
    "    i1d_sexo,\n",
    "    i1c_cli_possui_conta,\n",
    "    i1c_soc_cd_segm_empr1,\n",
    "    i1c_soc_cd_ramo_atvd1,\n",
    "    dat_ref_carga\n",
    "from th.thbpd381 where dat_ref_carga='2022-01-03'\n",
    "\"\"\"\n",
    "df_input = spark.sql(sql_query)"
   ]
  },
  {
   "cell_type": "code",
   "execution_count": 3,
   "metadata": {
    "execution": {
     "iopub.execute_input": "2022-02-04T17:29:54.019821Z",
     "iopub.status.busy": "2022-02-04T17:29:54.019622Z",
     "iopub.status.idle": "2022-02-04T17:29:54.079071Z",
     "shell.execute_reply": "2022-02-04T17:29:54.078386Z",
     "shell.execute_reply.started": "2022-02-04T17:29:54.019798Z"
    }
   },
   "outputs": [
    {
     "name": "stdout",
     "output_type": "stream",
     "text": [
      "root\n",
      " |-- i1c_renda_final: integer (nullable = true)\n",
      " |-- i1c_lim_pre_ap_preventivo: integer (nullable = true)\n",
      " |-- i1c_rating_riscos: integer (nullable = true)\n",
      " |-- i1d_idade: integer (nullable = true)\n",
      " |-- i1d_sexo: string (nullable = true)\n",
      " |-- i1c_cli_possui_conta: string (nullable = true)\n",
      " |-- i1c_soc_cd_segm_empr1: integer (nullable = true)\n",
      " |-- i1c_soc_cd_ramo_atvd1: integer (nullable = true)\n",
      " |-- dat_ref_carga: string (nullable = true)\n",
      "\n"
     ]
    }
   ],
   "source": [
    "df_input.printSchema()"
   ]
  },
  {
   "cell_type": "code",
   "execution_count": null,
   "metadata": {},
   "outputs": [],
   "source": []
  },
  {
   "cell_type": "markdown",
   "metadata": {},
   "source": [
    "## Histogram Anomaly Detection"
   ]
  },
  {
   "cell_type": "code",
   "execution_count": 4,
   "metadata": {
    "execution": {
     "iopub.execute_input": "2022-02-04T17:12:55.509868Z",
     "iopub.status.busy": "2022-02-04T17:12:55.509599Z",
     "iopub.status.idle": "2022-02-04T17:13:01.947044Z",
     "shell.execute_reply": "2022-02-04T17:13:01.945642Z",
     "shell.execute_reply.started": "2022-02-04T17:12:55.509841Z"
    }
   },
   "outputs": [
    {
     "name": "stdout",
     "output_type": "stream",
     "text": [
      "22/02/04 14:13:01 INFO fs.TrashPolicyDefault: Moved: 'hdfs://nameservice1/user/x266727/dataquality_bnr-docs/histogram_anomalyDetec/DQ' to trash at: hdfs://nameservice1/user/x266727/.Trash/Current/user/x266727/dataquality_bnr-docs/histogram_anomalyDetec/DQ1643994781384\n"
     ]
    }
   ],
   "source": [
    "##Caso queira limpar o diretório antes de iniciar outra vez o tutorial\n",
    "\n",
    "#!hdfs dfs -rm -r /user/x266727/dataquality_bnr-docs/histogram_anomalyDetec/DQ/"
   ]
  },
  {
   "cell_type": "code",
   "execution_count": null,
   "metadata": {},
   "outputs": [],
   "source": []
  },
  {
   "cell_type": "code",
   "execution_count": 6,
   "metadata": {
    "execution": {
     "iopub.execute_input": "2022-02-04T17:13:48.597124Z",
     "iopub.status.busy": "2022-02-04T17:13:48.596779Z",
     "iopub.status.idle": "2022-02-04T17:13:48.931361Z",
     "shell.execute_reply": "2022-02-04T17:13:48.930469Z",
     "shell.execute_reply.started": "2022-02-04T17:13:48.597092Z"
    }
   },
   "outputs": [],
   "source": [
    "from dataquality_bnr.dqRunning import main as dqRun\n",
    "from dataquality_bnr.dqSupport import main as dqSup"
   ]
  },
  {
   "cell_type": "markdown",
   "metadata": {
    "execution": {
     "iopub.execute_input": "2022-02-04T00:02:03.391086Z",
     "iopub.status.busy": "2022-02-04T00:02:03.390710Z",
     "iopub.status.idle": "2022-02-04T00:02:03.394480Z",
     "shell.execute_reply": "2022-02-04T00:02:03.393665Z",
     "shell.execute_reply.started": "2022-02-04T00:02:03.391056Z"
    }
   },
   "source": [
    "# 1° dia - Simulando Execucao "
   ]
  },
  {
   "cell_type": "code",
   "execution_count": 7,
   "metadata": {
    "execution": {
     "iopub.execute_input": "2022-02-04T17:13:50.395950Z",
     "iopub.status.busy": "2022-02-04T17:13:50.395635Z",
     "iopub.status.idle": "2022-02-04T17:13:50.525415Z",
     "shell.execute_reply": "2022-02-04T17:13:50.524283Z",
     "shell.execute_reply.started": "2022-02-04T17:13:50.395905Z"
    }
   },
   "outputs": [],
   "source": [
    "dqView_simple = {\"viewName\" : \"dqView_check_moderate\",\n",
    "                 \"inputData\": df_input,\n",
    "                 \"infraYaml\": \"yamlFiles/histogram_anomalyDetec/an_anomalyDetec/infrastructure.yaml\",\n",
    "                 \"vsYaml\": \"yamlFiles/histogram_anomalyDetec/an_anomalyDetec/verificationSuite.yaml\"}\n",
    "\n",
    "dq_bnr_directory=\"/user/x266727/dataquality_bnr-docs/histogram_anomalyDetec/DQ\""
   ]
  },
  {
   "cell_type": "code",
   "execution_count": 8,
   "metadata": {
    "execution": {
     "iopub.execute_input": "2022-02-04T17:13:51.130115Z",
     "iopub.status.busy": "2022-02-04T17:13:51.129560Z",
     "iopub.status.idle": "2022-02-04T17:16:11.279909Z",
     "shell.execute_reply": "2022-02-04T17:16:11.278884Z",
     "shell.execute_reply.started": "2022-02-04T17:13:51.130061Z"
    }
   },
   "outputs": [
    {
     "name": "stdout",
     "output_type": "stream",
     "text": [
      "__Evaluate DataQuality View and add to Main DataQuality Process__\n",
      "dqView_check_moderate pattern evaluated.\n",
      "\n",
      "\n",
      "__Running all DataQuality views__\n",
      "run() dqView_check_moderate:\n",
      "getPersistentRepository...\n",
      "applyFiltering...\n",
      "buildTemporaryRepository...\n",
      "getDataframe...\n",
      "getAnomalyDetection...\n",
      "getOuputDFs...\n",
      "custom_getAnomalyDetection...\n",
      "getOuputDFs...\n",
      "As AnomalyDetection temporaryRepository is still empty. Forcing Success Outcome\n",
      "writeTo_persistentRepository...\n",
      "writeTo_currentResults...\n",
      "DataQuality process finished.\n",
      "\n",
      "\n",
      "__Get overall result__\n",
      "writing to: /user/x266727/dataquality_bnr-docs/histogram_anomalyDetec/DQ/dqView_check_moderate/currentResult/csvResult/dqView_check_moderate_OK.csv\n",
      "\n",
      "writing to: /user/x266727/dataquality_bnr-docs/histogram_anomalyDetec/DQ/overall/currentResult/csvResult/overall_OK.csv\n"
     ]
    }
   ],
   "source": [
    "myDq = dqRun.Dq(spark, dq_bnr_directory)\n",
    "\n",
    "myDq = (myDq\n",
    "        .addView(dqView_simple, \"AnomalyDetection\"))\n",
    "        \n",
    "dq_run_return = myDq.run()"
   ]
  },
  {
   "cell_type": "code",
   "execution_count": null,
   "metadata": {},
   "outputs": [],
   "source": []
  },
  {
   "cell_type": "markdown",
   "metadata": {},
   "source": [
    "# 1° dia - Analisando Resultados"
   ]
  },
  {
   "cell_type": "code",
   "execution_count": 9,
   "metadata": {
    "execution": {
     "iopub.execute_input": "2022-02-04T17:16:17.626054Z",
     "iopub.status.busy": "2022-02-04T17:16:17.625569Z",
     "iopub.status.idle": "2022-02-04T17:16:17.730177Z",
     "shell.execute_reply": "2022-02-04T17:16:17.728527Z",
     "shell.execute_reply.started": "2022-02-04T17:16:17.626003Z"
    }
   },
   "outputs": [],
   "source": [
    "import pandas as pd"
   ]
  },
  {
   "cell_type": "markdown",
   "metadata": {},
   "source": [
    "#### DQ/overall/overall_OK.csv"
   ]
  },
  {
   "cell_type": "code",
   "execution_count": 10,
   "metadata": {
    "execution": {
     "iopub.execute_input": "2022-02-04T17:16:17.936180Z",
     "iopub.status.busy": "2022-02-04T17:16:17.927862Z",
     "iopub.status.idle": "2022-02-04T17:16:22.236569Z",
     "shell.execute_reply": "2022-02-04T17:16:22.235420Z",
     "shell.execute_reply.started": "2022-02-04T17:16:17.935750Z"
    }
   },
   "outputs": [
    {
     "name": "stdout",
     "output_type": "stream",
     "text": [
      "/user/x266727/dataquality_bnr-docs/histogram_anomalyDetec/DQ/overall/currentResult/csvResult/overall_OK.csv\n"
     ]
    },
    {
     "data": {
      "text/html": [
       "<div>\n",
       "<style scoped>\n",
       "    .dataframe tbody tr th:only-of-type {\n",
       "        vertical-align: middle;\n",
       "    }\n",
       "\n",
       "    .dataframe tbody tr th {\n",
       "        vertical-align: top;\n",
       "    }\n",
       "\n",
       "    .dataframe thead th {\n",
       "        text-align: right;\n",
       "    }\n",
       "</style>\n",
       "<table border=\"1\" class=\"dataframe\">\n",
       "  <thead>\n",
       "    <tr style=\"text-align: right;\">\n",
       "      <th></th>\n",
       "      <th>check</th>\n",
       "      <th>check_level</th>\n",
       "      <th>check_status</th>\n",
       "      <th>constraint</th>\n",
       "      <th>constraint_status</th>\n",
       "      <th>constraint_message</th>\n",
       "      <th>dataset_date</th>\n",
       "      <th>YY_MM_DD</th>\n",
       "      <th>viewName</th>\n",
       "      <th>viewPath</th>\n",
       "    </tr>\n",
       "  </thead>\n",
       "  <tbody>\n",
       "    <tr>\n",
       "      <th>0</th>\n",
       "      <td>Descpription by Yaml</td>\n",
       "      <td>Error</td>\n",
       "      <td>Success</td>\n",
       "      <td>AnomalyConstraint(Mean(i1c_rating_riscos_Histo...</td>\n",
       "      <td>Failure</td>\n",
       "      <td>Can't execute the assertion: requirement faile...</td>\n",
       "      <td>1643994929878</td>\n",
       "      <td>2022-02-04</td>\n",
       "      <td>dqView_check_moderate</td>\n",
       "      <td>/user/x266727/dataquality_bnr-docs/histogram_a...</td>\n",
       "    </tr>\n",
       "    <tr>\n",
       "      <th>1</th>\n",
       "      <td>Descpription by Yaml</td>\n",
       "      <td>Error</td>\n",
       "      <td>Success</td>\n",
       "      <td>AnomalyConstraint(Mean(i1c_rating_riscos_Histo...</td>\n",
       "      <td>Failure</td>\n",
       "      <td>Can't execute the assertion: requirement faile...</td>\n",
       "      <td>1643994929878</td>\n",
       "      <td>2022-02-04</td>\n",
       "      <td>dqView_check_moderate</td>\n",
       "      <td>/user/x266727/dataquality_bnr-docs/histogram_a...</td>\n",
       "    </tr>\n",
       "    <tr>\n",
       "      <th>2</th>\n",
       "      <td>Descpription by Yaml</td>\n",
       "      <td>Error</td>\n",
       "      <td>Success</td>\n",
       "      <td>AnomalyConstraint(Mean(i1c_rating_riscos_Histo...</td>\n",
       "      <td>Failure</td>\n",
       "      <td>Can't execute the assertion: requirement faile...</td>\n",
       "      <td>1643994929878</td>\n",
       "      <td>2022-02-04</td>\n",
       "      <td>dqView_check_moderate</td>\n",
       "      <td>/user/x266727/dataquality_bnr-docs/histogram_a...</td>\n",
       "    </tr>\n",
       "    <tr>\n",
       "      <th>3</th>\n",
       "      <td>Descpription by Yaml</td>\n",
       "      <td>Error</td>\n",
       "      <td>Success</td>\n",
       "      <td>AnomalyConstraint(Mean(i1c_rating_riscos_Histo...</td>\n",
       "      <td>Failure</td>\n",
       "      <td>Can't execute the assertion: requirement faile...</td>\n",
       "      <td>1643994929878</td>\n",
       "      <td>2022-02-04</td>\n",
       "      <td>dqView_check_moderate</td>\n",
       "      <td>/user/x266727/dataquality_bnr-docs/histogram_a...</td>\n",
       "    </tr>\n",
       "    <tr>\n",
       "      <th>4</th>\n",
       "      <td>Descpription by Yaml</td>\n",
       "      <td>Error</td>\n",
       "      <td>Success</td>\n",
       "      <td>AnomalyConstraint(Mean(i1c_rating_riscos_Histo...</td>\n",
       "      <td>Failure</td>\n",
       "      <td>Can't execute the assertion: requirement faile...</td>\n",
       "      <td>1643994929878</td>\n",
       "      <td>2022-02-04</td>\n",
       "      <td>dqView_check_moderate</td>\n",
       "      <td>/user/x266727/dataquality_bnr-docs/histogram_a...</td>\n",
       "    </tr>\n",
       "    <tr>\n",
       "      <th>5</th>\n",
       "      <td>Descpription by Yaml</td>\n",
       "      <td>Error</td>\n",
       "      <td>Success</td>\n",
       "      <td>AnomalyConstraint(Mean(i1c_rating_riscos_Histo...</td>\n",
       "      <td>Failure</td>\n",
       "      <td>Can't execute the assertion: requirement faile...</td>\n",
       "      <td>1643994929878</td>\n",
       "      <td>2022-02-04</td>\n",
       "      <td>dqView_check_moderate</td>\n",
       "      <td>/user/x266727/dataquality_bnr-docs/histogram_a...</td>\n",
       "    </tr>\n",
       "    <tr>\n",
       "      <th>6</th>\n",
       "      <td>Descpription by Yaml</td>\n",
       "      <td>Error</td>\n",
       "      <td>Success</td>\n",
       "      <td>AnomalyConstraint(Mean(i1c_rating_riscos_Histo...</td>\n",
       "      <td>Failure</td>\n",
       "      <td>Can't execute the assertion: requirement faile...</td>\n",
       "      <td>1643994929878</td>\n",
       "      <td>2022-02-04</td>\n",
       "      <td>dqView_check_moderate</td>\n",
       "      <td>/user/x266727/dataquality_bnr-docs/histogram_a...</td>\n",
       "    </tr>\n",
       "    <tr>\n",
       "      <th>7</th>\n",
       "      <td>Descpription by Yaml</td>\n",
       "      <td>Error</td>\n",
       "      <td>Success</td>\n",
       "      <td>AnomalyConstraint(Mean(i1c_rating_riscos_Histo...</td>\n",
       "      <td>Failure</td>\n",
       "      <td>Can't execute the assertion: requirement faile...</td>\n",
       "      <td>1643994929878</td>\n",
       "      <td>2022-02-04</td>\n",
       "      <td>dqView_check_moderate</td>\n",
       "      <td>/user/x266727/dataquality_bnr-docs/histogram_a...</td>\n",
       "    </tr>\n",
       "    <tr>\n",
       "      <th>8</th>\n",
       "      <td>Descpription by Yaml</td>\n",
       "      <td>Error</td>\n",
       "      <td>Success</td>\n",
       "      <td>AnomalyConstraint(Mean(i1c_rating_riscos_Histo...</td>\n",
       "      <td>Failure</td>\n",
       "      <td>Can't execute the assertion: requirement faile...</td>\n",
       "      <td>1643994929878</td>\n",
       "      <td>2022-02-04</td>\n",
       "      <td>dqView_check_moderate</td>\n",
       "      <td>/user/x266727/dataquality_bnr-docs/histogram_a...</td>\n",
       "    </tr>\n",
       "    <tr>\n",
       "      <th>9</th>\n",
       "      <td>Descpription by Yaml</td>\n",
       "      <td>Error</td>\n",
       "      <td>Success</td>\n",
       "      <td>AnomalyConstraint(Mean(i1d_sexo_Histogram_rati...</td>\n",
       "      <td>Failure</td>\n",
       "      <td>Can't execute the assertion: requirement faile...</td>\n",
       "      <td>1643994929878</td>\n",
       "      <td>2022-02-04</td>\n",
       "      <td>dqView_check_moderate</td>\n",
       "      <td>/user/x266727/dataquality_bnr-docs/histogram_a...</td>\n",
       "    </tr>\n",
       "    <tr>\n",
       "      <th>10</th>\n",
       "      <td>Descpription by Yaml</td>\n",
       "      <td>Error</td>\n",
       "      <td>Success</td>\n",
       "      <td>AnomalyConstraint(Mean(i1d_sexo_Histogram_rati...</td>\n",
       "      <td>Failure</td>\n",
       "      <td>Can't execute the assertion: requirement faile...</td>\n",
       "      <td>1643994929878</td>\n",
       "      <td>2022-02-04</td>\n",
       "      <td>dqView_check_moderate</td>\n",
       "      <td>/user/x266727/dataquality_bnr-docs/histogram_a...</td>\n",
       "    </tr>\n",
       "    <tr>\n",
       "      <th>11</th>\n",
       "      <td>Descpription by Yaml</td>\n",
       "      <td>Error</td>\n",
       "      <td>Success</td>\n",
       "      <td>AnomalyConstraint(Mean(i1d_sexo_Histogram_rati...</td>\n",
       "      <td>Failure</td>\n",
       "      <td>Can't execute the assertion: requirement faile...</td>\n",
       "      <td>1643994929878</td>\n",
       "      <td>2022-02-04</td>\n",
       "      <td>dqView_check_moderate</td>\n",
       "      <td>/user/x266727/dataquality_bnr-docs/histogram_a...</td>\n",
       "    </tr>\n",
       "    <tr>\n",
       "      <th>12</th>\n",
       "      <td>Descpription by Yaml</td>\n",
       "      <td>Error</td>\n",
       "      <td>Success</td>\n",
       "      <td>AnomalyConstraint(Size(None))</td>\n",
       "      <td>Failure</td>\n",
       "      <td>Can't execute the assertion: requirement faile...</td>\n",
       "      <td>1643994846981</td>\n",
       "      <td>2022-02-04</td>\n",
       "      <td>dqView_check_moderate</td>\n",
       "      <td>/user/x266727/dataquality_bnr-docs/histogram_a...</td>\n",
       "    </tr>\n",
       "  </tbody>\n",
       "</table>\n",
       "</div>"
      ],
      "text/plain": [
       "                   check check_level check_status  \\\n",
       "0   Descpription by Yaml       Error      Success   \n",
       "1   Descpription by Yaml       Error      Success   \n",
       "2   Descpription by Yaml       Error      Success   \n",
       "3   Descpription by Yaml       Error      Success   \n",
       "4   Descpription by Yaml       Error      Success   \n",
       "5   Descpription by Yaml       Error      Success   \n",
       "6   Descpription by Yaml       Error      Success   \n",
       "7   Descpription by Yaml       Error      Success   \n",
       "8   Descpription by Yaml       Error      Success   \n",
       "9   Descpription by Yaml       Error      Success   \n",
       "10  Descpription by Yaml       Error      Success   \n",
       "11  Descpription by Yaml       Error      Success   \n",
       "12  Descpription by Yaml       Error      Success   \n",
       "\n",
       "                                           constraint constraint_status  \\\n",
       "0   AnomalyConstraint(Mean(i1c_rating_riscos_Histo...           Failure   \n",
       "1   AnomalyConstraint(Mean(i1c_rating_riscos_Histo...           Failure   \n",
       "2   AnomalyConstraint(Mean(i1c_rating_riscos_Histo...           Failure   \n",
       "3   AnomalyConstraint(Mean(i1c_rating_riscos_Histo...           Failure   \n",
       "4   AnomalyConstraint(Mean(i1c_rating_riscos_Histo...           Failure   \n",
       "5   AnomalyConstraint(Mean(i1c_rating_riscos_Histo...           Failure   \n",
       "6   AnomalyConstraint(Mean(i1c_rating_riscos_Histo...           Failure   \n",
       "7   AnomalyConstraint(Mean(i1c_rating_riscos_Histo...           Failure   \n",
       "8   AnomalyConstraint(Mean(i1c_rating_riscos_Histo...           Failure   \n",
       "9   AnomalyConstraint(Mean(i1d_sexo_Histogram_rati...           Failure   \n",
       "10  AnomalyConstraint(Mean(i1d_sexo_Histogram_rati...           Failure   \n",
       "11  AnomalyConstraint(Mean(i1d_sexo_Histogram_rati...           Failure   \n",
       "12                      AnomalyConstraint(Size(None))           Failure   \n",
       "\n",
       "                                   constraint_message   dataset_date  \\\n",
       "0   Can't execute the assertion: requirement faile...  1643994929878   \n",
       "1   Can't execute the assertion: requirement faile...  1643994929878   \n",
       "2   Can't execute the assertion: requirement faile...  1643994929878   \n",
       "3   Can't execute the assertion: requirement faile...  1643994929878   \n",
       "4   Can't execute the assertion: requirement faile...  1643994929878   \n",
       "5   Can't execute the assertion: requirement faile...  1643994929878   \n",
       "6   Can't execute the assertion: requirement faile...  1643994929878   \n",
       "7   Can't execute the assertion: requirement faile...  1643994929878   \n",
       "8   Can't execute the assertion: requirement faile...  1643994929878   \n",
       "9   Can't execute the assertion: requirement faile...  1643994929878   \n",
       "10  Can't execute the assertion: requirement faile...  1643994929878   \n",
       "11  Can't execute the assertion: requirement faile...  1643994929878   \n",
       "12  Can't execute the assertion: requirement faile...  1643994846981   \n",
       "\n",
       "      YY_MM_DD               viewName  \\\n",
       "0   2022-02-04  dqView_check_moderate   \n",
       "1   2022-02-04  dqView_check_moderate   \n",
       "2   2022-02-04  dqView_check_moderate   \n",
       "3   2022-02-04  dqView_check_moderate   \n",
       "4   2022-02-04  dqView_check_moderate   \n",
       "5   2022-02-04  dqView_check_moderate   \n",
       "6   2022-02-04  dqView_check_moderate   \n",
       "7   2022-02-04  dqView_check_moderate   \n",
       "8   2022-02-04  dqView_check_moderate   \n",
       "9   2022-02-04  dqView_check_moderate   \n",
       "10  2022-02-04  dqView_check_moderate   \n",
       "11  2022-02-04  dqView_check_moderate   \n",
       "12  2022-02-04  dqView_check_moderate   \n",
       "\n",
       "                                             viewPath  \n",
       "0   /user/x266727/dataquality_bnr-docs/histogram_a...  \n",
       "1   /user/x266727/dataquality_bnr-docs/histogram_a...  \n",
       "2   /user/x266727/dataquality_bnr-docs/histogram_a...  \n",
       "3   /user/x266727/dataquality_bnr-docs/histogram_a...  \n",
       "4   /user/x266727/dataquality_bnr-docs/histogram_a...  \n",
       "5   /user/x266727/dataquality_bnr-docs/histogram_a...  \n",
       "6   /user/x266727/dataquality_bnr-docs/histogram_a...  \n",
       "7   /user/x266727/dataquality_bnr-docs/histogram_a...  \n",
       "8   /user/x266727/dataquality_bnr-docs/histogram_a...  \n",
       "9   /user/x266727/dataquality_bnr-docs/histogram_a...  \n",
       "10  /user/x266727/dataquality_bnr-docs/histogram_a...  \n",
       "11  /user/x266727/dataquality_bnr-docs/histogram_a...  \n",
       "12  /user/x266727/dataquality_bnr-docs/histogram_a...  "
      ]
     },
     "execution_count": 10,
     "metadata": {},
     "output_type": "execute_result"
    }
   ],
   "source": [
    "path = dq_bnr_directory+'/overall/currentResult/csvResult/overall_OK.csv'\n",
    "print(path)\n",
    "df = spark.read.option(\"header\",True).csv(path)\n",
    "df.toPandas()"
   ]
  },
  {
   "cell_type": "code",
   "execution_count": 11,
   "metadata": {
    "execution": {
     "iopub.execute_input": "2022-02-04T17:16:22.254825Z",
     "iopub.status.busy": "2022-02-04T17:16:22.254333Z",
     "iopub.status.idle": "2022-02-04T17:16:23.324717Z",
     "shell.execute_reply": "2022-02-04T17:16:23.323915Z",
     "shell.execute_reply.started": "2022-02-04T17:16:22.254789Z"
    }
   },
   "outputs": [
    {
     "data": {
      "text/html": [
       "<div>\n",
       "<style scoped>\n",
       "    .dataframe tbody tr th:only-of-type {\n",
       "        vertical-align: middle;\n",
       "    }\n",
       "\n",
       "    .dataframe tbody tr th {\n",
       "        vertical-align: top;\n",
       "    }\n",
       "\n",
       "    .dataframe thead th {\n",
       "        text-align: right;\n",
       "    }\n",
       "</style>\n",
       "<table border=\"1\" class=\"dataframe\">\n",
       "  <thead>\n",
       "    <tr style=\"text-align: right;\">\n",
       "      <th></th>\n",
       "      <th>constraint_message</th>\n",
       "    </tr>\n",
       "  </thead>\n",
       "  <tbody>\n",
       "    <tr>\n",
       "      <th>0</th>\n",
       "      <td>Can't execute the assertion: requirement failed: There have to be previous results in the MetricsRepository!!</td>\n",
       "    </tr>\n",
       "    <tr>\n",
       "      <th>1</th>\n",
       "      <td>Can't execute the assertion: requirement failed: There have to be previous results in the MetricsRepository!!</td>\n",
       "    </tr>\n",
       "    <tr>\n",
       "      <th>2</th>\n",
       "      <td>Can't execute the assertion: requirement failed: There have to be previous results in the MetricsRepository!!</td>\n",
       "    </tr>\n",
       "    <tr>\n",
       "      <th>3</th>\n",
       "      <td>Can't execute the assertion: requirement failed: There have to be previous results in the MetricsRepository!!</td>\n",
       "    </tr>\n",
       "    <tr>\n",
       "      <th>4</th>\n",
       "      <td>Can't execute the assertion: requirement failed: There have to be previous results in the MetricsRepository!!</td>\n",
       "    </tr>\n",
       "    <tr>\n",
       "      <th>5</th>\n",
       "      <td>Can't execute the assertion: requirement failed: There have to be previous results in the MetricsRepository!!</td>\n",
       "    </tr>\n",
       "    <tr>\n",
       "      <th>6</th>\n",
       "      <td>Can't execute the assertion: requirement failed: There have to be previous results in the MetricsRepository!!</td>\n",
       "    </tr>\n",
       "    <tr>\n",
       "      <th>7</th>\n",
       "      <td>Can't execute the assertion: requirement failed: There have to be previous results in the MetricsRepository!!</td>\n",
       "    </tr>\n",
       "    <tr>\n",
       "      <th>8</th>\n",
       "      <td>Can't execute the assertion: requirement failed: There have to be previous results in the MetricsRepository!!</td>\n",
       "    </tr>\n",
       "    <tr>\n",
       "      <th>9</th>\n",
       "      <td>Can't execute the assertion: requirement failed: There have to be previous results in the MetricsRepository!!</td>\n",
       "    </tr>\n",
       "    <tr>\n",
       "      <th>10</th>\n",
       "      <td>Can't execute the assertion: requirement failed: There have to be previous results in the MetricsRepository!!</td>\n",
       "    </tr>\n",
       "    <tr>\n",
       "      <th>11</th>\n",
       "      <td>Can't execute the assertion: requirement failed: There have to be previous results in the MetricsRepository!!</td>\n",
       "    </tr>\n",
       "    <tr>\n",
       "      <th>12</th>\n",
       "      <td>Can't execute the assertion: requirement failed: There have to be previous results in the MetricsRepository!!</td>\n",
       "    </tr>\n",
       "  </tbody>\n",
       "</table>\n",
       "</div>"
      ],
      "text/plain": [
       "                                                                                               constraint_message\n",
       "0   Can't execute the assertion: requirement failed: There have to be previous results in the MetricsRepository!!\n",
       "1   Can't execute the assertion: requirement failed: There have to be previous results in the MetricsRepository!!\n",
       "2   Can't execute the assertion: requirement failed: There have to be previous results in the MetricsRepository!!\n",
       "3   Can't execute the assertion: requirement failed: There have to be previous results in the MetricsRepository!!\n",
       "4   Can't execute the assertion: requirement failed: There have to be previous results in the MetricsRepository!!\n",
       "5   Can't execute the assertion: requirement failed: There have to be previous results in the MetricsRepository!!\n",
       "6   Can't execute the assertion: requirement failed: There have to be previous results in the MetricsRepository!!\n",
       "7   Can't execute the assertion: requirement failed: There have to be previous results in the MetricsRepository!!\n",
       "8   Can't execute the assertion: requirement failed: There have to be previous results in the MetricsRepository!!\n",
       "9   Can't execute the assertion: requirement failed: There have to be previous results in the MetricsRepository!!\n",
       "10  Can't execute the assertion: requirement failed: There have to be previous results in the MetricsRepository!!\n",
       "11  Can't execute the assertion: requirement failed: There have to be previous results in the MetricsRepository!!\n",
       "12  Can't execute the assertion: requirement failed: There have to be previous results in the MetricsRepository!!"
      ]
     },
     "metadata": {},
     "output_type": "display_data"
    }
   ],
   "source": [
    "pd.set_option('display.max_colwidth', None)\n",
    "\n",
    "display(df.select(\"constraint_message\").toPandas())\n",
    "\n",
    "pd.set_option('display.max_colwidth', 50)"
   ]
  },
  {
   "cell_type": "markdown",
   "metadata": {},
   "source": [
    "### DQ/view/currentResult/checkResult.parquet"
   ]
  },
  {
   "cell_type": "code",
   "execution_count": 12,
   "metadata": {
    "execution": {
     "iopub.execute_input": "2022-02-04T17:16:23.326620Z",
     "iopub.status.busy": "2022-02-04T17:16:23.326380Z",
     "iopub.status.idle": "2022-02-04T17:16:25.973754Z",
     "shell.execute_reply": "2022-02-04T17:16:25.972695Z",
     "shell.execute_reply.started": "2022-02-04T17:16:23.326594Z"
    }
   },
   "outputs": [
    {
     "name": "stdout",
     "output_type": "stream",
     "text": [
      "/user/x266727/dataquality_bnr-docs/histogram_anomalyDetec/DQ/dqView_check_moderate/currentResult/checkResult.parquet\n",
      "+--------------------+-----------+------------+--------------------+-----------------+--------------------+\n",
      "|               check|check_level|check_status|          constraint|constraint_status|  constraint_message|\n",
      "+--------------------+-----------+------------+--------------------+-----------------+--------------------+\n",
      "|Descpription by Yaml|      Error|     Success|AnomalyConstraint...|          Failure|Can't execute the...|\n",
      "|Descpription by Yaml|      Error|     Success|AnomalyConstraint...|          Failure|Can't execute the...|\n",
      "|Descpription by Yaml|      Error|     Success|AnomalyConstraint...|          Failure|Can't execute the...|\n",
      "|Descpription by Yaml|      Error|     Success|AnomalyConstraint...|          Failure|Can't execute the...|\n",
      "|Descpription by Yaml|      Error|     Success|AnomalyConstraint...|          Failure|Can't execute the...|\n",
      "|Descpription by Yaml|      Error|     Success|AnomalyConstraint...|          Failure|Can't execute the...|\n",
      "|Descpription by Yaml|      Error|     Success|AnomalyConstraint...|          Failure|Can't execute the...|\n",
      "|Descpription by Yaml|      Error|     Success|AnomalyConstraint...|          Failure|Can't execute the...|\n",
      "|Descpription by Yaml|      Error|     Success|AnomalyConstraint...|          Failure|Can't execute the...|\n",
      "|Descpription by Yaml|      Error|     Success|AnomalyConstraint...|          Failure|Can't execute the...|\n",
      "|Descpription by Yaml|      Error|     Success|AnomalyConstraint...|          Failure|Can't execute the...|\n",
      "|Descpription by Yaml|      Error|     Success|AnomalyConstraint...|          Failure|Can't execute the...|\n",
      "|Descpription by Yaml|      Error|     Success|AnomalyConstraint...|          Failure|Can't execute the...|\n",
      "+--------------------+-----------+------------+--------------------+-----------------+--------------------+\n",
      "\n"
     ]
    }
   ],
   "source": [
    "dqView_name = dqView_simple[\"viewName\"]\n",
    "path = dq_bnr_directory +\"/\"+ dqView_name +'/currentResult/checkResult.parquet'\n",
    "print(path)\n",
    "\n",
    "df = spark.read.parquet(path)\n",
    "df.drop(\"YY_MM_DD\").drop(\"dataset_date\").show()"
   ]
  },
  {
   "cell_type": "code",
   "execution_count": 13,
   "metadata": {
    "execution": {
     "iopub.execute_input": "2022-02-04T17:16:25.975414Z",
     "iopub.status.busy": "2022-02-04T17:16:25.975208Z",
     "iopub.status.idle": "2022-02-04T17:16:27.323898Z",
     "shell.execute_reply": "2022-02-04T17:16:27.322724Z",
     "shell.execute_reply.started": "2022-02-04T17:16:25.975392Z"
    }
   },
   "outputs": [
    {
     "data": {
      "text/html": [
       "<div>\n",
       "<style scoped>\n",
       "    .dataframe tbody tr th:only-of-type {\n",
       "        vertical-align: middle;\n",
       "    }\n",
       "\n",
       "    .dataframe tbody tr th {\n",
       "        vertical-align: top;\n",
       "    }\n",
       "\n",
       "    .dataframe thead th {\n",
       "        text-align: right;\n",
       "    }\n",
       "</style>\n",
       "<table border=\"1\" class=\"dataframe\">\n",
       "  <thead>\n",
       "    <tr style=\"text-align: right;\">\n",
       "      <th></th>\n",
       "      <th>constraint</th>\n",
       "      <th>constraint_status</th>\n",
       "    </tr>\n",
       "  </thead>\n",
       "  <tbody>\n",
       "    <tr>\n",
       "      <th>0</th>\n",
       "      <td>AnomalyConstraint(Mean(i1c_rating_riscos_Histo...</td>\n",
       "      <td>Failure</td>\n",
       "    </tr>\n",
       "    <tr>\n",
       "      <th>1</th>\n",
       "      <td>AnomalyConstraint(Mean(i1c_rating_riscos_Histo...</td>\n",
       "      <td>Failure</td>\n",
       "    </tr>\n",
       "    <tr>\n",
       "      <th>2</th>\n",
       "      <td>AnomalyConstraint(Mean(i1c_rating_riscos_Histo...</td>\n",
       "      <td>Failure</td>\n",
       "    </tr>\n",
       "    <tr>\n",
       "      <th>3</th>\n",
       "      <td>AnomalyConstraint(Mean(i1c_rating_riscos_Histo...</td>\n",
       "      <td>Failure</td>\n",
       "    </tr>\n",
       "    <tr>\n",
       "      <th>4</th>\n",
       "      <td>AnomalyConstraint(Mean(i1c_rating_riscos_Histo...</td>\n",
       "      <td>Failure</td>\n",
       "    </tr>\n",
       "    <tr>\n",
       "      <th>5</th>\n",
       "      <td>AnomalyConstraint(Mean(i1c_rating_riscos_Histo...</td>\n",
       "      <td>Failure</td>\n",
       "    </tr>\n",
       "    <tr>\n",
       "      <th>6</th>\n",
       "      <td>AnomalyConstraint(Mean(i1c_rating_riscos_Histo...</td>\n",
       "      <td>Failure</td>\n",
       "    </tr>\n",
       "    <tr>\n",
       "      <th>7</th>\n",
       "      <td>AnomalyConstraint(Mean(i1c_rating_riscos_Histo...</td>\n",
       "      <td>Failure</td>\n",
       "    </tr>\n",
       "    <tr>\n",
       "      <th>8</th>\n",
       "      <td>AnomalyConstraint(Mean(i1c_rating_riscos_Histo...</td>\n",
       "      <td>Failure</td>\n",
       "    </tr>\n",
       "    <tr>\n",
       "      <th>9</th>\n",
       "      <td>AnomalyConstraint(Mean(i1d_sexo_Histogram_rati...</td>\n",
       "      <td>Failure</td>\n",
       "    </tr>\n",
       "    <tr>\n",
       "      <th>10</th>\n",
       "      <td>AnomalyConstraint(Mean(i1d_sexo_Histogram_rati...</td>\n",
       "      <td>Failure</td>\n",
       "    </tr>\n",
       "    <tr>\n",
       "      <th>11</th>\n",
       "      <td>AnomalyConstraint(Mean(i1d_sexo_Histogram_rati...</td>\n",
       "      <td>Failure</td>\n",
       "    </tr>\n",
       "    <tr>\n",
       "      <th>12</th>\n",
       "      <td>AnomalyConstraint(Size(None))</td>\n",
       "      <td>Failure</td>\n",
       "    </tr>\n",
       "  </tbody>\n",
       "</table>\n",
       "</div>"
      ],
      "text/plain": [
       "                                           constraint constraint_status\n",
       "0   AnomalyConstraint(Mean(i1c_rating_riscos_Histo...           Failure\n",
       "1   AnomalyConstraint(Mean(i1c_rating_riscos_Histo...           Failure\n",
       "2   AnomalyConstraint(Mean(i1c_rating_riscos_Histo...           Failure\n",
       "3   AnomalyConstraint(Mean(i1c_rating_riscos_Histo...           Failure\n",
       "4   AnomalyConstraint(Mean(i1c_rating_riscos_Histo...           Failure\n",
       "5   AnomalyConstraint(Mean(i1c_rating_riscos_Histo...           Failure\n",
       "6   AnomalyConstraint(Mean(i1c_rating_riscos_Histo...           Failure\n",
       "7   AnomalyConstraint(Mean(i1c_rating_riscos_Histo...           Failure\n",
       "8   AnomalyConstraint(Mean(i1c_rating_riscos_Histo...           Failure\n",
       "9   AnomalyConstraint(Mean(i1d_sexo_Histogram_rati...           Failure\n",
       "10  AnomalyConstraint(Mean(i1d_sexo_Histogram_rati...           Failure\n",
       "11  AnomalyConstraint(Mean(i1d_sexo_Histogram_rati...           Failure\n",
       "12                      AnomalyConstraint(Size(None))           Failure"
      ]
     },
     "execution_count": 13,
     "metadata": {},
     "output_type": "execute_result"
    }
   ],
   "source": [
    "df.select(\"constraint\",\"constraint_status\").toPandas()"
   ]
  },
  {
   "cell_type": "markdown",
   "metadata": {},
   "source": [
    "### DQ/view/currentResult/successMetrics.parquet"
   ]
  },
  {
   "cell_type": "code",
   "execution_count": 14,
   "metadata": {
    "execution": {
     "iopub.execute_input": "2022-02-04T17:16:27.326254Z",
     "iopub.status.busy": "2022-02-04T17:16:27.325886Z",
     "iopub.status.idle": "2022-02-04T17:16:31.111079Z",
     "shell.execute_reply": "2022-02-04T17:16:31.110092Z",
     "shell.execute_reply.started": "2022-02-04T17:16:27.326221Z"
    }
   },
   "outputs": [
    {
     "name": "stdout",
     "output_type": "stream",
     "text": [
      "/user/x266727/dataquality_bnr-docs/histogram_anomalyDetec/DQ/dqView_check_moderate/currentResult/successMetrics.parquet\n",
      "+-------+--------------------+----+--------------------+-------------+----------+----+------------+\n",
      "| entity|            instance|name|               value| dataset_date|  YY_MM_DD|tags|check_status|\n",
      "+-------+--------------------+----+--------------------+-------------+----------+----+------------+\n",
      "| Column|i1c_rating_riscos...|Mean|0.013366761013028666|1643994929878|2022-02-04|  []|     Success|\n",
      "| Column|i1c_rating_riscos...|Mean| 0.33740586918125587|1643994929878|2022-02-04|  []|     Success|\n",
      "| Column|i1c_rating_riscos...|Mean|0.028654936186879698|1643994929878|2022-02-04|  []|     Success|\n",
      "| Column|i1c_rating_riscos...|Mean| 0.03564408019687105|1643994929878|2022-02-04|  []|     Success|\n",
      "| Column|i1c_rating_riscos...|Mean|5.542540848526054E-6|1643994929878|2022-02-04|  []|     Success|\n",
      "| Column|i1c_rating_riscos...|Mean| 0.12202642683476578|1643994929878|2022-02-04|  []|     Success|\n",
      "| Column|i1c_rating_riscos...|Mean|  0.3793296481595069|1643994929878|2022-02-04|  []|     Success|\n",
      "| Column|i1c_rating_riscos...|Mean|0.023770110185712068|1643994929878|2022-02-04|  []|     Success|\n",
      "| Column|i1c_rating_riscos...|Mean|0.059796625701131416|1643994929878|2022-02-04|  []|     Success|\n",
      "| Column|i1d_sexo_Histogra...|Mean|  0.6096111353340674|1643994929878|2022-02-04|  []|     Success|\n",
      "| Column|i1d_sexo_Histogra...|Mean|0.001581471655446...|1643994929878|2022-02-04|  []|     Success|\n",
      "| Column|i1d_sexo_Histogra...|Mean|  0.3888073930104865|1643994929878|2022-02-04|  []|     Success|\n",
      "|Dataset|                   *|Size|            541268.0|1643994846981|2022-02-04|  []|     Success|\n",
      "+-------+--------------------+----+--------------------+-------------+----------+----+------------+\n",
      "\n"
     ]
    }
   ],
   "source": [
    "dqView_name = dqView_simple[\"viewName\"]\n",
    "path = dq_bnr_directory +\"/\"+ dqView_name +'/currentResult/successMetrics.parquet'\n",
    "print(path)\n",
    "\n",
    "df = spark.read.parquet(path)\n",
    "df.show()"
   ]
  },
  {
   "cell_type": "code",
   "execution_count": 15,
   "metadata": {
    "execution": {
     "iopub.execute_input": "2022-02-04T17:16:31.112726Z",
     "iopub.status.busy": "2022-02-04T17:16:31.112519Z",
     "iopub.status.idle": "2022-02-04T17:16:32.317155Z",
     "shell.execute_reply": "2022-02-04T17:16:32.316034Z",
     "shell.execute_reply.started": "2022-02-04T17:16:31.112704Z"
    }
   },
   "outputs": [
    {
     "data": {
      "text/html": [
       "<div>\n",
       "<style scoped>\n",
       "    .dataframe tbody tr th:only-of-type {\n",
       "        vertical-align: middle;\n",
       "    }\n",
       "\n",
       "    .dataframe tbody tr th {\n",
       "        vertical-align: top;\n",
       "    }\n",
       "\n",
       "    .dataframe thead th {\n",
       "        text-align: right;\n",
       "    }\n",
       "</style>\n",
       "<table border=\"1\" class=\"dataframe\">\n",
       "  <thead>\n",
       "    <tr style=\"text-align: right;\">\n",
       "      <th></th>\n",
       "      <th>instance</th>\n",
       "      <th>value</th>\n",
       "    </tr>\n",
       "  </thead>\n",
       "  <tbody>\n",
       "    <tr>\n",
       "      <th>0</th>\n",
       "      <td>i1c_rating_riscos_Histogram_ratio_4</td>\n",
       "      <td>0.013367</td>\n",
       "    </tr>\n",
       "    <tr>\n",
       "      <th>1</th>\n",
       "      <td>i1c_rating_riscos_Histogram_ratio_1</td>\n",
       "      <td>0.337406</td>\n",
       "    </tr>\n",
       "    <tr>\n",
       "      <th>2</th>\n",
       "      <td>i1c_rating_riscos_Histogram_ratio_8</td>\n",
       "      <td>0.028655</td>\n",
       "    </tr>\n",
       "    <tr>\n",
       "      <th>3</th>\n",
       "      <td>i1c_rating_riscos_Histogram_ratio_9</td>\n",
       "      <td>0.035644</td>\n",
       "    </tr>\n",
       "    <tr>\n",
       "      <th>4</th>\n",
       "      <td>i1c_rating_riscos_Histogram_ratio_5</td>\n",
       "      <td>0.000006</td>\n",
       "    </tr>\n",
       "    <tr>\n",
       "      <th>5</th>\n",
       "      <td>i1c_rating_riscos_Histogram_ratio_2</td>\n",
       "      <td>0.122026</td>\n",
       "    </tr>\n",
       "    <tr>\n",
       "      <th>6</th>\n",
       "      <td>i1c_rating_riscos_Histogram_ratio_0</td>\n",
       "      <td>0.379330</td>\n",
       "    </tr>\n",
       "    <tr>\n",
       "      <th>7</th>\n",
       "      <td>i1c_rating_riscos_Histogram_ratio_6</td>\n",
       "      <td>0.023770</td>\n",
       "    </tr>\n",
       "    <tr>\n",
       "      <th>8</th>\n",
       "      <td>i1c_rating_riscos_Histogram_ratio_7</td>\n",
       "      <td>0.059797</td>\n",
       "    </tr>\n",
       "    <tr>\n",
       "      <th>9</th>\n",
       "      <td>i1d_sexo_Histogram_ratio_M</td>\n",
       "      <td>0.609611</td>\n",
       "    </tr>\n",
       "    <tr>\n",
       "      <th>10</th>\n",
       "      <td>i1d_sexo_Histogram_ratio_</td>\n",
       "      <td>0.001581</td>\n",
       "    </tr>\n",
       "    <tr>\n",
       "      <th>11</th>\n",
       "      <td>i1d_sexo_Histogram_ratio_F</td>\n",
       "      <td>0.388807</td>\n",
       "    </tr>\n",
       "    <tr>\n",
       "      <th>12</th>\n",
       "      <td>*</td>\n",
       "      <td>541268.000000</td>\n",
       "    </tr>\n",
       "  </tbody>\n",
       "</table>\n",
       "</div>"
      ],
      "text/plain": [
       "                               instance          value\n",
       "0   i1c_rating_riscos_Histogram_ratio_4       0.013367\n",
       "1   i1c_rating_riscos_Histogram_ratio_1       0.337406\n",
       "2   i1c_rating_riscos_Histogram_ratio_8       0.028655\n",
       "3   i1c_rating_riscos_Histogram_ratio_9       0.035644\n",
       "4   i1c_rating_riscos_Histogram_ratio_5       0.000006\n",
       "5   i1c_rating_riscos_Histogram_ratio_2       0.122026\n",
       "6   i1c_rating_riscos_Histogram_ratio_0       0.379330\n",
       "7   i1c_rating_riscos_Histogram_ratio_6       0.023770\n",
       "8   i1c_rating_riscos_Histogram_ratio_7       0.059797\n",
       "9            i1d_sexo_Histogram_ratio_M       0.609611\n",
       "10           i1d_sexo_Histogram_ratio_        0.001581\n",
       "11           i1d_sexo_Histogram_ratio_F       0.388807\n",
       "12                                    *  541268.000000"
      ]
     },
     "execution_count": 15,
     "metadata": {},
     "output_type": "execute_result"
    }
   ],
   "source": [
    "df.select(\"instance\",\"value\").toPandas()"
   ]
  },
  {
   "cell_type": "markdown",
   "metadata": {
    "execution": {
     "iopub.execute_input": "2022-02-04T10:57:29.741745Z",
     "iopub.status.busy": "2022-02-04T10:57:29.741330Z",
     "iopub.status.idle": "2022-02-04T10:57:29.745719Z",
     "shell.execute_reply": "2022-02-04T10:57:29.744815Z",
     "shell.execute_reply.started": "2022-02-04T10:57:29.741700Z"
    }
   },
   "source": [
    "### DQ/view/persistentRepository/successMetrics.parquet"
   ]
  },
  {
   "cell_type": "code",
   "execution_count": 16,
   "metadata": {
    "execution": {
     "iopub.execute_input": "2022-02-04T17:16:32.355663Z",
     "iopub.status.busy": "2022-02-04T17:16:32.355391Z",
     "iopub.status.idle": "2022-02-04T17:16:34.281133Z",
     "shell.execute_reply": "2022-02-04T17:16:34.279958Z",
     "shell.execute_reply.started": "2022-02-04T17:16:32.355636Z"
    }
   },
   "outputs": [
    {
     "name": "stdout",
     "output_type": "stream",
     "text": [
      "/user/x266727/dataquality_bnr-docs/histogram_anomalyDetec/DQ/dqView_check_moderate/persistentRepository/successMetrics.parquet\n",
      "/user/x266727/dataquality_bnr-docs/histogram_anomalyDetec/DQ/dqView_check_moderate/persistentRepository/successMetrics.parquet\n"
     ]
    },
    {
     "data": {
      "text/html": [
       "<div>\n",
       "<style scoped>\n",
       "    .dataframe tbody tr th:only-of-type {\n",
       "        vertical-align: middle;\n",
       "    }\n",
       "\n",
       "    .dataframe tbody tr th {\n",
       "        vertical-align: top;\n",
       "    }\n",
       "\n",
       "    .dataframe thead th {\n",
       "        text-align: right;\n",
       "    }\n",
       "</style>\n",
       "<table border=\"1\" class=\"dataframe\">\n",
       "  <thead>\n",
       "    <tr style=\"text-align: right;\">\n",
       "      <th></th>\n",
       "      <th>entity</th>\n",
       "      <th>instance</th>\n",
       "      <th>name</th>\n",
       "      <th>value</th>\n",
       "      <th>dataset_date</th>\n",
       "      <th>YY_MM_DD</th>\n",
       "      <th>tags</th>\n",
       "      <th>check_status</th>\n",
       "    </tr>\n",
       "  </thead>\n",
       "  <tbody>\n",
       "    <tr>\n",
       "      <th>0</th>\n",
       "      <td>Column</td>\n",
       "      <td>i1c_rating_riscos_Histogram_ratio_4</td>\n",
       "      <td>Mean</td>\n",
       "      <td>0.013367</td>\n",
       "      <td>1643994929878</td>\n",
       "      <td>2022-02-04</td>\n",
       "      <td>[]</td>\n",
       "      <td>Success</td>\n",
       "    </tr>\n",
       "    <tr>\n",
       "      <th>1</th>\n",
       "      <td>Column</td>\n",
       "      <td>i1c_rating_riscos_Histogram_ratio_1</td>\n",
       "      <td>Mean</td>\n",
       "      <td>0.337406</td>\n",
       "      <td>1643994929878</td>\n",
       "      <td>2022-02-04</td>\n",
       "      <td>[]</td>\n",
       "      <td>Success</td>\n",
       "    </tr>\n",
       "    <tr>\n",
       "      <th>2</th>\n",
       "      <td>Column</td>\n",
       "      <td>i1c_rating_riscos_Histogram_ratio_8</td>\n",
       "      <td>Mean</td>\n",
       "      <td>0.028655</td>\n",
       "      <td>1643994929878</td>\n",
       "      <td>2022-02-04</td>\n",
       "      <td>[]</td>\n",
       "      <td>Success</td>\n",
       "    </tr>\n",
       "    <tr>\n",
       "      <th>3</th>\n",
       "      <td>Column</td>\n",
       "      <td>i1c_rating_riscos_Histogram_ratio_9</td>\n",
       "      <td>Mean</td>\n",
       "      <td>0.035644</td>\n",
       "      <td>1643994929878</td>\n",
       "      <td>2022-02-04</td>\n",
       "      <td>[]</td>\n",
       "      <td>Success</td>\n",
       "    </tr>\n",
       "    <tr>\n",
       "      <th>4</th>\n",
       "      <td>Column</td>\n",
       "      <td>i1c_rating_riscos_Histogram_ratio_5</td>\n",
       "      <td>Mean</td>\n",
       "      <td>0.000006</td>\n",
       "      <td>1643994929878</td>\n",
       "      <td>2022-02-04</td>\n",
       "      <td>[]</td>\n",
       "      <td>Success</td>\n",
       "    </tr>\n",
       "    <tr>\n",
       "      <th>5</th>\n",
       "      <td>Column</td>\n",
       "      <td>i1c_rating_riscos_Histogram_ratio_2</td>\n",
       "      <td>Mean</td>\n",
       "      <td>0.122026</td>\n",
       "      <td>1643994929878</td>\n",
       "      <td>2022-02-04</td>\n",
       "      <td>[]</td>\n",
       "      <td>Success</td>\n",
       "    </tr>\n",
       "    <tr>\n",
       "      <th>6</th>\n",
       "      <td>Column</td>\n",
       "      <td>i1c_rating_riscos_Histogram_ratio_0</td>\n",
       "      <td>Mean</td>\n",
       "      <td>0.379330</td>\n",
       "      <td>1643994929878</td>\n",
       "      <td>2022-02-04</td>\n",
       "      <td>[]</td>\n",
       "      <td>Success</td>\n",
       "    </tr>\n",
       "    <tr>\n",
       "      <th>7</th>\n",
       "      <td>Column</td>\n",
       "      <td>i1c_rating_riscos_Histogram_ratio_6</td>\n",
       "      <td>Mean</td>\n",
       "      <td>0.023770</td>\n",
       "      <td>1643994929878</td>\n",
       "      <td>2022-02-04</td>\n",
       "      <td>[]</td>\n",
       "      <td>Success</td>\n",
       "    </tr>\n",
       "    <tr>\n",
       "      <th>8</th>\n",
       "      <td>Column</td>\n",
       "      <td>i1c_rating_riscos_Histogram_ratio_7</td>\n",
       "      <td>Mean</td>\n",
       "      <td>0.059797</td>\n",
       "      <td>1643994929878</td>\n",
       "      <td>2022-02-04</td>\n",
       "      <td>[]</td>\n",
       "      <td>Success</td>\n",
       "    </tr>\n",
       "    <tr>\n",
       "      <th>9</th>\n",
       "      <td>Column</td>\n",
       "      <td>i1d_sexo_Histogram_ratio_M</td>\n",
       "      <td>Mean</td>\n",
       "      <td>0.609611</td>\n",
       "      <td>1643994929878</td>\n",
       "      <td>2022-02-04</td>\n",
       "      <td>[]</td>\n",
       "      <td>Success</td>\n",
       "    </tr>\n",
       "    <tr>\n",
       "      <th>10</th>\n",
       "      <td>Column</td>\n",
       "      <td>i1d_sexo_Histogram_ratio_</td>\n",
       "      <td>Mean</td>\n",
       "      <td>0.001581</td>\n",
       "      <td>1643994929878</td>\n",
       "      <td>2022-02-04</td>\n",
       "      <td>[]</td>\n",
       "      <td>Success</td>\n",
       "    </tr>\n",
       "    <tr>\n",
       "      <th>11</th>\n",
       "      <td>Column</td>\n",
       "      <td>i1d_sexo_Histogram_ratio_F</td>\n",
       "      <td>Mean</td>\n",
       "      <td>0.388807</td>\n",
       "      <td>1643994929878</td>\n",
       "      <td>2022-02-04</td>\n",
       "      <td>[]</td>\n",
       "      <td>Success</td>\n",
       "    </tr>\n",
       "    <tr>\n",
       "      <th>12</th>\n",
       "      <td>Dataset</td>\n",
       "      <td>*</td>\n",
       "      <td>Size</td>\n",
       "      <td>541268.000000</td>\n",
       "      <td>1643994846981</td>\n",
       "      <td>2022-02-04</td>\n",
       "      <td>[]</td>\n",
       "      <td>Success</td>\n",
       "    </tr>\n",
       "  </tbody>\n",
       "</table>\n",
       "</div>"
      ],
      "text/plain": [
       "     entity                             instance  name          value  \\\n",
       "0    Column  i1c_rating_riscos_Histogram_ratio_4  Mean       0.013367   \n",
       "1    Column  i1c_rating_riscos_Histogram_ratio_1  Mean       0.337406   \n",
       "2    Column  i1c_rating_riscos_Histogram_ratio_8  Mean       0.028655   \n",
       "3    Column  i1c_rating_riscos_Histogram_ratio_9  Mean       0.035644   \n",
       "4    Column  i1c_rating_riscos_Histogram_ratio_5  Mean       0.000006   \n",
       "5    Column  i1c_rating_riscos_Histogram_ratio_2  Mean       0.122026   \n",
       "6    Column  i1c_rating_riscos_Histogram_ratio_0  Mean       0.379330   \n",
       "7    Column  i1c_rating_riscos_Histogram_ratio_6  Mean       0.023770   \n",
       "8    Column  i1c_rating_riscos_Histogram_ratio_7  Mean       0.059797   \n",
       "9    Column           i1d_sexo_Histogram_ratio_M  Mean       0.609611   \n",
       "10   Column           i1d_sexo_Histogram_ratio_   Mean       0.001581   \n",
       "11   Column           i1d_sexo_Histogram_ratio_F  Mean       0.388807   \n",
       "12  Dataset                                    *  Size  541268.000000   \n",
       "\n",
       "     dataset_date    YY_MM_DD tags check_status  \n",
       "0   1643994929878  2022-02-04   []      Success  \n",
       "1   1643994929878  2022-02-04   []      Success  \n",
       "2   1643994929878  2022-02-04   []      Success  \n",
       "3   1643994929878  2022-02-04   []      Success  \n",
       "4   1643994929878  2022-02-04   []      Success  \n",
       "5   1643994929878  2022-02-04   []      Success  \n",
       "6   1643994929878  2022-02-04   []      Success  \n",
       "7   1643994929878  2022-02-04   []      Success  \n",
       "8   1643994929878  2022-02-04   []      Success  \n",
       "9   1643994929878  2022-02-04   []      Success  \n",
       "10  1643994929878  2022-02-04   []      Success  \n",
       "11  1643994929878  2022-02-04   []      Success  \n",
       "12  1643994846981  2022-02-04   []      Success  "
      ]
     },
     "execution_count": 16,
     "metadata": {},
     "output_type": "execute_result"
    }
   ],
   "source": [
    "dqView_name = dqView_simple[\"viewName\"]\n",
    "path = dq_bnr_directory +\"/\"+ dqView_name +'/persistentRepository/successMetrics.parquet'\n",
    "print(path)\n",
    "print(path)\n",
    "df = spark.read.parquet(path)\n",
    "df.toPandas()"
   ]
  },
  {
   "cell_type": "code",
   "execution_count": null,
   "metadata": {},
   "outputs": [],
   "source": []
  },
  {
   "cell_type": "code",
   "execution_count": null,
   "metadata": {},
   "outputs": [],
   "source": []
  },
  {
   "cell_type": "markdown",
   "metadata": {
    "execution": {
     "iopub.execute_input": "2022-02-04T00:02:03.391086Z",
     "iopub.status.busy": "2022-02-04T00:02:03.390710Z",
     "iopub.status.idle": "2022-02-04T00:02:03.394480Z",
     "shell.execute_reply": "2022-02-04T00:02:03.393665Z",
     "shell.execute_reply.started": "2022-02-04T00:02:03.391056Z"
    }
   },
   "source": [
    "# 2° dia - Simulando Execucao "
   ]
  },
  {
   "cell_type": "code",
   "execution_count": 17,
   "metadata": {
    "execution": {
     "iopub.execute_input": "2022-02-04T17:16:34.284966Z",
     "iopub.status.busy": "2022-02-04T17:16:34.284483Z",
     "iopub.status.idle": "2022-02-04T17:16:34.433886Z",
     "shell.execute_reply": "2022-02-04T17:16:34.432657Z",
     "shell.execute_reply.started": "2022-02-04T17:16:34.284891Z"
    }
   },
   "outputs": [],
   "source": [
    "dqView_simple = {\"viewName\" : \"dqView_check_moderate\",\n",
    "                 \"inputData\": df_input,\n",
    "                 \"infraYaml\": \"yamlFiles/histogram_anomalyDetec/an_anomalyDetec/infrastructure.yaml\",\n",
    "                 \"vsYaml\": \"yamlFiles/histogram_anomalyDetec/an_anomalyDetec/verificationSuite.yaml\"}\n",
    "\n",
    "dq_bnr_directory=\"/user/x266727/dataquality_bnr-docs/histogram_anomalyDetec/DQ\""
   ]
  },
  {
   "cell_type": "code",
   "execution_count": 18,
   "metadata": {
    "execution": {
     "iopub.execute_input": "2022-02-04T17:16:34.437640Z",
     "iopub.status.busy": "2022-02-04T17:16:34.436325Z",
     "iopub.status.idle": "2022-02-04T17:18:18.957175Z",
     "shell.execute_reply": "2022-02-04T17:18:18.955917Z",
     "shell.execute_reply.started": "2022-02-04T17:16:34.437605Z"
    }
   },
   "outputs": [
    {
     "name": "stdout",
     "output_type": "stream",
     "text": [
      "__Evaluate DataQuality View and add to Main DataQuality Process__\n",
      "dqView_check_moderate pattern evaluated.\n",
      "\n",
      "\n",
      "__Running all DataQuality views__\n",
      "run() dqView_check_moderate:\n",
      "getPersistentRepository...\n",
      "applyFiltering...\n",
      "buildTemporaryRepository...\n",
      "getDataframe...\n",
      "getAnomalyDetection...\n",
      "getOuputDFs...\n",
      "custom_getAnomalyDetection...\n",
      "getOuputDFs...\n",
      "writeTo_persistentRepository...\n",
      "writeTo_currentResults...\n",
      "DataQuality process finished.\n",
      "\n",
      "\n",
      "__Get overall result__\n",
      "writing to: /user/x266727/dataquality_bnr-docs/histogram_anomalyDetec/DQ/dqView_check_moderate/currentResult/csvResult/dqView_check_moderate_OK.csv\n",
      "\n",
      "writing to: /user/x266727/dataquality_bnr-docs/histogram_anomalyDetec/DQ/overall/currentResult/csvResult/overall_OK.csv\n"
     ]
    }
   ],
   "source": [
    "myDq = dqRun.Dq(spark, dq_bnr_directory)\n",
    "\n",
    "myDq = (myDq\n",
    "        .addView(dqView_simple, \"AnomalyDetection\"))\n",
    "        \n",
    "dq_run_return = myDq.run()"
   ]
  },
  {
   "cell_type": "code",
   "execution_count": null,
   "metadata": {},
   "outputs": [],
   "source": []
  },
  {
   "cell_type": "code",
   "execution_count": null,
   "metadata": {},
   "outputs": [],
   "source": []
  },
  {
   "cell_type": "markdown",
   "metadata": {},
   "source": [
    "# 2° dia - Analisando Resultados"
   ]
  },
  {
   "cell_type": "markdown",
   "metadata": {},
   "source": [
    "#### DQ/overall/overall_OK.csv"
   ]
  },
  {
   "cell_type": "code",
   "execution_count": 19,
   "metadata": {
    "execution": {
     "iopub.execute_input": "2022-02-04T17:18:31.065235Z",
     "iopub.status.busy": "2022-02-04T17:18:31.064826Z",
     "iopub.status.idle": "2022-02-04T17:18:34.516582Z",
     "shell.execute_reply": "2022-02-04T17:18:34.515670Z",
     "shell.execute_reply.started": "2022-02-04T17:18:31.065199Z"
    }
   },
   "outputs": [
    {
     "name": "stdout",
     "output_type": "stream",
     "text": [
      "/user/x266727/dataquality_bnr-docs/histogram_anomalyDetec/DQ/overall/currentResult/csvResult/overall_OK.csv\n"
     ]
    },
    {
     "data": {
      "text/html": [
       "<div>\n",
       "<style scoped>\n",
       "    .dataframe tbody tr th:only-of-type {\n",
       "        vertical-align: middle;\n",
       "    }\n",
       "\n",
       "    .dataframe tbody tr th {\n",
       "        vertical-align: top;\n",
       "    }\n",
       "\n",
       "    .dataframe thead th {\n",
       "        text-align: right;\n",
       "    }\n",
       "</style>\n",
       "<table border=\"1\" class=\"dataframe\">\n",
       "  <thead>\n",
       "    <tr style=\"text-align: right;\">\n",
       "      <th></th>\n",
       "      <th>check</th>\n",
       "      <th>check_level</th>\n",
       "      <th>check_status</th>\n",
       "      <th>constraint</th>\n",
       "      <th>constraint_status</th>\n",
       "      <th>constraint_message</th>\n",
       "      <th>dataset_date</th>\n",
       "      <th>YY_MM_DD</th>\n",
       "      <th>viewName</th>\n",
       "      <th>viewPath</th>\n",
       "    </tr>\n",
       "  </thead>\n",
       "  <tbody>\n",
       "    <tr>\n",
       "      <th>0</th>\n",
       "      <td>None</td>\n",
       "      <td>None</td>\n",
       "      <td>Success</td>\n",
       "      <td>None</td>\n",
       "      <td>None</td>\n",
       "      <td>None</td>\n",
       "      <td>None</td>\n",
       "      <td>None</td>\n",
       "      <td>overall</td>\n",
       "      <td>None</td>\n",
       "    </tr>\n",
       "  </tbody>\n",
       "</table>\n",
       "</div>"
      ],
      "text/plain": [
       "  check check_level check_status constraint constraint_status  \\\n",
       "0  None        None      Success       None              None   \n",
       "\n",
       "  constraint_message dataset_date YY_MM_DD viewName viewPath  \n",
       "0               None         None     None  overall     None  "
      ]
     },
     "execution_count": 19,
     "metadata": {},
     "output_type": "execute_result"
    }
   ],
   "source": [
    "path = dq_bnr_directory+'/overall/currentResult/csvResult/overall_OK.csv'\n",
    "print(path)\n",
    "df = spark.read.option(\"header\",True).csv(path)\n",
    "df.toPandas()"
   ]
  },
  {
   "cell_type": "code",
   "execution_count": null,
   "metadata": {},
   "outputs": [],
   "source": []
  },
  {
   "cell_type": "markdown",
   "metadata": {},
   "source": [
    "### DQ/view/persistentRepository/successMetrics.parquet"
   ]
  },
  {
   "cell_type": "code",
   "execution_count": 20,
   "metadata": {
    "execution": {
     "iopub.execute_input": "2022-02-04T17:18:34.518963Z",
     "iopub.status.busy": "2022-02-04T17:18:34.518591Z",
     "iopub.status.idle": "2022-02-04T17:18:37.039827Z",
     "shell.execute_reply": "2022-02-04T17:18:37.038832Z",
     "shell.execute_reply.started": "2022-02-04T17:18:34.518891Z"
    }
   },
   "outputs": [
    {
     "name": "stdout",
     "output_type": "stream",
     "text": [
      "/user/x266727/dataquality_bnr-docs/histogram_anomalyDetec/DQ/dqView_check_moderate/persistentRepository/successMetrics.parquet\n",
      "After 2nd execution, now persistentRepository has 26 records.\n"
     ]
    }
   ],
   "source": [
    "dqView_name = dqView_simple[\"viewName\"]\n",
    "path = dq_bnr_directory +\"/\"+ dqView_name +'/persistentRepository/successMetrics.parquet'\n",
    "print(path)\n",
    "df = spark.read.parquet(path)\n",
    "print(\"After 2nd execution, now persistentRepository has \"+str(df.count())+\" records.\")"
   ]
  },
  {
   "cell_type": "markdown",
   "metadata": {},
   "source": [
    "### DQ/view/currentResult/checkResult.parquet"
   ]
  },
  {
   "cell_type": "code",
   "execution_count": 21,
   "metadata": {
    "execution": {
     "iopub.execute_input": "2022-02-04T17:18:37.041892Z",
     "iopub.status.busy": "2022-02-04T17:18:37.041604Z",
     "iopub.status.idle": "2022-02-04T17:18:39.626666Z",
     "shell.execute_reply": "2022-02-04T17:18:39.625734Z",
     "shell.execute_reply.started": "2022-02-04T17:18:37.041859Z"
    }
   },
   "outputs": [
    {
     "name": "stdout",
     "output_type": "stream",
     "text": [
      "/user/x266727/dataquality_bnr-docs/histogram_anomalyDetec/DQ/dqView_check_moderate/currentResult/checkResult.parquet\n",
      "+--------------------+-----------+------------+--------------------+-----------------+------------------+\n",
      "|               check|check_level|check_status|          constraint|constraint_status|constraint_message|\n",
      "+--------------------+-----------+------------+--------------------+-----------------+------------------+\n",
      "|Descpription by Yaml|      Error|     Success|AnomalyConstraint...|          Success|                  |\n",
      "|Descpription by Yaml|      Error|     Success|AnomalyConstraint...|          Success|                  |\n",
      "|Descpription by Yaml|      Error|     Success|AnomalyConstraint...|          Success|                  |\n",
      "|Descpription by Yaml|      Error|     Success|AnomalyConstraint...|          Success|                  |\n",
      "|Descpription by Yaml|      Error|     Success|AnomalyConstraint...|          Success|                  |\n",
      "|Descpription by Yaml|      Error|     Success|AnomalyConstraint...|          Success|                  |\n",
      "|Descpription by Yaml|      Error|     Success|AnomalyConstraint...|          Success|                  |\n",
      "|Descpription by Yaml|      Error|     Success|AnomalyConstraint...|          Success|                  |\n",
      "|Descpription by Yaml|      Error|     Success|AnomalyConstraint...|          Success|                  |\n",
      "|Descpription by Yaml|      Error|     Success|AnomalyConstraint...|          Success|                  |\n",
      "|Descpription by Yaml|      Error|     Success|AnomalyConstraint...|          Success|                  |\n",
      "|Descpription by Yaml|      Error|     Success|AnomalyConstraint...|          Success|                  |\n",
      "|Descpription by Yaml|      Error|     Success|AnomalyConstraint...|          Success|                  |\n",
      "+--------------------+-----------+------------+--------------------+-----------------+------------------+\n",
      "\n"
     ]
    }
   ],
   "source": [
    "dqView_name = dqView_simple[\"viewName\"]\n",
    "path = dq_bnr_directory +\"/\"+ dqView_name +'/currentResult/checkResult.parquet'\n",
    "print(path)\n",
    "\n",
    "df = spark.read.parquet(path)\n",
    "df.drop(\"YY_MM_DD\").drop(\"dataset_date\").show()"
   ]
  },
  {
   "cell_type": "code",
   "execution_count": 22,
   "metadata": {
    "execution": {
     "iopub.execute_input": "2022-02-04T17:18:39.628542Z",
     "iopub.status.busy": "2022-02-04T17:18:39.628324Z",
     "iopub.status.idle": "2022-02-04T17:18:40.799121Z",
     "shell.execute_reply": "2022-02-04T17:18:40.798081Z",
     "shell.execute_reply.started": "2022-02-04T17:18:39.628518Z"
    }
   },
   "outputs": [
    {
     "data": {
      "text/html": [
       "<div>\n",
       "<style scoped>\n",
       "    .dataframe tbody tr th:only-of-type {\n",
       "        vertical-align: middle;\n",
       "    }\n",
       "\n",
       "    .dataframe tbody tr th {\n",
       "        vertical-align: top;\n",
       "    }\n",
       "\n",
       "    .dataframe thead th {\n",
       "        text-align: right;\n",
       "    }\n",
       "</style>\n",
       "<table border=\"1\" class=\"dataframe\">\n",
       "  <thead>\n",
       "    <tr style=\"text-align: right;\">\n",
       "      <th></th>\n",
       "      <th>constraint</th>\n",
       "      <th>constraint_status</th>\n",
       "    </tr>\n",
       "  </thead>\n",
       "  <tbody>\n",
       "    <tr>\n",
       "      <th>0</th>\n",
       "      <td>AnomalyConstraint(Mean(i1c_rating_riscos_Histo...</td>\n",
       "      <td>Success</td>\n",
       "    </tr>\n",
       "    <tr>\n",
       "      <th>1</th>\n",
       "      <td>AnomalyConstraint(Mean(i1c_rating_riscos_Histo...</td>\n",
       "      <td>Success</td>\n",
       "    </tr>\n",
       "    <tr>\n",
       "      <th>2</th>\n",
       "      <td>AnomalyConstraint(Mean(i1c_rating_riscos_Histo...</td>\n",
       "      <td>Success</td>\n",
       "    </tr>\n",
       "    <tr>\n",
       "      <th>3</th>\n",
       "      <td>AnomalyConstraint(Mean(i1c_rating_riscos_Histo...</td>\n",
       "      <td>Success</td>\n",
       "    </tr>\n",
       "    <tr>\n",
       "      <th>4</th>\n",
       "      <td>AnomalyConstraint(Mean(i1c_rating_riscos_Histo...</td>\n",
       "      <td>Success</td>\n",
       "    </tr>\n",
       "    <tr>\n",
       "      <th>5</th>\n",
       "      <td>AnomalyConstraint(Mean(i1c_rating_riscos_Histo...</td>\n",
       "      <td>Success</td>\n",
       "    </tr>\n",
       "    <tr>\n",
       "      <th>6</th>\n",
       "      <td>AnomalyConstraint(Mean(i1c_rating_riscos_Histo...</td>\n",
       "      <td>Success</td>\n",
       "    </tr>\n",
       "    <tr>\n",
       "      <th>7</th>\n",
       "      <td>AnomalyConstraint(Mean(i1c_rating_riscos_Histo...</td>\n",
       "      <td>Success</td>\n",
       "    </tr>\n",
       "    <tr>\n",
       "      <th>8</th>\n",
       "      <td>AnomalyConstraint(Mean(i1c_rating_riscos_Histo...</td>\n",
       "      <td>Success</td>\n",
       "    </tr>\n",
       "    <tr>\n",
       "      <th>9</th>\n",
       "      <td>AnomalyConstraint(Mean(i1d_sexo_Histogram_rati...</td>\n",
       "      <td>Success</td>\n",
       "    </tr>\n",
       "    <tr>\n",
       "      <th>10</th>\n",
       "      <td>AnomalyConstraint(Mean(i1d_sexo_Histogram_rati...</td>\n",
       "      <td>Success</td>\n",
       "    </tr>\n",
       "    <tr>\n",
       "      <th>11</th>\n",
       "      <td>AnomalyConstraint(Mean(i1d_sexo_Histogram_rati...</td>\n",
       "      <td>Success</td>\n",
       "    </tr>\n",
       "    <tr>\n",
       "      <th>12</th>\n",
       "      <td>AnomalyConstraint(Size(None))</td>\n",
       "      <td>Success</td>\n",
       "    </tr>\n",
       "  </tbody>\n",
       "</table>\n",
       "</div>"
      ],
      "text/plain": [
       "                                           constraint constraint_status\n",
       "0   AnomalyConstraint(Mean(i1c_rating_riscos_Histo...           Success\n",
       "1   AnomalyConstraint(Mean(i1c_rating_riscos_Histo...           Success\n",
       "2   AnomalyConstraint(Mean(i1c_rating_riscos_Histo...           Success\n",
       "3   AnomalyConstraint(Mean(i1c_rating_riscos_Histo...           Success\n",
       "4   AnomalyConstraint(Mean(i1c_rating_riscos_Histo...           Success\n",
       "5   AnomalyConstraint(Mean(i1c_rating_riscos_Histo...           Success\n",
       "6   AnomalyConstraint(Mean(i1c_rating_riscos_Histo...           Success\n",
       "7   AnomalyConstraint(Mean(i1c_rating_riscos_Histo...           Success\n",
       "8   AnomalyConstraint(Mean(i1c_rating_riscos_Histo...           Success\n",
       "9   AnomalyConstraint(Mean(i1d_sexo_Histogram_rati...           Success\n",
       "10  AnomalyConstraint(Mean(i1d_sexo_Histogram_rati...           Success\n",
       "11  AnomalyConstraint(Mean(i1d_sexo_Histogram_rati...           Success\n",
       "12                      AnomalyConstraint(Size(None))           Success"
      ]
     },
     "execution_count": 22,
     "metadata": {},
     "output_type": "execute_result"
    }
   ],
   "source": [
    "df.select(\"constraint\",\"constraint_status\").toPandas()"
   ]
  },
  {
   "cell_type": "code",
   "execution_count": null,
   "metadata": {},
   "outputs": [],
   "source": []
  },
  {
   "cell_type": "markdown",
   "metadata": {},
   "source": [
    "### DQ/view/currentResult/successMetrics.parquet"
   ]
  },
  {
   "cell_type": "code",
   "execution_count": 23,
   "metadata": {
    "execution": {
     "iopub.execute_input": "2022-02-04T17:18:40.800886Z",
     "iopub.status.busy": "2022-02-04T17:18:40.800513Z",
     "iopub.status.idle": "2022-02-04T17:18:43.874554Z",
     "shell.execute_reply": "2022-02-04T17:18:43.873661Z",
     "shell.execute_reply.started": "2022-02-04T17:18:40.800834Z"
    }
   },
   "outputs": [
    {
     "name": "stdout",
     "output_type": "stream",
     "text": [
      "/user/x266727/dataquality_bnr-docs/histogram_anomalyDetec/DQ/dqView_check_moderate/currentResult/successMetrics.parquet\n",
      "+-------+--------------------+----+--------------------+-------------+----------+----+------------+\n",
      "| entity|            instance|name|               value| dataset_date|  YY_MM_DD|tags|check_status|\n",
      "+-------+--------------------+----+--------------------+-------------+----------+----+------------+\n",
      "| Column|i1c_rating_riscos...|Mean|0.013366761013028666|1643995062814|2022-02-04|  []|     Success|\n",
      "| Column|i1c_rating_riscos...|Mean| 0.33740586918125587|1643995062814|2022-02-04|  []|     Success|\n",
      "| Column|i1c_rating_riscos...|Mean|0.028654936186879698|1643995062814|2022-02-04|  []|     Success|\n",
      "| Column|i1c_rating_riscos...|Mean| 0.03564408019687105|1643995062814|2022-02-04|  []|     Success|\n",
      "| Column|i1c_rating_riscos...|Mean|5.542540848526054E-6|1643995062814|2022-02-04|  []|     Success|\n",
      "| Column|i1c_rating_riscos...|Mean| 0.12202642683476578|1643995062814|2022-02-04|  []|     Success|\n",
      "| Column|i1c_rating_riscos...|Mean|  0.3793296481595069|1643995062814|2022-02-04|  []|     Success|\n",
      "| Column|i1c_rating_riscos...|Mean|0.023770110185712068|1643995062814|2022-02-04|  []|     Success|\n",
      "| Column|i1c_rating_riscos...|Mean|0.059796625701131416|1643995062814|2022-02-04|  []|     Success|\n",
      "| Column|i1d_sexo_Histogra...|Mean|  0.6096111353340674|1643995062814|2022-02-04|  []|     Success|\n",
      "| Column|i1d_sexo_Histogra...|Mean|0.001581471655446...|1643995062814|2022-02-04|  []|     Success|\n",
      "| Column|i1d_sexo_Histogra...|Mean|  0.3888073930104865|1643995062814|2022-02-04|  []|     Success|\n",
      "|Dataset|                   *|Size|            541268.0|1643995012355|2022-02-04|  []|     Success|\n",
      "+-------+--------------------+----+--------------------+-------------+----------+----+------------+\n",
      "\n"
     ]
    }
   ],
   "source": [
    "dqView_name = dqView_simple[\"viewName\"]\n",
    "path = dq_bnr_directory +\"/\"+ dqView_name +'/currentResult/successMetrics.parquet'\n",
    "print(path)\n",
    "\n",
    "df = spark.read.parquet(path)\n",
    "df.show()"
   ]
  },
  {
   "cell_type": "code",
   "execution_count": 24,
   "metadata": {
    "execution": {
     "iopub.execute_input": "2022-02-04T17:18:43.876114Z",
     "iopub.status.busy": "2022-02-04T17:18:43.875779Z",
     "iopub.status.idle": "2022-02-04T17:18:45.056619Z",
     "shell.execute_reply": "2022-02-04T17:18:45.055789Z",
     "shell.execute_reply.started": "2022-02-04T17:18:43.876082Z"
    }
   },
   "outputs": [
    {
     "data": {
      "text/html": [
       "<div>\n",
       "<style scoped>\n",
       "    .dataframe tbody tr th:only-of-type {\n",
       "        vertical-align: middle;\n",
       "    }\n",
       "\n",
       "    .dataframe tbody tr th {\n",
       "        vertical-align: top;\n",
       "    }\n",
       "\n",
       "    .dataframe thead th {\n",
       "        text-align: right;\n",
       "    }\n",
       "</style>\n",
       "<table border=\"1\" class=\"dataframe\">\n",
       "  <thead>\n",
       "    <tr style=\"text-align: right;\">\n",
       "      <th></th>\n",
       "      <th>instance</th>\n",
       "      <th>value</th>\n",
       "    </tr>\n",
       "  </thead>\n",
       "  <tbody>\n",
       "    <tr>\n",
       "      <th>0</th>\n",
       "      <td>i1c_rating_riscos_Histogram_ratio_4</td>\n",
       "      <td>0.013367</td>\n",
       "    </tr>\n",
       "    <tr>\n",
       "      <th>1</th>\n",
       "      <td>i1c_rating_riscos_Histogram_ratio_1</td>\n",
       "      <td>0.337406</td>\n",
       "    </tr>\n",
       "    <tr>\n",
       "      <th>2</th>\n",
       "      <td>i1c_rating_riscos_Histogram_ratio_8</td>\n",
       "      <td>0.028655</td>\n",
       "    </tr>\n",
       "    <tr>\n",
       "      <th>3</th>\n",
       "      <td>i1c_rating_riscos_Histogram_ratio_9</td>\n",
       "      <td>0.035644</td>\n",
       "    </tr>\n",
       "    <tr>\n",
       "      <th>4</th>\n",
       "      <td>i1c_rating_riscos_Histogram_ratio_5</td>\n",
       "      <td>0.000006</td>\n",
       "    </tr>\n",
       "    <tr>\n",
       "      <th>5</th>\n",
       "      <td>i1c_rating_riscos_Histogram_ratio_2</td>\n",
       "      <td>0.122026</td>\n",
       "    </tr>\n",
       "    <tr>\n",
       "      <th>6</th>\n",
       "      <td>i1c_rating_riscos_Histogram_ratio_0</td>\n",
       "      <td>0.379330</td>\n",
       "    </tr>\n",
       "    <tr>\n",
       "      <th>7</th>\n",
       "      <td>i1c_rating_riscos_Histogram_ratio_6</td>\n",
       "      <td>0.023770</td>\n",
       "    </tr>\n",
       "    <tr>\n",
       "      <th>8</th>\n",
       "      <td>i1c_rating_riscos_Histogram_ratio_7</td>\n",
       "      <td>0.059797</td>\n",
       "    </tr>\n",
       "    <tr>\n",
       "      <th>9</th>\n",
       "      <td>i1d_sexo_Histogram_ratio_M</td>\n",
       "      <td>0.609611</td>\n",
       "    </tr>\n",
       "    <tr>\n",
       "      <th>10</th>\n",
       "      <td>i1d_sexo_Histogram_ratio_</td>\n",
       "      <td>0.001581</td>\n",
       "    </tr>\n",
       "    <tr>\n",
       "      <th>11</th>\n",
       "      <td>i1d_sexo_Histogram_ratio_F</td>\n",
       "      <td>0.388807</td>\n",
       "    </tr>\n",
       "    <tr>\n",
       "      <th>12</th>\n",
       "      <td>*</td>\n",
       "      <td>541268.000000</td>\n",
       "    </tr>\n",
       "  </tbody>\n",
       "</table>\n",
       "</div>"
      ],
      "text/plain": [
       "                               instance          value\n",
       "0   i1c_rating_riscos_Histogram_ratio_4       0.013367\n",
       "1   i1c_rating_riscos_Histogram_ratio_1       0.337406\n",
       "2   i1c_rating_riscos_Histogram_ratio_8       0.028655\n",
       "3   i1c_rating_riscos_Histogram_ratio_9       0.035644\n",
       "4   i1c_rating_riscos_Histogram_ratio_5       0.000006\n",
       "5   i1c_rating_riscos_Histogram_ratio_2       0.122026\n",
       "6   i1c_rating_riscos_Histogram_ratio_0       0.379330\n",
       "7   i1c_rating_riscos_Histogram_ratio_6       0.023770\n",
       "8   i1c_rating_riscos_Histogram_ratio_7       0.059797\n",
       "9            i1d_sexo_Histogram_ratio_M       0.609611\n",
       "10           i1d_sexo_Histogram_ratio_        0.001581\n",
       "11           i1d_sexo_Histogram_ratio_F       0.388807\n",
       "12                                    *  541268.000000"
      ]
     },
     "execution_count": 24,
     "metadata": {},
     "output_type": "execute_result"
    }
   ],
   "source": [
    "df.select(\"instance\",\"value\").toPandas()"
   ]
  },
  {
   "cell_type": "code",
   "execution_count": null,
   "metadata": {},
   "outputs": [],
   "source": []
  },
  {
   "cell_type": "markdown",
   "metadata": {
    "execution": {
     "iopub.execute_input": "2022-02-04T11:04:28.723413Z",
     "iopub.status.busy": "2022-02-04T11:04:28.723110Z",
     "iopub.status.idle": "2022-02-04T11:04:28.734356Z",
     "shell.execute_reply": "2022-02-04T11:04:28.733576Z",
     "shell.execute_reply.started": "2022-02-04T11:04:28.723384Z"
    }
   },
   "source": [
    "# 3° dia - Simulating failure scenario\n",
    "\n",
    "Aumentando os valores da distribuicao para demonstrar um caso de uso onde a Deteccao de Anomalias alertaria um Erro."
   ]
  },
  {
   "cell_type": "code",
   "execution_count": 5,
   "metadata": {
    "execution": {
     "iopub.execute_input": "2022-02-04T17:30:19.810663Z",
     "iopub.status.busy": "2022-02-04T17:30:19.810140Z",
     "iopub.status.idle": "2022-02-04T17:30:19.815869Z",
     "shell.execute_reply": "2022-02-04T17:30:19.815098Z",
     "shell.execute_reply.started": "2022-02-04T17:30:19.810622Z"
    }
   },
   "outputs": [],
   "source": [
    "from pyspark.sql import functions as F"
   ]
  },
  {
   "cell_type": "code",
   "execution_count": 6,
   "metadata": {
    "execution": {
     "iopub.execute_input": "2022-02-04T17:30:24.097808Z",
     "iopub.status.busy": "2022-02-04T17:30:24.097482Z",
     "iopub.status.idle": "2022-02-04T17:30:25.164775Z",
     "shell.execute_reply": "2022-02-04T17:30:25.163806Z",
     "shell.execute_reply.started": "2022-02-04T17:30:24.097778Z"
    }
   },
   "outputs": [],
   "source": [
    "df_input_failure = (df_input\n",
    "       .withColumn(\"i1d_sexo\",\n",
    "                   F.when(F.rand() > 0.25, F.lit(\"M\"))\n",
    "                   .otherwise(F.col(\"i1d_sexo\"))\n",
    "                  ))\n",
    "\n",
    "df_input_failure = (df_input_failure\n",
    "                    .withColumn(\"i1c_rating_riscos\",\n",
    "                                F.when(F.rand() > 0.25, F.lit(9))\n",
    "                                .otherwise(F.col(\"i1d_sexo\"))\n",
    "                               ))"
   ]
  },
  {
   "cell_type": "code",
   "execution_count": 15,
   "metadata": {
    "execution": {
     "iopub.execute_input": "2022-02-04T17:38:48.480714Z",
     "iopub.status.busy": "2022-02-04T17:38:48.480359Z",
     "iopub.status.idle": "2022-02-04T17:38:48.485034Z",
     "shell.execute_reply": "2022-02-04T17:38:48.484201Z",
     "shell.execute_reply.started": "2022-02-04T17:38:48.480660Z"
    }
   },
   "outputs": [],
   "source": [
    "def relativeIncrease(final_value, initial_value):\n",
    "    increase = ((final_value - initial_value)/initial_value)+1\n",
    "    increase = round(increase, 5)\n",
    "    return increase"
   ]
  },
  {
   "cell_type": "code",
   "execution_count": 17,
   "metadata": {
    "execution": {
     "iopub.execute_input": "2022-02-04T17:40:06.094194Z",
     "iopub.status.busy": "2022-02-04T17:40:06.093784Z",
     "iopub.status.idle": "2022-02-04T17:40:57.557085Z",
     "shell.execute_reply": "2022-02-04T17:40:57.555249Z",
     "shell.execute_reply.started": "2022-02-04T17:40:06.094161Z"
    }
   },
   "outputs": [
    {
     "name": "stdout",
     "output_type": "stream",
     "text": [
      "df_input_M.count(): 329963\n",
      "df_input_failure_M.count(): 488606\n",
      "df_input_M Increase of: 1.48079\n",
      "\n",
      "i1c_rating_riscos_9.count(): 19293\n",
      "i1c_rating_riscos_9.count(): 406183\n",
      "i1c_rating_riscos_9 Increase of: 21.05339\n",
      "\n"
     ]
    }
   ],
   "source": [
    "df_input_M_count=df_input.filter(F.col(\"i1d_sexo\")=='M').count()\n",
    "print(\"df_input_M.count(): \"+str(df_input_M_count))\n",
    "df_input_failure_M_count=df_input_failure.filter(F.col(\"i1d_sexo\")=='M').count()\n",
    "print(\"df_input_failure_M.count(): \"+str(df_input_failure_M_count))\n",
    "\n",
    "increase = relativeIncrease(df_input_failure_M_count, df_input_M_count)\n",
    "print(\"df_input_M Increase of: \"+str(increase))\n",
    "print()\n",
    "      \n",
    "i1c_rating_riscos_9_count=df_input.filter(F.col(\"i1c_rating_riscos\")==9).count()\n",
    "print(\"i1c_rating_riscos_9.count(): \"+str(i1c_rating_riscos_9_count))\n",
    "i1c_rating_riscos_failure_9_count=df_input_failure.filter(F.col(\"i1c_rating_riscos\")==9).count()\n",
    "print(\"i1c_rating_riscos_9.count(): \"+str(i1c_rating_riscos_failure_9_count))\n",
    "      \n",
    "increase = relativeIncrease(i1c_rating_riscos_failure_9_count, i1c_rating_riscos_9_count)\n",
    "print(\"i1c_rating_riscos_9 Increase of: \"+str(increase))\n",
    "print()"
   ]
  },
  {
   "cell_type": "code",
   "execution_count": null,
   "metadata": {},
   "outputs": [],
   "source": []
  },
  {
   "cell_type": "markdown",
   "metadata": {
    "execution": {
     "iopub.execute_input": "2022-02-04T00:02:03.391086Z",
     "iopub.status.busy": "2022-02-04T00:02:03.390710Z",
     "iopub.status.idle": "2022-02-04T00:02:03.394480Z",
     "shell.execute_reply": "2022-02-04T00:02:03.393665Z",
     "shell.execute_reply.started": "2022-02-04T00:02:03.391056Z"
    }
   },
   "source": [
    "# 3° dia - Simulando Execucao "
   ]
  },
  {
   "cell_type": "code",
   "execution_count": 28,
   "metadata": {
    "execution": {
     "iopub.execute_input": "2022-02-04T17:19:21.239990Z",
     "iopub.status.busy": "2022-02-04T17:19:21.239716Z",
     "iopub.status.idle": "2022-02-04T17:19:21.357167Z",
     "shell.execute_reply": "2022-02-04T17:19:21.356202Z",
     "shell.execute_reply.started": "2022-02-04T17:19:21.239957Z"
    }
   },
   "outputs": [],
   "source": [
    "dqView_simple = {\"viewName\" : \"dqView_check_moderate\",\n",
    "                 \"inputData\": df_input_failure,\n",
    "                 \"infraYaml\": \"yamlFiles/histogram_anomalyDetec/an_anomalyDetec/infrastructure.yaml\",\n",
    "                 \"vsYaml\": \"yamlFiles/histogram_anomalyDetec/an_anomalyDetec/verificationSuite.yaml\"}\n",
    "\n",
    "dq_bnr_directory=\"/user/x266727/dataquality_bnr-docs/histogram_anomalyDetec/DQ/\""
   ]
  },
  {
   "cell_type": "code",
   "execution_count": 29,
   "metadata": {
    "execution": {
     "iopub.execute_input": "2022-02-04T17:19:21.359563Z",
     "iopub.status.busy": "2022-02-04T17:19:21.359130Z",
     "iopub.status.idle": "2022-02-04T17:21:05.774375Z",
     "shell.execute_reply": "2022-02-04T17:21:05.773077Z",
     "shell.execute_reply.started": "2022-02-04T17:19:21.359529Z"
    }
   },
   "outputs": [
    {
     "name": "stdout",
     "output_type": "stream",
     "text": [
      "__Evaluate DataQuality View and add to Main DataQuality Process__\n",
      "dqView_check_moderate pattern evaluated.\n",
      "\n",
      "\n",
      "__Running all DataQuality views__\n",
      "run() dqView_check_moderate:\n",
      "getPersistentRepository...\n",
      "applyFiltering...\n",
      "buildTemporaryRepository...\n",
      "getDataframe...\n",
      "getAnomalyDetection...\n",
      "getOuputDFs...\n",
      "custom_getAnomalyDetection...\n",
      "getOuputDFs...\n",
      "writeTo_persistentRepository...\n",
      "writeTo_currentResults...\n",
      "DataQuality process finished.\n",
      "\n",
      "\n",
      "__Get overall result__\n",
      "writing to: /user/x266727/dataquality_bnr-docs/histogram_anomalyDetec/DQ/dqView_check_moderate/currentResult/csvResult/dqView_check_moderate_NOK.csv\n",
      "\n",
      "writing to: /user/x266727/dataquality_bnr-docs/histogram_anomalyDetec/DQ/overall/currentResult/csvResult/overall_NOK.csv\n"
     ]
    }
   ],
   "source": [
    "myDq = dqRun.Dq(spark, dq_bnr_directory)\n",
    "\n",
    "myDq = (myDq\n",
    "        .addView(dqView_simple, \"AnomalyDetection\"))\n",
    "        \n",
    "dq_run_return = myDq.run()"
   ]
  },
  {
   "cell_type": "code",
   "execution_count": null,
   "metadata": {},
   "outputs": [],
   "source": []
  },
  {
   "cell_type": "markdown",
   "metadata": {},
   "source": [
    "# 3° dia - Analisando Resultados"
   ]
  },
  {
   "cell_type": "markdown",
   "metadata": {},
   "source": [
    "#### DQ/overall/overall_NOK.csv"
   ]
  },
  {
   "cell_type": "code",
   "execution_count": 31,
   "metadata": {
    "execution": {
     "iopub.execute_input": "2022-02-04T17:21:35.615172Z",
     "iopub.status.busy": "2022-02-04T17:21:35.614678Z",
     "iopub.status.idle": "2022-02-04T17:21:39.521597Z",
     "shell.execute_reply": "2022-02-04T17:21:39.520533Z",
     "shell.execute_reply.started": "2022-02-04T17:21:35.615122Z"
    }
   },
   "outputs": [
    {
     "name": "stdout",
     "output_type": "stream",
     "text": [
      "/user/x266727/dataquality_bnr-docs/histogram_anomalyDetec/DQ//overall/currentResult/csvResult/overall_NOK.csv\n"
     ]
    },
    {
     "data": {
      "text/html": [
       "<div>\n",
       "<style scoped>\n",
       "    .dataframe tbody tr th:only-of-type {\n",
       "        vertical-align: middle;\n",
       "    }\n",
       "\n",
       "    .dataframe tbody tr th {\n",
       "        vertical-align: top;\n",
       "    }\n",
       "\n",
       "    .dataframe thead th {\n",
       "        text-align: right;\n",
       "    }\n",
       "</style>\n",
       "<table border=\"1\" class=\"dataframe\">\n",
       "  <thead>\n",
       "    <tr style=\"text-align: right;\">\n",
       "      <th></th>\n",
       "      <th>check</th>\n",
       "      <th>check_level</th>\n",
       "      <th>check_status</th>\n",
       "      <th>constraint</th>\n",
       "      <th>constraint_status</th>\n",
       "      <th>constraint_message</th>\n",
       "      <th>dataset_date</th>\n",
       "      <th>YY_MM_DD</th>\n",
       "      <th>viewName</th>\n",
       "      <th>viewPath</th>\n",
       "    </tr>\n",
       "  </thead>\n",
       "  <tbody>\n",
       "    <tr>\n",
       "      <th>0</th>\n",
       "      <td>Descpription by Yaml</td>\n",
       "      <td>Error</td>\n",
       "      <td>Error</td>\n",
       "      <td>AnomalyConstraint(Mean(i1c_rating_riscos_Histo...</td>\n",
       "      <td>Failure</td>\n",
       "      <td>Value: 0.7500960707080411 does not meet the co...</td>\n",
       "      <td>1643995237486</td>\n",
       "      <td>2022-02-04</td>\n",
       "      <td>dqView_check_moderate</td>\n",
       "      <td>/user/x266727/dataquality_bnr-docs/histogram_a...</td>\n",
       "    </tr>\n",
       "    <tr>\n",
       "      <th>1</th>\n",
       "      <td>Descpription by Yaml</td>\n",
       "      <td>Error</td>\n",
       "      <td>Error</td>\n",
       "      <td>AnomalyConstraint(Mean(i1d_sexo_Histogram_rati...</td>\n",
       "      <td>Failure</td>\n",
       "      <td>Value: 0.9027376456764487 does not meet the co...</td>\n",
       "      <td>1643995237486</td>\n",
       "      <td>2022-02-04</td>\n",
       "      <td>dqView_check_moderate</td>\n",
       "      <td>/user/x266727/dataquality_bnr-docs/histogram_a...</td>\n",
       "    </tr>\n",
       "  </tbody>\n",
       "</table>\n",
       "</div>"
      ],
      "text/plain": [
       "                  check check_level check_status  \\\n",
       "0  Descpription by Yaml       Error        Error   \n",
       "1  Descpription by Yaml       Error        Error   \n",
       "\n",
       "                                          constraint constraint_status  \\\n",
       "0  AnomalyConstraint(Mean(i1c_rating_riscos_Histo...           Failure   \n",
       "1  AnomalyConstraint(Mean(i1d_sexo_Histogram_rati...           Failure   \n",
       "\n",
       "                                  constraint_message   dataset_date  \\\n",
       "0  Value: 0.7500960707080411 does not meet the co...  1643995237486   \n",
       "1  Value: 0.9027376456764487 does not meet the co...  1643995237486   \n",
       "\n",
       "     YY_MM_DD               viewName  \\\n",
       "0  2022-02-04  dqView_check_moderate   \n",
       "1  2022-02-04  dqView_check_moderate   \n",
       "\n",
       "                                            viewPath  \n",
       "0  /user/x266727/dataquality_bnr-docs/histogram_a...  \n",
       "1  /user/x266727/dataquality_bnr-docs/histogram_a...  "
      ]
     },
     "execution_count": 31,
     "metadata": {},
     "output_type": "execute_result"
    }
   ],
   "source": [
    "path = dq_bnr_directory+'/overall/currentResult/csvResult/overall_NOK.csv'\n",
    "print(path)\n",
    "df = spark.read.option(\"header\",True).csv(path)\n",
    "df.toPandas()"
   ]
  },
  {
   "cell_type": "code",
   "execution_count": null,
   "metadata": {},
   "outputs": [],
   "source": []
  },
  {
   "cell_type": "code",
   "execution_count": 33,
   "metadata": {
    "execution": {
     "iopub.execute_input": "2022-02-04T17:22:00.619033Z",
     "iopub.status.busy": "2022-02-04T17:22:00.618367Z",
     "iopub.status.idle": "2022-02-04T17:22:00.730488Z",
     "shell.execute_reply": "2022-02-04T17:22:00.729743Z",
     "shell.execute_reply.started": "2022-02-04T17:22:00.618961Z"
    }
   },
   "outputs": [],
   "source": [
    "import pandas as pd"
   ]
  },
  {
   "cell_type": "code",
   "execution_count": 34,
   "metadata": {
    "execution": {
     "iopub.execute_input": "2022-02-04T17:22:00.763555Z",
     "iopub.status.busy": "2022-02-04T17:22:00.762798Z",
     "iopub.status.idle": "2022-02-04T17:22:01.604733Z",
     "shell.execute_reply": "2022-02-04T17:22:01.603614Z",
     "shell.execute_reply.started": "2022-02-04T17:22:00.763509Z"
    }
   },
   "outputs": [
    {
     "data": {
      "text/html": [
       "<div>\n",
       "<style scoped>\n",
       "    .dataframe tbody tr th:only-of-type {\n",
       "        vertical-align: middle;\n",
       "    }\n",
       "\n",
       "    .dataframe tbody tr th {\n",
       "        vertical-align: top;\n",
       "    }\n",
       "\n",
       "    .dataframe thead th {\n",
       "        text-align: right;\n",
       "    }\n",
       "</style>\n",
       "<table border=\"1\" class=\"dataframe\">\n",
       "  <thead>\n",
       "    <tr style=\"text-align: right;\">\n",
       "      <th></th>\n",
       "      <th>check_status</th>\n",
       "      <th>constraint</th>\n",
       "      <th>constraint_message</th>\n",
       "    </tr>\n",
       "  </thead>\n",
       "  <tbody>\n",
       "    <tr>\n",
       "      <th>0</th>\n",
       "      <td>Error</td>\n",
       "      <td>AnomalyConstraint(Mean(i1c_rating_riscos_Histogram_ratio_9,None))</td>\n",
       "      <td>Value: 0.7500960707080411 does not meet the constraint requirement!</td>\n",
       "    </tr>\n",
       "    <tr>\n",
       "      <th>1</th>\n",
       "      <td>Error</td>\n",
       "      <td>AnomalyConstraint(Mean(i1d_sexo_Histogram_ratio_M,None))</td>\n",
       "      <td>Value: 0.9027376456764487 does not meet the constraint requirement!</td>\n",
       "    </tr>\n",
       "  </tbody>\n",
       "</table>\n",
       "</div>"
      ],
      "text/plain": [
       "  check_status  \\\n",
       "0        Error   \n",
       "1        Error   \n",
       "\n",
       "                                                          constraint  \\\n",
       "0  AnomalyConstraint(Mean(i1c_rating_riscos_Histogram_ratio_9,None))   \n",
       "1           AnomalyConstraint(Mean(i1d_sexo_Histogram_ratio_M,None))   \n",
       "\n",
       "                                                    constraint_message  \n",
       "0  Value: 0.7500960707080411 does not meet the constraint requirement!  \n",
       "1  Value: 0.9027376456764487 does not meet the constraint requirement!  "
      ]
     },
     "metadata": {},
     "output_type": "display_data"
    }
   ],
   "source": [
    "pd.set_option('display.max_colwidth', None)\n",
    "\n",
    "display(df.select(\"check_status\",\"constraint\",\"constraint_message\").toPandas())\n",
    "\n",
    "pd.set_option('display.max_colwidth', 50)"
   ]
  },
  {
   "cell_type": "code",
   "execution_count": null,
   "metadata": {},
   "outputs": [],
   "source": []
  },
  {
   "cell_type": "markdown",
   "metadata": {},
   "source": [
    "### DQ/view/currentResult/checkResult.parquet"
   ]
  },
  {
   "cell_type": "code",
   "execution_count": 35,
   "metadata": {
    "execution": {
     "iopub.execute_input": "2022-02-04T17:22:10.096513Z",
     "iopub.status.busy": "2022-02-04T17:22:10.096219Z",
     "iopub.status.idle": "2022-02-04T17:22:15.727402Z",
     "shell.execute_reply": "2022-02-04T17:22:15.726689Z",
     "shell.execute_reply.started": "2022-02-04T17:22:10.096486Z"
    }
   },
   "outputs": [
    {
     "name": "stdout",
     "output_type": "stream",
     "text": [
      "/user/x266727/dataquality_bnr-docs/histogram_anomalyDetec/DQ//dqView_check_moderate/currentResult/checkResult.parquet\n",
      "+--------------------+-----------+------------+--------------------+-----------------+--------------------+\n",
      "|               check|check_level|check_status|          constraint|constraint_status|  constraint_message|\n",
      "+--------------------+-----------+------------+--------------------+-----------------+--------------------+\n",
      "|Descpription by Yaml|      Error|       Error|AnomalyConstraint...|          Failure|Value: 0.75009607...|\n",
      "|Descpription by Yaml|      Error|       Error|AnomalyConstraint...|          Failure|Value: 0.90273764...|\n",
      "|Descpription by Yaml|      Error|       Error|AnomalyConstraint...|          Success|                    |\n",
      "|Descpription by Yaml|      Error|       Error|AnomalyConstraint...|          Success|                    |\n",
      "|Descpription by Yaml|      Error|       Error|AnomalyConstraint...|          Success|                    |\n",
      "|Descpription by Yaml|      Error|       Error|AnomalyConstraint...|          Success|                    |\n",
      "|Descpription by Yaml|      Error|       Error|AnomalyConstraint...|          Success|                    |\n",
      "|Descpription by Yaml|      Error|       Error|AnomalyConstraint...|          Success|                    |\n",
      "+--------------------+-----------+------------+--------------------+-----------------+--------------------+\n",
      "\n"
     ]
    }
   ],
   "source": [
    "dqView_name = dqView_simple[\"viewName\"]\n",
    "path = dq_bnr_directory +\"/\"+ dqView_name +'/currentResult/checkResult.parquet'\n",
    "print(path)\n",
    "\n",
    "df = spark.read.parquet(path)\n",
    "df.drop(\"YY_MM_DD\").drop(\"dataset_date\").show()"
   ]
  },
  {
   "cell_type": "code",
   "execution_count": 36,
   "metadata": {
    "execution": {
     "iopub.execute_input": "2022-02-04T17:22:15.728846Z",
     "iopub.status.busy": "2022-02-04T17:22:15.728624Z",
     "iopub.status.idle": "2022-02-04T17:22:19.694664Z",
     "shell.execute_reply": "2022-02-04T17:22:19.693785Z",
     "shell.execute_reply.started": "2022-02-04T17:22:15.728821Z"
    }
   },
   "outputs": [
    {
     "data": {
      "text/html": [
       "<div>\n",
       "<style scoped>\n",
       "    .dataframe tbody tr th:only-of-type {\n",
       "        vertical-align: middle;\n",
       "    }\n",
       "\n",
       "    .dataframe tbody tr th {\n",
       "        vertical-align: top;\n",
       "    }\n",
       "\n",
       "    .dataframe thead th {\n",
       "        text-align: right;\n",
       "    }\n",
       "</style>\n",
       "<table border=\"1\" class=\"dataframe\">\n",
       "  <thead>\n",
       "    <tr style=\"text-align: right;\">\n",
       "      <th></th>\n",
       "      <th>constraint</th>\n",
       "      <th>constraint_status</th>\n",
       "      <th>constraint_message</th>\n",
       "    </tr>\n",
       "  </thead>\n",
       "  <tbody>\n",
       "    <tr>\n",
       "      <th>0</th>\n",
       "      <td>AnomalyConstraint(Mean(i1c_rating_riscos_Histo...</td>\n",
       "      <td>Failure</td>\n",
       "      <td>Value: 0.7500960707080411 does not meet the co...</td>\n",
       "    </tr>\n",
       "    <tr>\n",
       "      <th>1</th>\n",
       "      <td>AnomalyConstraint(Mean(i1d_sexo_Histogram_rati...</td>\n",
       "      <td>Failure</td>\n",
       "      <td>Value: 0.9027376456764487 does not meet the co...</td>\n",
       "    </tr>\n",
       "    <tr>\n",
       "      <th>2</th>\n",
       "      <td>AnomalyConstraint(Mean(i1c_rating_riscos_Histo...</td>\n",
       "      <td>Success</td>\n",
       "      <td></td>\n",
       "    </tr>\n",
       "    <tr>\n",
       "      <th>3</th>\n",
       "      <td>AnomalyConstraint(Mean(i1c_rating_riscos_Histo...</td>\n",
       "      <td>Success</td>\n",
       "      <td></td>\n",
       "    </tr>\n",
       "    <tr>\n",
       "      <th>4</th>\n",
       "      <td>AnomalyConstraint(Mean(i1c_rating_riscos_Histo...</td>\n",
       "      <td>Success</td>\n",
       "      <td></td>\n",
       "    </tr>\n",
       "    <tr>\n",
       "      <th>5</th>\n",
       "      <td>AnomalyConstraint(Mean(i1d_sexo_Histogram_rati...</td>\n",
       "      <td>Success</td>\n",
       "      <td></td>\n",
       "    </tr>\n",
       "    <tr>\n",
       "      <th>6</th>\n",
       "      <td>AnomalyConstraint(Mean(i1d_sexo_Histogram_rati...</td>\n",
       "      <td>Success</td>\n",
       "      <td></td>\n",
       "    </tr>\n",
       "    <tr>\n",
       "      <th>7</th>\n",
       "      <td>AnomalyConstraint(Size(None))</td>\n",
       "      <td>Success</td>\n",
       "      <td></td>\n",
       "    </tr>\n",
       "  </tbody>\n",
       "</table>\n",
       "</div>"
      ],
      "text/plain": [
       "                                          constraint constraint_status  \\\n",
       "0  AnomalyConstraint(Mean(i1c_rating_riscos_Histo...           Failure   \n",
       "1  AnomalyConstraint(Mean(i1d_sexo_Histogram_rati...           Failure   \n",
       "2  AnomalyConstraint(Mean(i1c_rating_riscos_Histo...           Success   \n",
       "3  AnomalyConstraint(Mean(i1c_rating_riscos_Histo...           Success   \n",
       "4  AnomalyConstraint(Mean(i1c_rating_riscos_Histo...           Success   \n",
       "5  AnomalyConstraint(Mean(i1d_sexo_Histogram_rati...           Success   \n",
       "6  AnomalyConstraint(Mean(i1d_sexo_Histogram_rati...           Success   \n",
       "7                      AnomalyConstraint(Size(None))           Success   \n",
       "\n",
       "                                  constraint_message  \n",
       "0  Value: 0.7500960707080411 does not meet the co...  \n",
       "1  Value: 0.9027376456764487 does not meet the co...  \n",
       "2                                                     \n",
       "3                                                     \n",
       "4                                                     \n",
       "5                                                     \n",
       "6                                                     \n",
       "7                                                     "
      ]
     },
     "execution_count": 36,
     "metadata": {},
     "output_type": "execute_result"
    }
   ],
   "source": [
    "df.select(\"constraint\",\"constraint_status\",\"constraint_message\").toPandas()"
   ]
  },
  {
   "cell_type": "code",
   "execution_count": null,
   "metadata": {},
   "outputs": [],
   "source": []
  },
  {
   "cell_type": "markdown",
   "metadata": {},
   "source": [
    "### DQ/view/currentResult/successMetrics.parquet"
   ]
  },
  {
   "cell_type": "code",
   "execution_count": 37,
   "metadata": {
    "execution": {
     "iopub.execute_input": "2022-02-04T17:22:19.696401Z",
     "iopub.status.busy": "2022-02-04T17:22:19.696199Z",
     "iopub.status.idle": "2022-02-04T17:22:25.642856Z",
     "shell.execute_reply": "2022-02-04T17:22:25.642099Z",
     "shell.execute_reply.started": "2022-02-04T17:22:19.696378Z"
    }
   },
   "outputs": [
    {
     "name": "stdout",
     "output_type": "stream",
     "text": [
      "/user/x266727/dataquality_bnr-docs/histogram_anomalyDetec/DQ//dqView_check_moderate/currentResult/successMetrics.parquet\n",
      "+-------+--------------------+----+--------------------+-------------+----------+----+------------+\n",
      "| entity|            instance|name|               value| dataset_date|  YY_MM_DD|tags|check_status|\n",
      "+-------+--------------------+----+--------------------+-------------+----------+----+------------+\n",
      "| Column|i1c_rating_riscos...|Mean|1.016132488896443...|1643995237486|2022-02-04|  []|       Error|\n",
      "| Column|i1c_rating_riscos...|Mean|  0.7500960707080411|1643995237486|2022-02-04|  []|       Error|\n",
      "| Column|i1c_rating_riscos...|Mean| 0.22557771750777802|1643995237486|2022-02-04|  []|       Error|\n",
      "| Column|i1c_rating_riscos...|Mean|0.024224598535291204|1643995237486|2022-02-04|  []|       Error|\n",
      "| Column|i1d_sexo_Histogra...|Mean|  0.9027376456764487|1643995237486|2022-02-04|  []|       Error|\n",
      "| Column|i1d_sexo_Histogra...|Mean|3.916728866291744...|1643995237486|2022-02-04|  []|       Error|\n",
      "| Column|i1d_sexo_Histogra...|Mean| 0.09687068143692219|1643995237486|2022-02-04|  []|       Error|\n",
      "|Dataset|                   *|Size|            541268.0|1643995177273|2022-02-04|  []|       Error|\n",
      "+-------+--------------------+----+--------------------+-------------+----------+----+------------+\n",
      "\n"
     ]
    }
   ],
   "source": [
    "dqView_name = dqView_simple[\"viewName\"]\n",
    "path = dq_bnr_directory +\"/\"+ dqView_name +'/currentResult/successMetrics.parquet'\n",
    "print(path)\n",
    "\n",
    "df = spark.read.parquet(path)\n",
    "df.show()"
   ]
  },
  {
   "cell_type": "code",
   "execution_count": 38,
   "metadata": {
    "execution": {
     "iopub.execute_input": "2022-02-04T17:22:25.644269Z",
     "iopub.status.busy": "2022-02-04T17:22:25.643887Z",
     "iopub.status.idle": "2022-02-04T17:22:29.646235Z",
     "shell.execute_reply": "2022-02-04T17:22:29.644863Z",
     "shell.execute_reply.started": "2022-02-04T17:22:25.644224Z"
    }
   },
   "outputs": [
    {
     "data": {
      "text/html": [
       "<div>\n",
       "<style scoped>\n",
       "    .dataframe tbody tr th:only-of-type {\n",
       "        vertical-align: middle;\n",
       "    }\n",
       "\n",
       "    .dataframe tbody tr th {\n",
       "        vertical-align: top;\n",
       "    }\n",
       "\n",
       "    .dataframe thead th {\n",
       "        text-align: right;\n",
       "    }\n",
       "</style>\n",
       "<table border=\"1\" class=\"dataframe\">\n",
       "  <thead>\n",
       "    <tr style=\"text-align: right;\">\n",
       "      <th></th>\n",
       "      <th>instance</th>\n",
       "      <th>value</th>\n",
       "    </tr>\n",
       "  </thead>\n",
       "  <tbody>\n",
       "    <tr>\n",
       "      <th>0</th>\n",
       "      <td>i1c_rating_riscos_Histogram_ratio_</td>\n",
       "      <td>0.000102</td>\n",
       "    </tr>\n",
       "    <tr>\n",
       "      <th>1</th>\n",
       "      <td>i1c_rating_riscos_Histogram_ratio_9</td>\n",
       "      <td>0.750096</td>\n",
       "    </tr>\n",
       "    <tr>\n",
       "      <th>2</th>\n",
       "      <td>i1c_rating_riscos_Histogram_ratio_M</td>\n",
       "      <td>0.225578</td>\n",
       "    </tr>\n",
       "    <tr>\n",
       "      <th>3</th>\n",
       "      <td>i1c_rating_riscos_Histogram_ratio_F</td>\n",
       "      <td>0.024225</td>\n",
       "    </tr>\n",
       "    <tr>\n",
       "      <th>4</th>\n",
       "      <td>i1d_sexo_Histogram_ratio_M</td>\n",
       "      <td>0.902738</td>\n",
       "    </tr>\n",
       "    <tr>\n",
       "      <th>5</th>\n",
       "      <td>i1d_sexo_Histogram_ratio_</td>\n",
       "      <td>0.000392</td>\n",
       "    </tr>\n",
       "    <tr>\n",
       "      <th>6</th>\n",
       "      <td>i1d_sexo_Histogram_ratio_F</td>\n",
       "      <td>0.096871</td>\n",
       "    </tr>\n",
       "    <tr>\n",
       "      <th>7</th>\n",
       "      <td>*</td>\n",
       "      <td>541268.000000</td>\n",
       "    </tr>\n",
       "  </tbody>\n",
       "</table>\n",
       "</div>"
      ],
      "text/plain": [
       "                              instance          value\n",
       "0  i1c_rating_riscos_Histogram_ratio_        0.000102\n",
       "1  i1c_rating_riscos_Histogram_ratio_9       0.750096\n",
       "2  i1c_rating_riscos_Histogram_ratio_M       0.225578\n",
       "3  i1c_rating_riscos_Histogram_ratio_F       0.024225\n",
       "4           i1d_sexo_Histogram_ratio_M       0.902738\n",
       "5           i1d_sexo_Histogram_ratio_        0.000392\n",
       "6           i1d_sexo_Histogram_ratio_F       0.096871\n",
       "7                                    *  541268.000000"
      ]
     },
     "execution_count": 38,
     "metadata": {},
     "output_type": "execute_result"
    }
   ],
   "source": [
    "df.select(\"instance\",\"value\").toPandas()"
   ]
  },
  {
   "cell_type": "markdown",
   "metadata": {},
   "source": [
    "### DQ/view/persistentRepository/successMetrics.parquet"
   ]
  },
  {
   "cell_type": "code",
   "execution_count": 39,
   "metadata": {
    "execution": {
     "iopub.execute_input": "2022-02-04T17:22:29.648179Z",
     "iopub.status.busy": "2022-02-04T17:22:29.647778Z",
     "iopub.status.idle": "2022-02-04T17:22:35.851075Z",
     "shell.execute_reply": "2022-02-04T17:22:35.850050Z",
     "shell.execute_reply.started": "2022-02-04T17:22:29.648125Z"
    }
   },
   "outputs": [
    {
     "name": "stdout",
     "output_type": "stream",
     "text": [
      "/user/x266727/dataquality_bnr-docs/histogram_anomalyDetec/DQ//dqView_check_moderate/persistentRepository/successMetrics.parquet\n",
      "+------+-----------------------------------+----+-------------------+-------------+----------+----+------------+\n",
      "|entity|instance                           |name|value              |dataset_date |YY_MM_DD  |tags|check_status|\n",
      "+------+-----------------------------------+----+-------------------+-------------+----------+----+------------+\n",
      "|Column|i1d_sexo_Histogram_ratio_M         |Mean|0.6096111353340674 |1643994929878|2022-02-04|[]  |Success     |\n",
      "|Column|i1c_rating_riscos_Histogram_ratio_9|Mean|0.03564408019687105|1643994929878|2022-02-04|[]  |Success     |\n",
      "|Column|i1d_sexo_Histogram_ratio_M         |Mean|0.6096111353340674 |1643995062814|2022-02-04|[]  |Success     |\n",
      "|Column|i1c_rating_riscos_Histogram_ratio_9|Mean|0.03564408019687105|1643995062814|2022-02-04|[]  |Success     |\n",
      "|Column|i1d_sexo_Histogram_ratio_M         |Mean|0.9027376456764487 |1643995237486|2022-02-04|[]  |Error       |\n",
      "|Column|i1c_rating_riscos_Histogram_ratio_9|Mean|0.7500960707080411 |1643995237486|2022-02-04|[]  |Error       |\n",
      "+------+-----------------------------------+----+-------------------+-------------+----------+----+------------+\n",
      "\n"
     ]
    }
   ],
   "source": [
    "dqView_name = dqView_simple[\"viewName\"]\n",
    "path = dq_bnr_directory +\"/\"+ dqView_name +'/persistentRepository/successMetrics.parquet'\n",
    "print(path)\n",
    "df = spark.read.parquet(path)\n",
    "\n",
    "filter_sexo_M = (F.col(\"instance\")==\"i1d_sexo_Histogram_ratio_M\")\n",
    "filter_riscos_9 = (F.col(\"instance\")==\"i1c_rating_riscos_Histogram_ratio_9\")\n",
    "\n",
    "df.filter(filter_sexo_M | filter_riscos_9).orderBy(F.col(\"dataset_date\")).show(truncate=False)"
   ]
  },
  {
   "cell_type": "code",
   "execution_count": null,
   "metadata": {},
   "outputs": [],
   "source": []
  },
  {
   "cell_type": "code",
   "execution_count": null,
   "metadata": {},
   "outputs": [],
   "source": []
  },
  {
   "cell_type": "markdown",
   "metadata": {},
   "source": [
    "#### pydeequ shutdown_callback_server()\n",
    "#### spark.stop()\n",
    "__Importante!__\n",
    "Após a execucao dos jobs, garanta que a sessao __spark__ juntamente com o __callback_server__ sejam encerrados, evitando que qualquer processo \"fantasma\" fique pendurado.<br>\n",
    "Leia mais sobre __Pydeequ__ e __callback_server__ em: https://github.com/awslabs/python-deequ"
   ]
  },
  {
   "cell_type": "code",
   "execution_count": null,
   "metadata": {},
   "outputs": [],
   "source": [
    "spark.sparkContext._gateway.shutdown_callback_server()\n",
    "spark.stop()"
   ]
  }
 ],
 "metadata": {
  "kernelspec": {
   "display_name": "Python 3",
   "language": "python",
   "name": "python3"
  },
  "language_info": {
   "codemirror_mode": {
    "name": "ipython",
    "version": 3
   },
   "file_extension": ".py",
   "mimetype": "text/x-python",
   "name": "python",
   "nbconvert_exporter": "python",
   "pygments_lexer": "ipython3",
   "version": "3.8.3"
  }
 },
 "nbformat": 4,
 "nbformat_minor": 5
}
