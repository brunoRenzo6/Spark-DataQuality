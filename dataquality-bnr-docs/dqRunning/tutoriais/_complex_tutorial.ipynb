{
 "cells": [
  {
   "cell_type": "markdown",
   "id": "35a8cf6e",
   "metadata": {},
   "source": [
    "# dqRunning\n",
    "views"
   ]
  },
  {
   "cell_type": "code",
   "execution_count": 15,
   "id": "0b3cce7c",
   "metadata": {
    "collapsed": true,
    "execution": {
     "iopub.execute_input": "2022-01-26T19:58:09.857816Z",
     "iopub.status.busy": "2022-01-26T19:58:09.857372Z",
     "iopub.status.idle": "2022-01-26T19:58:15.493865Z",
     "shell.execute_reply": "2022-01-26T19:58:15.493049Z",
     "shell.execute_reply.started": "2022-01-26T19:58:09.857777Z"
    },
    "jupyter": {
     "outputs_hidden": true
    }
   },
   "outputs": [
    {
     "name": "stdout",
     "output_type": "stream",
     "text": [
      "\u001b[33mWARNING: The directory '/home/gutenuser/.cache/pip' or its parent directory is not owned or is not writable by the current user. The cache has been disabled. Check the permissions and owner of that directory. If executing pip with sudo, you should use sudo's -H flag.\u001b[0m\n",
      "Looking in indexes: http://artifactory.produbanbr.corp/artifactory/api/pypi/pypi-all/simple\n",
      "Collecting dataquality_bnr\n",
      "  Downloading http://artifactory.produbanbr.corp/artifactory/api/pypi/pypi-all/dataquality-bnr/0.3.2/dataquality_bnr-0.3.2-py3-none-any.whl (1.6 MB)\n",
      "\u001b[K     |████████████████████████████████| 1.6 MB 39.1 MB/s eta 0:00:01\n",
      "\u001b[?25hRequirement already satisfied: pydeequ==1.0.1 in /opt/miniconda/lib/python3.6/site-packages (from dataquality_bnr) (1.0.1)\n",
      "Requirement already satisfied: pandas>=0.23.0 in /opt/miniconda/lib/python3.6/site-packages (from pydeequ==1.0.1->dataquality_bnr) (1.1.5)\n",
      "Requirement already satisfied: numpy>=1.14.1 in /opt/miniconda/lib/python3.6/site-packages (from pydeequ==1.0.1->dataquality_bnr) (1.19.5)\n",
      "Requirement already satisfied: pytz>=2017.2 in /opt/miniconda/lib/python3.6/site-packages (from pandas>=0.23.0->pydeequ==1.0.1->dataquality_bnr) (2021.1)\n",
      "Requirement already satisfied: python-dateutil>=2.7.3 in /opt/miniconda/lib/python3.6/site-packages (from pandas>=0.23.0->pydeequ==1.0.1->dataquality_bnr) (2.8.2)\n",
      "Requirement already satisfied: six>=1.5 in /opt/miniconda/lib/python3.6/site-packages (from python-dateutil>=2.7.3->pandas>=0.23.0->pydeequ==1.0.1->dataquality_bnr) (1.11.0)\n",
      "Installing collected packages: dataquality-bnr\n",
      "Successfully installed dataquality-bnr-0.3.2\n",
      "\u001b[33mWARNING: You are using pip version 21.2.4; however, version 21.3.1 is available.\n",
      "You should consider upgrading via the '/opt/miniconda/bin/python3 -m pip install --upgrade pip' command.\u001b[0m\n"
     ]
    }
   ],
   "source": [
    "!pip install dataquality_bnr"
   ]
  },
  {
   "cell_type": "markdown",
   "id": "7ab53ea0",
   "metadata": {},
   "source": [
    "### Set up a PySpark session\n",
    "A biblioteca foi construida para ser utilizada com __PySpark__ e possibilitar '*testes unitarios dos dados*', executando validacoes qualitativas em datasets de larga escala.</br>\n",
    "A integracao da sessao spark e a biblioteca depende apenas de duas configuracoes adicionais:\n"
   ]
  },
  {
   "cell_type": "code",
   "execution_count": 4,
   "id": "029a52de",
   "metadata": {
    "execution": {
     "iopub.execute_input": "2022-01-26T19:58:28.721575Z",
     "iopub.status.busy": "2022-01-26T19:58:28.721368Z",
     "iopub.status.idle": "2022-01-26T19:59:04.936952Z",
     "shell.execute_reply": "2022-01-26T19:59:04.935527Z",
     "shell.execute_reply.started": "2022-01-26T19:58:28.721553Z"
    }
   },
   "outputs": [],
   "source": [
    "from pyspark.sql import SparkSession, Row\n",
    "from dataquality_bnr.dqSupport import main as dqSup\n",
    "\n",
    "spark = SparkSession\\\n",
    "        .builder\\\n",
    "        .config(\"spark.jars\", dqSup.getDeequJar_path())\\\n",
    "        .config(\"spark.jars.excludes\", dqSup.getDeequJar_excludes())\\\n",
    "        .getOrCreate()"
   ]
  },
  {
   "cell_type": "code",
   "execution_count": 11,
   "id": "fd008a14",
   "metadata": {
    "execution": {
     "iopub.execute_input": "2022-01-26T20:05:53.156886Z",
     "iopub.status.busy": "2022-01-26T20:05:53.156369Z",
     "iopub.status.idle": "2022-01-26T20:05:59.899964Z",
     "shell.execute_reply": "2022-01-26T20:05:59.899235Z",
     "shell.execute_reply.started": "2022-01-26T20:05:53.156843Z"
    }
   },
   "outputs": [
    {
     "name": "stdout",
     "output_type": "stream",
     "text": [
      "22/01/26 17:05:59 INFO fs.TrashPolicyDefault: Moved: 'hdfs://nameservice1/user/x266727/dataquality_bnr-docs/views/DQ' to trash at: hdfs://nameservice1/user/x266727/.Trash/Current/user/x266727/dataquality_bnr-docs/views/DQ\n"
     ]
    }
   ],
   "source": [
    "##Caso queira limpar o diretório antes de iniciar outra vez o tutorial\n",
    "\n",
    "#!hdfs dfs -rm -r /user/x266727/dataquality_bnr-docs/histogram_anomalyDetec/DQ/"
   ]
  },
  {
   "cell_type": "code",
   "execution_count": 6,
   "id": "c0b67685",
   "metadata": {
    "execution": {
     "iopub.execute_input": "2022-01-26T19:59:04.958656Z",
     "iopub.status.busy": "2022-01-26T19:59:04.958221Z",
     "iopub.status.idle": "2022-01-26T19:59:05.019534Z",
     "shell.execute_reply": "2022-01-26T19:59:05.018881Z",
     "shell.execute_reply.started": "2022-01-26T19:59:04.958618Z"
    }
   },
   "outputs": [],
   "source": [
    "from dataquality_bnr.dqRunning import main as dqRun"
   ]
  },
  {
   "cell_type": "code",
   "execution_count": 12,
   "id": "180705e6",
   "metadata": {
    "execution": {
     "iopub.execute_input": "2022-01-26T20:06:02.547383Z",
     "iopub.status.busy": "2022-01-26T20:06:02.547031Z",
     "iopub.status.idle": "2022-01-26T20:06:02.552776Z",
     "shell.execute_reply": "2022-01-26T20:06:02.552039Z",
     "shell.execute_reply.started": "2022-01-26T20:06:02.547351Z"
    }
   },
   "outputs": [],
   "source": [
    "dqView_critical = {\"viewName\" : \"dqView_critical\",\n",
    "                   \"inputData\": \"yamlFiles/views/critical_check/inputData.yaml\",\n",
    "                   \"infraYaml\": \"yamlFiles/views/critical_check/infrastructure.yaml\",\n",
    "                   \"vsYaml\": \"yamlFiles/views/critical_check/verificationSuite.yaml\"}\n",
    "\n",
    "dqView_moderate = {\"viewName\" : \"dqView_check_moderate\",\n",
    "                   \"inputData\": \"yamlFiles/views/moderate_check/inputData.yaml\",\n",
    "                   \"infraYaml\": \"yamlFiles/views/moderate_check/infrastructure.yaml\",\n",
    "                   \"vsYaml\": \"yamlFiles/views/moderate_check/verificationSuite.yaml\"}\n",
    "\n",
    "dqView_ad = {\"viewName\" : \"dqView_ad\",\n",
    "             \"inputData\": \"yamlFiles/views/basic_anomalyDetec/inputData.yaml\",\n",
    "             \"infraYaml\": \"yamlFiles/views/basic_anomalyDetec/infrastructure.yaml\",\n",
    "             \"vsYaml\": \"yamlFiles/views/basic_anomalyDetec/verificationSuite.yaml\"}"
   ]
  },
  {
   "cell_type": "code",
   "execution_count": 13,
   "id": "3873f2d9",
   "metadata": {
    "execution": {
     "iopub.execute_input": "2022-01-26T20:06:02.675298Z",
     "iopub.status.busy": "2022-01-26T20:06:02.674222Z",
     "iopub.status.idle": "2022-01-26T20:07:03.926690Z",
     "shell.execute_reply": "2022-01-26T20:07:03.923852Z",
     "shell.execute_reply.started": "2022-01-26T20:06:02.675253Z"
    }
   },
   "outputs": [
    {
     "name": "stdout",
     "output_type": "stream",
     "text": [
      "__Evaluate DataQuality View and add to Main DataQuality Process__\n",
      "dqView_critical pattern evaluated.\n",
      "__Evaluate DataQuality View and add to Main DataQuality Process__\n",
      "dqView_check_moderate pattern evaluated.\n",
      "__Evaluate DataQuality View and add to Main DataQuality Process__\n",
      "dqView_ad pattern evaluated.\n",
      "\n",
      "\n",
      "__Running all DataQuality views__\n",
      "run() dqView_critical:\n",
      "getDataframe...\n",
      "getCheck...\n",
      "getOuputDFs...\n",
      "writeTo_persistentRepository...\n",
      "writeTo_currentResults...\n",
      "DataQuality process finished.\n",
      "\n",
      "run() dqView_check_moderate:\n",
      "getDataframe...\n",
      "getCheck...\n",
      "getOuputDFs...\n",
      "writeTo_persistentRepository...\n",
      "writeTo_currentResults...\n",
      "DataQuality process finished.\n",
      "\n",
      "run() dqView_ad:\n",
      "getPersistentRepository...\n",
      "applyFiltering...\n",
      "buildTemporaryRepository...\n",
      "getDataframe...\n",
      "getAnomalyDetection...\n",
      "getOuputDFs...\n",
      "As AnomalyDetection temporaryRepository is still empty. Forcing Success Outcome\n",
      "writeTo_persistentRepository...\n",
      "writeTo_currentResults...\n",
      "DataQuality process finished.\n",
      "\n",
      "\n",
      "__Get overall result__\n",
      "writing to: /user/x266727/dataquality_bnr-docs/views/DQ/dqView_critical/currentResult/csvResult/dqView_critical_OK.csv\n",
      "writing to: /user/x266727/dataquality_bnr-docs/views/DQ/dqView_check_moderate/currentResult/csvResult/dqView_check_moderate_OK.csv\n",
      "writing to: /user/x266727/dataquality_bnr-docs/views/DQ/dqView_ad/currentResult/csvResult/dqView_ad_OK.csv\n",
      "\n",
      "writing to: /user/x266727/dataquality_bnr-docs/views/DQ/overall/currentResult/csvResult/overall_OK.csv\n"
     ]
    }
   ],
   "source": [
    "myDq = dqRun.Dq(spark, \"/user/x266727/dataquality_bnr-docs/views/DQ/\")\n",
    "\n",
    "myDq = (myDq\n",
    "        .addView(dqView_critical, \"Check\")\n",
    "        .addView(dqView_moderate, \"Check\")\n",
    "        .addView(dqView_ad, \"AnomalyDetection\"))\n",
    "        \n",
    "dq_run_return = myDq.run()"
   ]
  },
  {
   "cell_type": "code",
   "execution_count": null,
   "id": "b134c30d",
   "metadata": {},
   "outputs": [],
   "source": []
  },
  {
   "cell_type": "code",
   "execution_count": 16,
   "id": "87f34188",
   "metadata": {
    "execution": {
     "iopub.execute_input": "2022-01-26T20:07:23.298378Z",
     "iopub.status.busy": "2022-01-26T20:07:23.297816Z",
     "iopub.status.idle": "2022-01-26T20:07:23.308637Z",
     "shell.execute_reply": "2022-01-26T20:07:23.306583Z",
     "shell.execute_reply.started": "2022-01-26T20:07:23.298318Z"
    }
   },
   "outputs": [
    {
     "data": {
      "text/plain": [
       "True"
      ]
     },
     "execution_count": 16,
     "metadata": {},
     "output_type": "execute_result"
    }
   ],
   "source": [
    "dq_run_return.get_overall_booleanResult()"
   ]
  },
  {
   "cell_type": "code",
   "execution_count": 17,
   "id": "83002a8e",
   "metadata": {
    "execution": {
     "iopub.execute_input": "2022-01-26T20:07:23.402818Z",
     "iopub.status.busy": "2022-01-26T20:07:23.402333Z",
     "iopub.status.idle": "2022-01-26T20:07:27.191193Z",
     "shell.execute_reply": "2022-01-26T20:07:27.190091Z",
     "shell.execute_reply.started": "2022-01-26T20:07:23.402778Z"
    }
   },
   "outputs": [
    {
     "data": {
      "text/html": [
       "<div>\n",
       "<style scoped>\n",
       "    .dataframe tbody tr th:only-of-type {\n",
       "        vertical-align: middle;\n",
       "    }\n",
       "\n",
       "    .dataframe tbody tr th {\n",
       "        vertical-align: top;\n",
       "    }\n",
       "\n",
       "    .dataframe thead th {\n",
       "        text-align: right;\n",
       "    }\n",
       "</style>\n",
       "<table border=\"1\" class=\"dataframe\">\n",
       "  <thead>\n",
       "    <tr style=\"text-align: right;\">\n",
       "      <th></th>\n",
       "      <th>check</th>\n",
       "      <th>check_level</th>\n",
       "      <th>check_status</th>\n",
       "      <th>constraint</th>\n",
       "      <th>constraint_status</th>\n",
       "      <th>constraint_message</th>\n",
       "      <th>dataset_date</th>\n",
       "      <th>YY_MM_DD</th>\n",
       "      <th>viewName</th>\n",
       "      <th>viewPath</th>\n",
       "    </tr>\n",
       "  </thead>\n",
       "  <tbody>\n",
       "    <tr>\n",
       "      <th>0</th>\n",
       "      <td>Cheking Metrics of Moderate severity</td>\n",
       "      <td>Warning</td>\n",
       "      <td>Warning</td>\n",
       "      <td>ComplianceConstraint(Compliance(i1c_cli_possui...</td>\n",
       "      <td>Failure</td>\n",
       "      <td>Value: 0.6206814369221901 does not meet the co...</td>\n",
       "      <td>1643227581826</td>\n",
       "      <td>2022-01-26</td>\n",
       "      <td>dqView_check_moderate</td>\n",
       "      <td>/user/x266727/dataquality_bnr-docs/views/DQ/dq...</td>\n",
       "    </tr>\n",
       "    <tr>\n",
       "      <th>1</th>\n",
       "      <td>Follow Table Size Changes</td>\n",
       "      <td>Warning</td>\n",
       "      <td>Success</td>\n",
       "      <td>AnomalyConstraint(Size(None))</td>\n",
       "      <td>Failure</td>\n",
       "      <td>Can't execute the assertion: requirement faile...</td>\n",
       "      <td>1643227592337</td>\n",
       "      <td>2022-01-26</td>\n",
       "      <td>dqView_ad</td>\n",
       "      <td>/user/x266727/dataquality_bnr-docs/views/DQ/dq...</td>\n",
       "    </tr>\n",
       "  </tbody>\n",
       "</table>\n",
       "</div>"
      ],
      "text/plain": [
       "                                  check check_level check_status  \\\n",
       "0  Cheking Metrics of Moderate severity     Warning      Warning   \n",
       "1             Follow Table Size Changes     Warning      Success   \n",
       "\n",
       "                                          constraint constraint_status  \\\n",
       "0  ComplianceConstraint(Compliance(i1c_cli_possui...           Failure   \n",
       "1                      AnomalyConstraint(Size(None))           Failure   \n",
       "\n",
       "                                  constraint_message   dataset_date  \\\n",
       "0  Value: 0.6206814369221901 does not meet the co...  1643227581826   \n",
       "1  Can't execute the assertion: requirement faile...  1643227592337   \n",
       "\n",
       "     YY_MM_DD               viewName  \\\n",
       "0  2022-01-26  dqView_check_moderate   \n",
       "1  2022-01-26              dqView_ad   \n",
       "\n",
       "                                            viewPath  \n",
       "0  /user/x266727/dataquality_bnr-docs/views/DQ/dq...  \n",
       "1  /user/x266727/dataquality_bnr-docs/views/DQ/dq...  "
      ]
     },
     "execution_count": 17,
     "metadata": {},
     "output_type": "execute_result"
    }
   ],
   "source": [
    "csvResult_df = dq_run_return.get_overall_csvResult_df(spark)\n",
    "csvResult_df.toPandas()"
   ]
  },
  {
   "cell_type": "code",
   "execution_count": null,
   "id": "a04c6902",
   "metadata": {},
   "outputs": [],
   "source": []
  },
  {
   "cell_type": "code",
   "execution_count": null,
   "id": "3ec527fc",
   "metadata": {},
   "outputs": [],
   "source": []
  },
  {
   "cell_type": "markdown",
   "id": "215a791c",
   "metadata": {},
   "source": [
    "#### pydeequ shutdown_callback_server()\n",
    "#### spark.stop()\n",
    "__Importante!__\n",
    "Após a execucao dos jobs, garanta que a sessao __spark__ juntamente com o __callback_server__ sejam encerrados, evitando que qualquer processo \"fantasma\" fique pendurado.<br>\n",
    "Leia mais sobre __Pydeequ__ e __callback_server__ em: https://github.com/awslabs/python-deequ"
   ]
  },
  {
   "cell_type": "code",
   "execution_count": null,
   "id": "b4028298",
   "metadata": {},
   "outputs": [],
   "source": [
    "spark.sparkContext._gateway.shutdown_callback_server()\n",
    "spark.stop()"
   ]
  }
 ],
 "metadata": {
  "kernelspec": {
   "display_name": "Python 3",
   "language": "python",
   "name": "python3"
  },
  "language_info": {
   "codemirror_mode": {
    "name": "ipython",
    "version": 3
   },
   "file_extension": ".py",
   "mimetype": "text/x-python",
   "name": "python",
   "nbconvert_exporter": "python",
   "pygments_lexer": "ipython3",
   "version": "3.6.10"
  }
 },
 "nbformat": 4,
 "nbformat_minor": 5
}
