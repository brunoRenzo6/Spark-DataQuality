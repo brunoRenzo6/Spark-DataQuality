{
 "cells": [
  {
   "cell_type": "markdown",
   "id": "b5ef10db",
   "metadata": {},
   "source": [
    "# dqRunning\n",
    "### quick_tutorial"
   ]
  },
  {
   "cell_type": "markdown",
   "id": "9b7c3731",
   "metadata": {},
   "source": [
    "__O objetivo desse tutorial é apresentar de maneira rápida as principais funcionalidades da biblioteca dataquality_bnr__. A biblioteca traz diversos módulos que tornam os processos necessários à validacao qualitativa dos dados/tableas uma tarefa muito mais simples, intuitiva e automatizada."
   ]
  },
  {
   "cell_type": "markdown",
   "id": "fc1df9ae",
   "metadata": {},
   "source": [
    "### Installation"
   ]
  },
  {
   "cell_type": "markdown",
   "id": "75acdc50",
   "metadata": {},
   "source": [
    "O primeiro passo é fazer a instalacao do pacote via *pip install*"
   ]
  },
  {
   "cell_type": "code",
   "execution_count": 1,
   "id": "632b4d2c",
   "metadata": {
    "collapsed": true,
    "execution": {
     "iopub.execute_input": "2022-01-04T21:49:05.281513Z",
     "iopub.status.busy": "2022-01-04T21:49:05.281165Z",
     "iopub.status.idle": "2022-01-04T21:49:09.361239Z",
     "shell.execute_reply": "2022-01-04T21:49:09.359974Z",
     "shell.execute_reply.started": "2022-01-04T21:49:05.281473Z"
    },
    "jupyter": {
     "outputs_hidden": true
    }
   },
   "outputs": [
    {
     "name": "stdout",
     "output_type": "stream",
     "text": [
      "\u001b[33mWARNING: The directory '/home/gutenuser/.cache/pip' or its parent directory is not owned or is not writable by the current user. The cache has been disabled. Check the permissions and owner of that directory. If executing pip with sudo, you should use sudo's -H flag.\u001b[0m\n",
      "Looking in indexes: http://artifactory.produbanbr.corp/artifactory/api/pypi/pypi-all/simple\n",
      "Collecting dataquality_bnr\n",
      "  Downloading http://artifactory.produbanbr.corp/artifactory/api/pypi/pypi-all/dataquality-bnr/0.2.9.3/dataquality_bnr-0.2.9.3-py3-none-any.whl (1.6 MB)\n",
      "\u001b[K     |████████████████████████████████| 1.6 MB 4.9 MB/s eta 0:00:01\n",
      "\u001b[?25hRequirement already satisfied: pydeequ==1.0.1 in /opt/miniconda/lib/python3.6/site-packages (from dataquality_bnr) (1.0.1)\n",
      "Requirement already satisfied: pandas>=0.23.0 in /opt/miniconda/lib/python3.6/site-packages (from pydeequ==1.0.1->dataquality_bnr) (1.1.5)\n",
      "Requirement already satisfied: numpy>=1.14.1 in /opt/miniconda/lib/python3.6/site-packages (from pydeequ==1.0.1->dataquality_bnr) (1.19.5)\n",
      "Requirement already satisfied: pytz>=2017.2 in /opt/miniconda/lib/python3.6/site-packages (from pandas>=0.23.0->pydeequ==1.0.1->dataquality_bnr) (2021.1)\n",
      "Requirement already satisfied: python-dateutil>=2.7.3 in /opt/miniconda/lib/python3.6/site-packages (from pandas>=0.23.0->pydeequ==1.0.1->dataquality_bnr) (2.8.2)\n",
      "Requirement already satisfied: six>=1.5 in /opt/miniconda/lib/python3.6/site-packages (from python-dateutil>=2.7.3->pandas>=0.23.0->pydeequ==1.0.1->dataquality_bnr) (1.11.0)\n",
      "Installing collected packages: dataquality-bnr\n",
      "Successfully installed dataquality-bnr-0.2.9.3\n",
      "\u001b[33mWARNING: You are using pip version 21.2.4; however, version 21.3.1 is available.\n",
      "You should consider upgrading via the '/opt/miniconda/bin/python3 -m pip install --upgrade pip' command.\u001b[0m\n"
     ]
    }
   ],
   "source": [
    "!pip install dataquality_bnr"
   ]
  },
  {
   "cell_type": "markdown",
   "id": "476755ec",
   "metadata": {},
   "source": [
    "### Set up a PySpark session\n",
    "A biblioteca foi construida para ser utilizada com __PySpark__ e possibilitar '*testes unitarios dos dados*', executando validacoes qualitativas em datasets de larga escala.</br>\n",
    "A integracao da sessao spark e a biblioteca depende apenas de duas configuracoes adicionais:\n"
   ]
  },
  {
   "cell_type": "code",
   "execution_count": 1,
   "id": "ac102ec8",
   "metadata": {
    "execution": {
     "iopub.execute_input": "2022-01-26T19:17:37.108012Z",
     "iopub.status.busy": "2022-01-26T19:17:37.107742Z",
     "iopub.status.idle": "2022-01-26T19:17:37.126513Z",
     "shell.execute_reply": "2022-01-26T19:17:37.125705Z",
     "shell.execute_reply.started": "2022-01-26T19:17:37.107970Z"
    }
   },
   "outputs": [],
   "source": [
    "from pyspark.sql import SparkSession, Row\n",
    "from dataquality_bnr.dqSupport import main as dqSup\n",
    "\n",
    "spark = SparkSession\\\n",
    "        .builder\\\n",
    "        .config(\"spark.jars\", dqSup.getDeequJar_path())\\\n",
    "        .config(\"spark.jars.excludes\", dqSup.getDeequJar_excludes())\\\n",
    "        .getOrCreate()"
   ]
  },
  {
   "cell_type": "markdown",
   "id": "2d343ae5",
   "metadata": {},
   "source": [
    "### Defining dataquality views \n",
    "A partir da definicao de tres arquivos .yaml é feita toda a etruturacao necessaria ao processo de dataquality.\n",
    "* Em *inputData* é definida qual a tabela de entrada.\n",
    "* Em *infraYaml* sao definidas particularidades da infraestrutura do dataquality.\n",
    "* Em *vsYaml* sao definidas todas as vericacoes a serem feitas na tabela de entrada."
   ]
  },
  {
   "cell_type": "code",
   "execution_count": 7,
   "id": "c7bc0719",
   "metadata": {
    "execution": {
     "iopub.execute_input": "2022-01-26T19:23:33.781447Z",
     "iopub.status.busy": "2022-01-26T19:23:33.780835Z",
     "iopub.status.idle": "2022-01-26T19:23:33.785394Z",
     "shell.execute_reply": "2022-01-26T19:23:33.784654Z",
     "shell.execute_reply.started": "2022-01-26T19:23:33.781410Z"
    }
   },
   "outputs": [],
   "source": [
    "dqView_simple = {\"viewName\" : \"dqView_check_moderate\",\n",
    "                 \"inputData\": \"yamlFiles/quick_tutorial/a_check/inputData.yaml\",\n",
    "                 \"infraYaml\": \"yamlFiles/quick_tutorial/a_check/infrastructure.yaml\",\n",
    "                 \"vsYaml\": \"yamlFiles/quick_tutorial/a_check/verificationSuite.yaml\"}"
   ]
  },
  {
   "cell_type": "markdown",
   "id": "390ef56a",
   "metadata": {},
   "source": [
    "### Set up & run()\n",
    "Com a estrutura da 'view' já definida, é necessária agora, apenas a __atribuicao de um diretório raiz__.<br>\n",
    "O diretório informado servira como um espaco disponivel a essa instancia especifica do dataquality, onde serao armazenadas variaveis internas e também serao apresentados resultados, como por exemplo, arquivos .parquet e .csv resultantes das execusoes.\n"
   ]
  },
  {
   "cell_type": "code",
   "execution_count": null,
   "id": "bdc5e6bf",
   "metadata": {},
   "outputs": [],
   "source": [
    "from dataquality_bnr.dqRunning import main as dqRun\n",
    "\n",
    "myDq = dqRun.Dq(spark, \"/user/x266727/dataquality_bnr-docs/quick_tutorial/DQ/\")\n",
    "\n",
    "myDq = (myDq\n",
    "        .addView(dqView_simple, \"Check\"))\n",
    "\n",
    "dq_run_return = myDq.run()"
   ]
  },
  {
   "cell_type": "markdown",
   "id": "a7ee3487",
   "metadata": {
    "execution": {
     "iopub.execute_input": "2022-01-27T14:03:51.321005Z",
     "iopub.status.busy": "2022-01-27T14:03:51.320539Z",
     "iopub.status.idle": "2022-01-27T14:03:51.325914Z",
     "shell.execute_reply": "2022-01-27T14:03:51.324564Z",
     "shell.execute_reply.started": "2022-01-27T14:03:51.320939Z"
    }
   },
   "source": [
    "### dq_run_return\n",
    "Todos os resultados estao armazenados na estrutura interna de diretórios do seu processo de dataquality, e também, nesse objeto de retorno 'dq_run_return'.\n",
    "Interagindo com esse objeto podemos carregar os resultados obtidos utilizando dois principais métodos:\n",
    "* Com *get_overall_booleanResult* temos uma váriavel True ou False da aprovacao ou nao aprovacao da tabela de entrada.\n",
    "* Com *get_overall_csvResult_df* temos um dataframe com a listagem de todos os possíveis Erros ou Alertas encontrados em validacoes feitas na tabela de entrada"
   ]
  },
  {
   "cell_type": "code",
   "execution_count": 18,
   "id": "69577544",
   "metadata": {
    "execution": {
     "iopub.execute_input": "2022-01-26T19:30:28.419276Z",
     "iopub.status.busy": "2022-01-26T19:30:28.418903Z",
     "iopub.status.idle": "2022-01-26T19:30:28.423912Z",
     "shell.execute_reply": "2022-01-26T19:30:28.423175Z",
     "shell.execute_reply.started": "2022-01-26T19:30:28.419234Z"
    }
   },
   "outputs": [
    {
     "data": {
      "text/plain": [
       "True"
      ]
     },
     "execution_count": 18,
     "metadata": {},
     "output_type": "execute_result"
    }
   ],
   "source": [
    "dq_run_return.get_overall_booleanResult()"
   ]
  },
  {
   "cell_type": "code",
   "execution_count": 19,
   "id": "fdcca73e",
   "metadata": {
    "execution": {
     "iopub.execute_input": "2022-01-26T19:30:28.566907Z",
     "iopub.status.busy": "2022-01-26T19:30:28.566579Z",
     "iopub.status.idle": "2022-01-26T19:30:32.236916Z",
     "shell.execute_reply": "2022-01-26T19:30:32.236204Z",
     "shell.execute_reply.started": "2022-01-26T19:30:28.566875Z"
    }
   },
   "outputs": [
    {
     "data": {
      "text/html": [
       "<div>\n",
       "<style scoped>\n",
       "    .dataframe tbody tr th:only-of-type {\n",
       "        vertical-align: middle;\n",
       "    }\n",
       "\n",
       "    .dataframe tbody tr th {\n",
       "        vertical-align: top;\n",
       "    }\n",
       "\n",
       "    .dataframe thead th {\n",
       "        text-align: right;\n",
       "    }\n",
       "</style>\n",
       "<table border=\"1\" class=\"dataframe\">\n",
       "  <thead>\n",
       "    <tr style=\"text-align: right;\">\n",
       "      <th></th>\n",
       "      <th>check</th>\n",
       "      <th>check_level</th>\n",
       "      <th>check_status</th>\n",
       "      <th>constraint</th>\n",
       "      <th>constraint_status</th>\n",
       "      <th>constraint_message</th>\n",
       "      <th>dataset_date</th>\n",
       "      <th>YY_MM_DD</th>\n",
       "      <th>viewName</th>\n",
       "      <th>viewPath</th>\n",
       "    </tr>\n",
       "  </thead>\n",
       "  <tbody>\n",
       "    <tr>\n",
       "      <th>0</th>\n",
       "      <td>None</td>\n",
       "      <td>None</td>\n",
       "      <td>Success</td>\n",
       "      <td>None</td>\n",
       "      <td>None</td>\n",
       "      <td>None</td>\n",
       "      <td>None</td>\n",
       "      <td>None</td>\n",
       "      <td>overall</td>\n",
       "      <td>None</td>\n",
       "    </tr>\n",
       "  </tbody>\n",
       "</table>\n",
       "</div>"
      ],
      "text/plain": [
       "  check check_level check_status constraint constraint_status  \\\n",
       "0  None        None      Success       None              None   \n",
       "\n",
       "  constraint_message dataset_date YY_MM_DD viewName viewPath  \n",
       "0               None         None     None  overall     None  "
      ]
     },
     "execution_count": 19,
     "metadata": {},
     "output_type": "execute_result"
    }
   ],
   "source": [
    "csvResult_df = dq_run_return.get_overall_csvResult_df(spark)\n",
    "csvResult_df.toPandas()"
   ]
  },
  {
   "cell_type": "code",
   "execution_count": null,
   "id": "889d08ac",
   "metadata": {},
   "outputs": [],
   "source": []
  },
  {
   "cell_type": "code",
   "execution_count": null,
   "id": "ad16563b",
   "metadata": {},
   "outputs": [],
   "source": []
  },
  {
   "cell_type": "markdown",
   "id": "e9e1ed30",
   "metadata": {},
   "source": [
    "#### pydeequ shutdown_callback_server()\n",
    "#### spark.stop()\n",
    "__Importante!__\n",
    "Após a execucao dos jobs, garanta que a sessao __spark__ juntamente com o __callback_server__ sejam encerrados, evitando que qualquer processo \"fantasma\" fique pendurado.<br>\n",
    "Leia mais sobre __Pydeequ__ e __callback_server__ em: https://github.com/awslabs/python-deequ"
   ]
  },
  {
   "cell_type": "code",
   "execution_count": null,
   "id": "93bf5131",
   "metadata": {},
   "outputs": [],
   "source": [
    "spark.sparkContext._gateway.shutdown_callback_server()\n",
    "spark.stop()"
   ]
  }
 ],
 "metadata": {
  "kernelspec": {
   "display_name": "Python 3",
   "language": "python",
   "name": "python3"
  },
  "language_info": {
   "codemirror_mode": {
    "name": "ipython",
    "version": 3
   },
   "file_extension": ".py",
   "mimetype": "text/x-python",
   "name": "python",
   "nbconvert_exporter": "python",
   "pygments_lexer": "ipython3",
   "version": "3.6.10"
  }
 },
 "nbformat": 4,
 "nbformat_minor": 5
}
