{
 "cells": [
  {
   "cell_type": "markdown",
   "id": "094203d2",
   "metadata": {
    "execution": {
     "iopub.execute_input": "2022-01-25T20:10:51.055789Z",
     "iopub.status.busy": "2022-01-25T20:10:51.055490Z",
     "iopub.status.idle": "2022-01-25T20:10:51.060962Z",
     "shell.execute_reply": "2022-01-25T20:10:51.059577Z",
     "shell.execute_reply.started": "2022-01-25T20:10:51.055764Z"
    }
   },
   "source": [
    "# dqRunning\n",
    "### satisfies Check\n",
    "\n",
    "```yaml\n",
    "Check: {\n",
    "    level: Error, \n",
    "    description: 'CheckObject by yaml File'\n",
    "}\n",
    "\n",
    "Constraints: [\n",
    "    addConstraint: {\n",
    "        check_method: satisfies(),\n",
    "        columnCondition: \"i1c_rating_riscos = 9\",\n",
    "        constraintName: \"isRating9\",\n",
    "        assertion: \"lambda x: x>0.2\"\n",
    "    }\n",
    "    \n",
    "]\n",
    "\n",
    "```"
   ]
  },
  {
   "cell_type": "markdown",
   "id": "fdf29000",
   "metadata": {},
   "source": [
    "### Installation"
   ]
  },
  {
   "cell_type": "markdown",
   "id": "5aa120a4",
   "metadata": {},
   "source": [
    "O primeiro passo é fazer a instalacao do pacote via *pip install*"
   ]
  },
  {
   "cell_type": "code",
   "execution_count": 4,
   "id": "6397dfca",
   "metadata": {
    "execution": {
     "iopub.execute_input": "2022-02-04T22:43:58.268343Z",
     "iopub.status.busy": "2022-02-04T22:43:58.267971Z",
     "iopub.status.idle": "2022-02-04T22:43:58.272328Z",
     "shell.execute_reply": "2022-02-04T22:43:58.271509Z",
     "shell.execute_reply.started": "2022-02-04T22:43:58.268306Z"
    }
   },
   "outputs": [],
   "source": [
    "!pip install dataquality_bnr"
   ]
  },
  {
   "cell_type": "markdown",
   "id": "54ab5435",
   "metadata": {
    "execution": {
     "iopub.execute_input": "2022-01-26T15:00:24.818265Z",
     "iopub.status.busy": "2022-01-26T15:00:24.817932Z",
     "iopub.status.idle": "2022-01-26T15:00:24.836100Z",
     "shell.execute_reply": "2022-01-26T15:00:24.835229Z",
     "shell.execute_reply.started": "2022-01-26T15:00:24.818229Z"
    }
   },
   "source": [
    "### Set up a PySpark session\n",
    "A biblioteca foi construida para ser utilizada com __PySpark__ e possibilitar '*testes unitarios dos dados*', executando validacoes qualitativas em datasets de larga escala.</br>\n",
    "A integracao da sessao spark e a biblioteca depende apenas de duas configuracoes adicionais:\n"
   ]
  },
  {
   "cell_type": "code",
   "execution_count": 5,
   "id": "b308946f",
   "metadata": {
    "execution": {
     "iopub.execute_input": "2022-02-04T22:44:02.453314Z",
     "iopub.status.busy": "2022-02-04T22:44:02.453010Z",
     "iopub.status.idle": "2022-02-04T22:44:42.679333Z",
     "shell.execute_reply": "2022-02-04T22:44:42.678232Z",
     "shell.execute_reply.started": "2022-02-04T22:44:02.453288Z"
    }
   },
   "outputs": [],
   "source": [
    "from pyspark.sql import SparkSession, Row\n",
    "from dataquality_bnr.dqSupport import main as dqSup\n",
    "\n",
    "spark = SparkSession.builder\\\n",
    "        .appName(\"pdq_helloWorld\")\\\n",
    "        .enableHiveSupport()\\\n",
    "        .config(\"spark.sql.catalogImplementation\",\"hive\")\\\n",
    "        .config(\"spark.jars\", dqSup.getDeequJar_path())\\\n",
    "        .config(\"spark.jars.excludes\", dqSup.getDeequJar_excludes())\\\n",
    "        .config(\"spark.executor.memory\",\"12g\")\\\n",
    "        .config(\"spark.executor.memoryOverhead\",\"8g\")\\\n",
    "        .config(\"spark.shuffle.service.enabled\",\"true\")\\\n",
    "        .config(\"spark.dynamicAllocation.enabled\",\"true\")\\\n",
    "        .config(\"spark.dynamicAllocation.initialExecutors\",\"1\")\\\n",
    "        .config(\"spark.dynamicAllocation.maxExecutors\",\"32\")\\\n",
    "        .config(\"spark.dynamicAllocation.minExecutors\",\"1\")\\\n",
    "        .config(\"spark.executor.cores\",\"2\")\\\n",
    "        .config(\"spark.driver.memory\",\"12g\")\\\n",
    "        .config(\"spark.driver.maxResultSize\",\"8g\")\\\n",
    "        .config(\"spark.network.timeout\",\"8000\")\\\n",
    "        .config(\"spark.hadoop.hive.metastore.client.socket.timeout\",\"900\")\\\n",
    "        .config(\"spark.sql.hive.convertMetastoreParquet\",\"true\")\\\n",
    "        .config(\"spark.sql.broadcastTimeout\",\"36000\")\\\n",
    "        .config(\"spark.ui.killEnabled\",\"true\")\\\n",
    "        .config('spark.yarn.queue','root.gapl_plataf_projetos_motores_decisao')\\\n",
    "        .getOrCreate()"
   ]
  },
  {
   "cell_type": "code",
   "execution_count": 6,
   "id": "339de344",
   "metadata": {
    "execution": {
     "iopub.execute_input": "2022-02-04T22:44:42.681034Z",
     "iopub.status.busy": "2022-02-04T22:44:42.680801Z",
     "iopub.status.idle": "2022-02-04T22:44:42.691274Z",
     "shell.execute_reply": "2022-02-04T22:44:42.690313Z",
     "shell.execute_reply.started": "2022-02-04T22:44:42.681008Z"
    }
   },
   "outputs": [
    {
     "data": {
      "text/html": [
       "\n",
       "            <div>\n",
       "                <p><b>SparkSession - hive</b></p>\n",
       "                \n",
       "        <div>\n",
       "            <p><b>SparkContext</b></p>\n",
       "\n",
       "            <p><a href=\"http://ocpapphvlbrn024.bs.br.bsch:4040\">Spark UI</a></p>\n",
       "\n",
       "            <dl>\n",
       "              <dt>Version</dt>\n",
       "                <dd><code>v2.4.0-cdh6.3.4</code></dd>\n",
       "              <dt>Master</dt>\n",
       "                <dd><code>yarn</code></dd>\n",
       "              <dt>AppName</dt>\n",
       "                <dd><code>pdq_helloWorld</code></dd>\n",
       "            </dl>\n",
       "        </div>\n",
       "        \n",
       "            </div>\n",
       "        "
      ],
      "text/plain": [
       "<pyspark.sql.session.SparkSession at 0x7f89b8aad630>"
      ]
     },
     "execution_count": 6,
     "metadata": {},
     "output_type": "execute_result"
    }
   ],
   "source": [
    "spark"
   ]
  },
  {
   "cell_type": "markdown",
   "id": "edd631ec",
   "metadata": {
    "execution": {
     "iopub.execute_input": "2021-10-13T20:39:02.840536Z",
     "iopub.status.busy": "2021-10-13T20:39:02.840048Z",
     "iopub.status.idle": "2021-10-13T20:39:02.856396Z",
     "shell.execute_reply": "2021-10-13T20:39:02.854108Z",
     "shell.execute_reply.started": "2021-10-13T20:39:02.840491Z"
    }
   },
   "source": [
    "### Dataset\n",
    "We will be running the analyzers on a dataset sampled from th.thbpd38 table"
   ]
  },
  {
   "cell_type": "code",
   "execution_count": 7,
   "id": "8210e1f2",
   "metadata": {
    "execution": {
     "iopub.execute_input": "2022-02-04T22:44:47.964614Z",
     "iopub.status.busy": "2022-02-04T22:44:47.964325Z",
     "iopub.status.idle": "2022-02-04T22:44:55.610332Z",
     "shell.execute_reply": "2022-02-04T22:44:55.609627Z",
     "shell.execute_reply.started": "2022-02-04T22:44:47.964588Z"
    }
   },
   "outputs": [],
   "source": [
    "sql_query = \"\"\"\n",
    "select\n",
    "    i1c_renda_final,\n",
    "    i1c_lim_pre_ap_preventivo,\n",
    "    i1c_rating_riscos,\n",
    "    i1d_idade,\n",
    "    i1d_sexo,\n",
    "    i1c_cli_possui_conta,\n",
    "    i1c_soc_cd_segm_empr1,\n",
    "    i1c_soc_cd_ramo_atvd1,\n",
    "    dat_ref_carga\n",
    "from th.thbpd381 where dat_ref_carga='2022-01-03'\n",
    "\"\"\"\n",
    "df_input = spark.sql(sql_query)"
   ]
  },
  {
   "cell_type": "code",
   "execution_count": 8,
   "id": "95e296cc",
   "metadata": {
    "execution": {
     "iopub.execute_input": "2022-02-04T22:44:55.611674Z",
     "iopub.status.busy": "2022-02-04T22:44:55.611465Z",
     "iopub.status.idle": "2022-02-04T22:44:55.673415Z",
     "shell.execute_reply": "2022-02-04T22:44:55.672401Z",
     "shell.execute_reply.started": "2022-02-04T22:44:55.611643Z"
    }
   },
   "outputs": [
    {
     "name": "stdout",
     "output_type": "stream",
     "text": [
      "root\n",
      " |-- i1c_renda_final: integer (nullable = true)\n",
      " |-- i1c_lim_pre_ap_preventivo: integer (nullable = true)\n",
      " |-- i1c_rating_riscos: integer (nullable = true)\n",
      " |-- i1d_idade: integer (nullable = true)\n",
      " |-- i1d_sexo: string (nullable = true)\n",
      " |-- i1c_cli_possui_conta: string (nullable = true)\n",
      " |-- i1c_soc_cd_segm_empr1: integer (nullable = true)\n",
      " |-- i1c_soc_cd_ramo_atvd1: integer (nullable = true)\n",
      " |-- dat_ref_carga: string (nullable = true)\n",
      "\n"
     ]
    }
   ],
   "source": [
    "df_input.printSchema()"
   ]
  },
  {
   "cell_type": "markdown",
   "id": "db3ba1e2",
   "metadata": {},
   "source": [
    "### Set up & run()"
   ]
  },
  {
   "cell_type": "code",
   "execution_count": 9,
   "id": "09e82bc9",
   "metadata": {
    "execution": {
     "iopub.execute_input": "2022-02-04T22:44:55.675015Z",
     "iopub.status.busy": "2022-02-04T22:44:55.674794Z",
     "iopub.status.idle": "2022-02-04T22:44:55.689823Z",
     "shell.execute_reply": "2022-02-04T22:44:55.688906Z",
     "shell.execute_reply.started": "2022-02-04T22:44:55.674992Z"
    }
   },
   "outputs": [],
   "source": [
    "from dataquality_bnr.dqRunning import main as dqRun"
   ]
  },
  {
   "cell_type": "code",
   "execution_count": 10,
   "id": "7fd62982",
   "metadata": {
    "execution": {
     "iopub.execute_input": "2022-02-04T22:44:55.691563Z",
     "iopub.status.busy": "2022-02-04T22:44:55.691321Z",
     "iopub.status.idle": "2022-02-04T22:44:55.695435Z",
     "shell.execute_reply": "2022-02-04T22:44:55.694687Z",
     "shell.execute_reply.started": "2022-02-04T22:44:55.691540Z"
    }
   },
   "outputs": [],
   "source": [
    "dqView1 = {\"viewName\" : \"dqView_Check\",\n",
    "           \"inputData\": df_input,\n",
    "           \"infraYaml\": \"yamlFiles/satisfies_check/a_check/infrastructure.yaml\",\n",
    "           \"vsYaml\": \"yamlFiles/satisfies_check/a_check/verificationSuite_idea.yaml\"}\n",
    "\n",
    "dq_bnr_directory = \"/user/x266727/dataquality_bnr-docs/satisfies_check/DQ\""
   ]
  },
  {
   "cell_type": "code",
   "execution_count": null,
   "id": "15d0c94b",
   "metadata": {},
   "outputs": [],
   "source": [
    "myDq = dqRun.Dq(spark, dq_bnr_directory)\n",
    "\n",
    "myDq = (myDq\n",
    "        .addView(dqView1, \"Check\"))\n",
    "        \n",
    "dq_run_return = myDq.run()"
   ]
  },
  {
   "cell_type": "markdown",
   "id": "72f06ff0",
   "metadata": {
    "execution": {
     "iopub.execute_input": "2022-02-04T22:31:12.870170Z",
     "iopub.status.busy": "2022-02-04T22:31:12.869577Z",
     "iopub.status.idle": "2022-02-04T22:31:12.876493Z",
     "shell.execute_reply": "2022-02-04T22:31:12.875535Z",
     "shell.execute_reply.started": "2022-02-04T22:31:12.870113Z"
    }
   },
   "source": [
    "## Analisando Resultados"
   ]
  },
  {
   "cell_type": "code",
   "execution_count": 15,
   "id": "99d18be2",
   "metadata": {
    "execution": {
     "iopub.execute_input": "2022-02-04T22:46:03.501618Z",
     "iopub.status.busy": "2022-02-04T22:46:03.501093Z",
     "iopub.status.idle": "2022-02-04T22:46:03.506186Z",
     "shell.execute_reply": "2022-02-04T22:46:03.505190Z",
     "shell.execute_reply.started": "2022-02-04T22:46:03.501556Z"
    }
   },
   "outputs": [],
   "source": [
    "import pandas as pd"
   ]
  },
  {
   "cell_type": "code",
   "execution_count": 16,
   "id": "a690426c",
   "metadata": {
    "execution": {
     "iopub.execute_input": "2022-02-04T22:46:03.622952Z",
     "iopub.status.busy": "2022-02-04T22:46:03.622474Z",
     "iopub.status.idle": "2022-02-04T22:46:03.628211Z",
     "shell.execute_reply": "2022-02-04T22:46:03.627148Z",
     "shell.execute_reply.started": "2022-02-04T22:46:03.622909Z"
    }
   },
   "outputs": [
    {
     "data": {
      "text/plain": [
       "False"
      ]
     },
     "execution_count": 16,
     "metadata": {},
     "output_type": "execute_result"
    }
   ],
   "source": [
    "dq_run_return.get_overall_booleanResult()"
   ]
  },
  {
   "cell_type": "markdown",
   "id": "99aedc5e",
   "metadata": {},
   "source": [
    "#### DQ/overall/overall_OK.csv"
   ]
  },
  {
   "cell_type": "code",
   "execution_count": 17,
   "id": "80fd67a6",
   "metadata": {
    "execution": {
     "iopub.execute_input": "2022-02-04T22:46:03.853405Z",
     "iopub.status.busy": "2022-02-04T22:46:03.853074Z",
     "iopub.status.idle": "2022-02-04T22:46:08.495979Z",
     "shell.execute_reply": "2022-02-04T22:46:08.494945Z",
     "shell.execute_reply.started": "2022-02-04T22:46:03.853376Z"
    }
   },
   "outputs": [
    {
     "data": {
      "text/html": [
       "<div>\n",
       "<style scoped>\n",
       "    .dataframe tbody tr th:only-of-type {\n",
       "        vertical-align: middle;\n",
       "    }\n",
       "\n",
       "    .dataframe tbody tr th {\n",
       "        vertical-align: top;\n",
       "    }\n",
       "\n",
       "    .dataframe thead th {\n",
       "        text-align: right;\n",
       "    }\n",
       "</style>\n",
       "<table border=\"1\" class=\"dataframe\">\n",
       "  <thead>\n",
       "    <tr style=\"text-align: right;\">\n",
       "      <th></th>\n",
       "      <th>check</th>\n",
       "      <th>check_level</th>\n",
       "      <th>check_status</th>\n",
       "      <th>constraint</th>\n",
       "      <th>constraint_status</th>\n",
       "      <th>constraint_message</th>\n",
       "      <th>dataset_date</th>\n",
       "      <th>YY_MM_DD</th>\n",
       "      <th>viewName</th>\n",
       "      <th>viewPath</th>\n",
       "    </tr>\n",
       "  </thead>\n",
       "  <tbody>\n",
       "    <tr>\n",
       "      <th>0</th>\n",
       "      <td>CheckObject by yaml File</td>\n",
       "      <td>Error</td>\n",
       "      <td>Error</td>\n",
       "      <td>SizeConstraint(Size(None))</td>\n",
       "      <td>Failure</td>\n",
       "      <td>Value: 541268 does not meet the constraint req...</td>\n",
       "      <td>1644014715176</td>\n",
       "      <td>2022-02-04</td>\n",
       "      <td>dqView_Check</td>\n",
       "      <td>/user/x266727/dataquality_bnr-docs/satisfies_c...</td>\n",
       "    </tr>\n",
       "    <tr>\n",
       "      <th>1</th>\n",
       "      <td>CheckObject by yaml File</td>\n",
       "      <td>Error</td>\n",
       "      <td>Error</td>\n",
       "      <td>ComplianceConstraint(Compliance(isRating9,i1c_...</td>\n",
       "      <td>Failure</td>\n",
       "      <td>Value: 0.03564408019687105 does not meet the c...</td>\n",
       "      <td>1644014715176</td>\n",
       "      <td>2022-02-04</td>\n",
       "      <td>dqView_Check</td>\n",
       "      <td>/user/x266727/dataquality_bnr-docs/satisfies_c...</td>\n",
       "    </tr>\n",
       "  </tbody>\n",
       "</table>\n",
       "</div>"
      ],
      "text/plain": [
       "                      check check_level check_status  \\\n",
       "0  CheckObject by yaml File       Error        Error   \n",
       "1  CheckObject by yaml File       Error        Error   \n",
       "\n",
       "                                          constraint constraint_status  \\\n",
       "0                         SizeConstraint(Size(None))           Failure   \n",
       "1  ComplianceConstraint(Compliance(isRating9,i1c_...           Failure   \n",
       "\n",
       "                                  constraint_message   dataset_date  \\\n",
       "0  Value: 541268 does not meet the constraint req...  1644014715176   \n",
       "1  Value: 0.03564408019687105 does not meet the c...  1644014715176   \n",
       "\n",
       "     YY_MM_DD      viewName                                           viewPath  \n",
       "0  2022-02-04  dqView_Check  /user/x266727/dataquality_bnr-docs/satisfies_c...  \n",
       "1  2022-02-04  dqView_Check  /user/x266727/dataquality_bnr-docs/satisfies_c...  "
      ]
     },
     "execution_count": 17,
     "metadata": {},
     "output_type": "execute_result"
    }
   ],
   "source": [
    "csvResult_df = dq_run_return.get_overall_csvResult_df(spark)\n",
    "csvResult_df.toPandas()"
   ]
  },
  {
   "cell_type": "code",
   "execution_count": 18,
   "id": "7b33d556",
   "metadata": {
    "execution": {
     "iopub.execute_input": "2022-02-04T22:46:08.497769Z",
     "iopub.status.busy": "2022-02-04T22:46:08.497505Z",
     "iopub.status.idle": "2022-02-04T22:46:09.709273Z",
     "shell.execute_reply": "2022-02-04T22:46:09.708693Z",
     "shell.execute_reply.started": "2022-02-04T22:46:08.497739Z"
    }
   },
   "outputs": [
    {
     "data": {
      "text/html": [
       "<div>\n",
       "<style scoped>\n",
       "    .dataframe tbody tr th:only-of-type {\n",
       "        vertical-align: middle;\n",
       "    }\n",
       "\n",
       "    .dataframe tbody tr th {\n",
       "        vertical-align: top;\n",
       "    }\n",
       "\n",
       "    .dataframe thead th {\n",
       "        text-align: right;\n",
       "    }\n",
       "</style>\n",
       "<table border=\"1\" class=\"dataframe\">\n",
       "  <thead>\n",
       "    <tr style=\"text-align: right;\">\n",
       "      <th></th>\n",
       "      <th>constraint</th>\n",
       "      <th>constraint_message</th>\n",
       "    </tr>\n",
       "  </thead>\n",
       "  <tbody>\n",
       "    <tr>\n",
       "      <th>0</th>\n",
       "      <td>SizeConstraint(Size(None))</td>\n",
       "      <td>Value: 541268 does not meet the constraint requirement!</td>\n",
       "    </tr>\n",
       "    <tr>\n",
       "      <th>1</th>\n",
       "      <td>ComplianceConstraint(Compliance(isRating9,i1c_rating_riscos = 9,None))</td>\n",
       "      <td>Value: 0.03564408019687105 does not meet the constraint requirement!</td>\n",
       "    </tr>\n",
       "  </tbody>\n",
       "</table>\n",
       "</div>"
      ],
      "text/plain": [
       "                                                               constraint  \\\n",
       "0                                              SizeConstraint(Size(None))   \n",
       "1  ComplianceConstraint(Compliance(isRating9,i1c_rating_riscos = 9,None))   \n",
       "\n",
       "                                                     constraint_message  \n",
       "0               Value: 541268 does not meet the constraint requirement!  \n",
       "1  Value: 0.03564408019687105 does not meet the constraint requirement!  "
      ]
     },
     "metadata": {},
     "output_type": "display_data"
    }
   ],
   "source": [
    "pd.set_option('display.max_colwidth', None)\n",
    "\n",
    "display(csvResult_df.select(\"constraint\", \"constraint_message\").toPandas())\n",
    "\n",
    "pd.set_option('display.max_colwidth', 50)"
   ]
  },
  {
   "cell_type": "code",
   "execution_count": null,
   "id": "fbd59806",
   "metadata": {},
   "outputs": [],
   "source": []
  },
  {
   "cell_type": "code",
   "execution_count": null,
   "id": "03fdd464",
   "metadata": {},
   "outputs": [],
   "source": []
  },
  {
   "cell_type": "markdown",
   "id": "9e60e0c5",
   "metadata": {
    "execution": {
     "iopub.execute_input": "2022-02-04T22:33:56.261875Z",
     "iopub.status.busy": "2022-02-04T22:33:56.261497Z",
     "iopub.status.idle": "2022-02-04T22:33:56.266508Z",
     "shell.execute_reply": "2022-02-04T22:33:56.265200Z",
     "shell.execute_reply.started": "2022-02-04T22:33:56.261842Z"
    }
   },
   "source": [
    "## Indo mais a fundo"
   ]
  },
  {
   "cell_type": "markdown",
   "id": "1b42aa24",
   "metadata": {},
   "source": [
    "#### DQ/view/currentResult/checkResult.parquet"
   ]
  },
  {
   "cell_type": "code",
   "execution_count": 19,
   "id": "7854cda8",
   "metadata": {
    "execution": {
     "iopub.execute_input": "2022-02-04T22:46:09.754564Z",
     "iopub.status.busy": "2022-02-04T22:46:09.754010Z",
     "iopub.status.idle": "2022-02-04T22:46:12.254983Z",
     "shell.execute_reply": "2022-02-04T22:46:12.254278Z",
     "shell.execute_reply.started": "2022-02-04T22:46:09.754529Z"
    }
   },
   "outputs": [
    {
     "name": "stdout",
     "output_type": "stream",
     "text": [
      "/user/x266727/dataquality_bnr-docs/satisfies_check/DQ/dqView_Check/currentResult/checkResult.parquet\n",
      "+--------------------+-----------+------------+--------------------+-----------------+--------------------+\n",
      "|               check|check_level|check_status|          constraint|constraint_status|  constraint_message|\n",
      "+--------------------+-----------+------------+--------------------+-----------------+--------------------+\n",
      "|CheckObject by ya...|      Error|       Error|SizeConstraint(Si...|          Failure|Value: 541268 doe...|\n",
      "|CheckObject by ya...|      Error|       Error|ComplianceConstra...|          Failure|Value: 0.03564408...|\n",
      "|CheckObject by ya...|      Error|       Error|ApproxCountDistin...|          Success|                    |\n",
      "+--------------------+-----------+------------+--------------------+-----------------+--------------------+\n",
      "\n"
     ]
    }
   ],
   "source": [
    "dqView_name = dqView1[\"viewName\"]\n",
    "path = dq_bnr_directory +\"/\"+ dqView_name +'/currentResult/checkResult.parquet'\n",
    "print(path)\n",
    "\n",
    "df = spark.read.parquet(path)\n",
    "df.drop(\"YY_MM_DD\").drop(\"dataset_date\").show()"
   ]
  },
  {
   "cell_type": "code",
   "execution_count": 20,
   "id": "b5a04ddf",
   "metadata": {
    "execution": {
     "iopub.execute_input": "2022-02-04T22:46:12.257751Z",
     "iopub.status.busy": "2022-02-04T22:46:12.257306Z",
     "iopub.status.idle": "2022-02-04T22:46:13.503862Z",
     "shell.execute_reply": "2022-02-04T22:46:13.503143Z",
     "shell.execute_reply.started": "2022-02-04T22:46:12.257688Z"
    }
   },
   "outputs": [
    {
     "data": {
      "text/html": [
       "<div>\n",
       "<style scoped>\n",
       "    .dataframe tbody tr th:only-of-type {\n",
       "        vertical-align: middle;\n",
       "    }\n",
       "\n",
       "    .dataframe tbody tr th {\n",
       "        vertical-align: top;\n",
       "    }\n",
       "\n",
       "    .dataframe thead th {\n",
       "        text-align: right;\n",
       "    }\n",
       "</style>\n",
       "<table border=\"1\" class=\"dataframe\">\n",
       "  <thead>\n",
       "    <tr style=\"text-align: right;\">\n",
       "      <th></th>\n",
       "      <th>constraint</th>\n",
       "      <th>constraint_status</th>\n",
       "    </tr>\n",
       "  </thead>\n",
       "  <tbody>\n",
       "    <tr>\n",
       "      <th>0</th>\n",
       "      <td>SizeConstraint(Size(None))</td>\n",
       "      <td>Failure</td>\n",
       "    </tr>\n",
       "    <tr>\n",
       "      <th>1</th>\n",
       "      <td>ComplianceConstraint(Compliance(isRating9,i1c_...</td>\n",
       "      <td>Failure</td>\n",
       "    </tr>\n",
       "    <tr>\n",
       "      <th>2</th>\n",
       "      <td>ApproxCountDistinctConstraint(ApproxCountDisti...</td>\n",
       "      <td>Success</td>\n",
       "    </tr>\n",
       "  </tbody>\n",
       "</table>\n",
       "</div>"
      ],
      "text/plain": [
       "                                          constraint constraint_status\n",
       "0                         SizeConstraint(Size(None))           Failure\n",
       "1  ComplianceConstraint(Compliance(isRating9,i1c_...           Failure\n",
       "2  ApproxCountDistinctConstraint(ApproxCountDisti...           Success"
      ]
     },
     "execution_count": 20,
     "metadata": {},
     "output_type": "execute_result"
    }
   ],
   "source": [
    "df.select(\"constraint\",\"constraint_status\").toPandas()"
   ]
  },
  {
   "cell_type": "markdown",
   "id": "a8388531",
   "metadata": {},
   "source": [
    "#### DQ/view/currentResult/successMetrics.parquet"
   ]
  },
  {
   "cell_type": "code",
   "execution_count": 21,
   "id": "ce30f236",
   "metadata": {
    "execution": {
     "iopub.execute_input": "2022-02-04T22:46:13.505174Z",
     "iopub.status.busy": "2022-02-04T22:46:13.504919Z",
     "iopub.status.idle": "2022-02-04T22:46:16.410196Z",
     "shell.execute_reply": "2022-02-04T22:46:16.409210Z",
     "shell.execute_reply.started": "2022-02-04T22:46:13.505146Z"
    }
   },
   "outputs": [
    {
     "name": "stdout",
     "output_type": "stream",
     "text": [
      "/user/x266727/dataquality_bnr-docs/satisfies_check/DQ/dqView_Check/currentResult/successMetrics.parquet\n",
      "+-------+---------+-------------------+-------------------+-------------+----------+----+------------+\n",
      "| entity| instance|               name|              value| dataset_date|  YY_MM_DD|tags|check_status|\n",
      "+-------+---------+-------------------+-------------------+-------------+----------+----+------------+\n",
      "| Column| i1d_sexo|ApproxCountDistinct|                3.0|1644014715176|2022-02-04|  []|       Error|\n",
      "|Dataset|        *|               Size|           541268.0|1644014715176|2022-02-04|  []|       Error|\n",
      "| Column|isRating9|         Compliance|0.03564408019687105|1644014715176|2022-02-04|  []|       Error|\n",
      "+-------+---------+-------------------+-------------------+-------------+----------+----+------------+\n",
      "\n"
     ]
    }
   ],
   "source": [
    "dqView_name = dqView1[\"viewName\"]\n",
    "path = dq_bnr_directory +\"/\"+ dqView_name +'/currentResult/successMetrics.parquet'\n",
    "print(path)\n",
    "\n",
    "df = spark.read.parquet(path)\n",
    "df.show()"
   ]
  },
  {
   "cell_type": "code",
   "execution_count": 22,
   "id": "2503e6e1",
   "metadata": {
    "execution": {
     "iopub.execute_input": "2022-02-04T22:46:16.411891Z",
     "iopub.status.busy": "2022-02-04T22:46:16.411617Z",
     "iopub.status.idle": "2022-02-04T22:46:17.554824Z",
     "shell.execute_reply": "2022-02-04T22:46:17.486189Z",
     "shell.execute_reply.started": "2022-02-04T22:46:16.411849Z"
    }
   },
   "outputs": [
    {
     "data": {
      "text/html": [
       "<div>\n",
       "<style scoped>\n",
       "    .dataframe tbody tr th:only-of-type {\n",
       "        vertical-align: middle;\n",
       "    }\n",
       "\n",
       "    .dataframe tbody tr th {\n",
       "        vertical-align: top;\n",
       "    }\n",
       "\n",
       "    .dataframe thead th {\n",
       "        text-align: right;\n",
       "    }\n",
       "</style>\n",
       "<table border=\"1\" class=\"dataframe\">\n",
       "  <thead>\n",
       "    <tr style=\"text-align: right;\">\n",
       "      <th></th>\n",
       "      <th>instance</th>\n",
       "      <th>value</th>\n",
       "    </tr>\n",
       "  </thead>\n",
       "  <tbody>\n",
       "    <tr>\n",
       "      <th>0</th>\n",
       "      <td>i1d_sexo</td>\n",
       "      <td>3.000000</td>\n",
       "    </tr>\n",
       "    <tr>\n",
       "      <th>1</th>\n",
       "      <td>*</td>\n",
       "      <td>541268.000000</td>\n",
       "    </tr>\n",
       "    <tr>\n",
       "      <th>2</th>\n",
       "      <td>isRating9</td>\n",
       "      <td>0.035644</td>\n",
       "    </tr>\n",
       "  </tbody>\n",
       "</table>\n",
       "</div>"
      ],
      "text/plain": [
       "    instance          value\n",
       "0   i1d_sexo       3.000000\n",
       "1          *  541268.000000\n",
       "2  isRating9       0.035644"
      ]
     },
     "execution_count": 22,
     "metadata": {},
     "output_type": "execute_result"
    }
   ],
   "source": [
    "df.select(\"instance\",\"value\").toPandas()"
   ]
  },
  {
   "cell_type": "code",
   "execution_count": null,
   "id": "95178361",
   "metadata": {},
   "outputs": [],
   "source": []
  },
  {
   "cell_type": "code",
   "execution_count": null,
   "id": "e1b189d2",
   "metadata": {},
   "outputs": [],
   "source": []
  },
  {
   "cell_type": "markdown",
   "id": "abd8fffd",
   "metadata": {},
   "source": [
    "#### pydeequ shutdown_callback_server()\n",
    "#### spark.stop()\n",
    "__Importante!__\n",
    "Após a execucao dos jobs, garanta que a sessao __spark__ juntamente com o __callback_server__ sejam encerrados, evitando que qualquer processo \"fantasma\" fique pendurado.<br>\n",
    "Leia mais sobre __Pydeequ__ e __callback_server__ em: https://github.com/awslabs/python-deequ"
   ]
  },
  {
   "cell_type": "code",
   "execution_count": null,
   "id": "e29e6071",
   "metadata": {},
   "outputs": [],
   "source": [
    "spark.sparkContext._gateway.shutdown_callback_server()\n",
    "spark.stop()"
   ]
  }
 ],
 "metadata": {
  "kernelspec": {
   "display_name": "Python 3",
   "language": "python",
   "name": "python3"
  },
  "language_info": {
   "codemirror_mode": {
    "name": "ipython",
    "version": 3
   },
   "file_extension": ".py",
   "mimetype": "text/x-python",
   "name": "python",
   "nbconvert_exporter": "python",
   "pygments_lexer": "ipython3",
   "version": "3.6.10"
  }
 },
 "nbformat": 4,
 "nbformat_minor": 5
}
